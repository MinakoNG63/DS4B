{
  "nbformat": 4,
  "nbformat_minor": 0,
  "metadata": {
    "kernelspec": {
      "display_name": "Python 3",
      "language": "python",
      "name": "python3"
    },
    "language_info": {
      "codemirror_mode": {
        "name": "ipython",
        "version": 3
      },
      "file_extension": ".py",
      "mimetype": "text/x-python",
      "name": "python",
      "nbconvert_exporter": "python",
      "pygments_lexer": "ipython3",
      "version": "3.7.3"
    },
    "colab": {
      "provenance": [],
      "include_colab_link": true
    }
  },
  "cells": [
    {
      "cell_type": "markdown",
      "metadata": {
        "id": "view-in-github",
        "colab_type": "text"
      },
      "source": [
        "<a href=\"https://colab.research.google.com/github/MinakoNG63/DSFB/blob/main/04_Python_Function_and_Object_63070240.ipynb\" target=\"_parent\"><img src=\"https://colab.research.google.com/assets/colab-badge.svg\" alt=\"Open In Colab\"/></a>"
      ]
    },
    {
      "cell_type": "markdown",
      "metadata": {
        "id": "xOkvP5Y3PIia"
      },
      "source": [
        "# Python Function and Object\n",
        "\n",
        "Term 1 2022 - Instructor: Teerapong Leelanupab\n",
        "\n",
        "Teaching Assistant:\n",
        "1. Piyawat Chuangkrud (Sam)\n",
        "2. Suvapat Manu (Mint)\n",
        "\n",
        "***"
      ]
    },
    {
      "cell_type": "markdown",
      "metadata": {
        "id": "T2338MGp_ACn"
      },
      "source": [
        "# Part 1 - Python Function\n",
        "\n",
        "## Calling Functions\n",
        "\n",
        "Functions in Python are used to encapsulate code. They are run only when you call them with parenthesis notation, specifiying zero or more input arguments.\n"
      ]
    },
    {
      "cell_type": "code",
      "metadata": {
        "colab": {
          "base_uri": "https://localhost:8080/"
        },
        "id": "Fg2lcYyu_NJr",
        "outputId": "5e651fb9-461d-4b74-d18e-673b8bcec9d9"
      },
      "source": [
        "print(\"This is a test\")"
      ],
      "execution_count": null,
      "outputs": [
        {
          "output_type": "stream",
          "name": "stdout",
          "text": [
            "This is a test\n"
          ]
        }
      ]
    },
    {
      "cell_type": "markdown",
      "metadata": {
        "id": "Smh_He2P_NMq"
      },
      "source": [
        "In many cases, functions will return a value as an output:"
      ]
    },
    {
      "cell_type": "code",
      "metadata": {
        "colab": {
          "base_uri": "https://localhost:8080/"
        },
        "id": "TSvkjC_D_BYl",
        "outputId": "8777b826-910c-4e61-d770-08e834ff073b"
      },
      "source": [
        "x = abs(-15)   # call built-in absolute value function\n",
        "print(x)"
      ],
      "execution_count": null,
      "outputs": [
        {
          "output_type": "stream",
          "name": "stdout",
          "text": [
            "15\n"
          ]
        }
      ]
    },
    {
      "cell_type": "code",
      "metadata": {
        "colab": {
          "base_uri": "https://localhost:8080/"
        },
        "id": "GXSgKR2A_BcQ",
        "outputId": "6e392f75-1eb9-4719-a0f2-6e7171883fe6"
      },
      "source": [
        "y = int(\"200\") # call built-in function to convert string to an integer\n",
        "print(y)"
      ],
      "execution_count": null,
      "outputs": [
        {
          "output_type": "stream",
          "name": "stdout",
          "text": [
            "200\n"
          ]
        }
      ]
    },
    {
      "cell_type": "markdown",
      "metadata": {
        "id": "w9ccEtcT_Z4W"
      },
      "source": [
        "To get information about a built-in function in Python, call the *help()* function and pass the function name:"
      ]
    },
    {
      "cell_type": "code",
      "metadata": {
        "colab": {
          "base_uri": "https://localhost:8080/"
        },
        "id": "SVlgJYRJ_Z7d",
        "outputId": "0c609fad-1002-45c6-afaf-088864729565"
      },
      "source": [
        "help(abs)"
      ],
      "execution_count": null,
      "outputs": [
        {
          "output_type": "stream",
          "name": "stdout",
          "text": [
            "Help on built-in function abs in module builtins:\n",
            "\n",
            "abs(x, /)\n",
            "    Return the absolute value of the argument.\n",
            "\n"
          ]
        }
      ]
    },
    {
      "cell_type": "markdown",
      "metadata": {
        "id": "oehfQZda_Z-Z"
      },
      "source": [
        "### Defining Your Own Functions\n",
        "\n",
        "We create new a function in Python using the *def* keyword, followed by a block of code. To define a function we need:\n",
        "- A function name\n",
        "- Zero or more input arguments\n",
        "- An optional output value, specified via return keyword\n",
        "- A block of code\n",
        "\n",
        "\n",
        "**Arguments**: In the simplest case, we have no input arguments and nothing returned. We define a function by starting with *def*, followed by the name of the function, followed by parentheses, then a colon, and finally by the indented block of code which implements the function."
      ]
    },
    {
      "cell_type": "code",
      "metadata": {
        "id": "88zgy-I5_aAX"
      },
      "source": [
        "def show_message():\n",
        "  print(\"This will just display a message\")"
      ],
      "execution_count": null,
      "outputs": []
    },
    {
      "cell_type": "markdown",
      "metadata": {
        "id": "Q0R43ZLx_aDS"
      },
      "source": [
        "The next example function has a single mandatory argument:"
      ]
    },
    {
      "cell_type": "code",
      "metadata": {
        "id": "NMkrpwt9_aFn"
      },
      "source": [
        "def remove_spaces( s ):\n",
        "  print( s.replace(\" \", \"\") )"
      ],
      "execution_count": null,
      "outputs": []
    },
    {
      "cell_type": "code",
      "metadata": {
        "colab": {
          "base_uri": "https://localhost:8080/"
        },
        "id": "sMskTQvr_Bex",
        "outputId": "008293ad-f955-4f8e-abe8-c6b89b0905ef"
      },
      "source": [
        "remove_spaces(\"Faculty of Information Technology, King Mongkut's Institute of Technology Ladkrabang\")"
      ],
      "execution_count": null,
      "outputs": [
        {
          "output_type": "stream",
          "name": "stdout",
          "text": [
            "FacultyofInformationTechnology,KingMongkut'sInstituteofTechnologyLadkrabang\n"
          ]
        }
      ]
    },
    {
      "cell_type": "markdown",
      "metadata": {
        "id": "kjzZ7NxR_Bhw"
      },
      "source": [
        "For functions taking multiple arguments, these are specified as a comma-separated list:"
      ]
    },
    {
      "cell_type": "code",
      "metadata": {
        "id": "rQDRR2BT_8vm"
      },
      "source": [
        "def show_age( name, age ):\n",
        "  print(name, \"is\", age, \"years old\")"
      ],
      "execution_count": null,
      "outputs": []
    },
    {
      "cell_type": "code",
      "metadata": {
        "colab": {
          "base_uri": "https://localhost:8080/"
        },
        "id": "FIq7uhbY_8yk",
        "outputId": "ba39d4c5-ce4e-47ad-8193-300860cab32e"
      },
      "source": [
        "show_age( \"Alice\", 26)"
      ],
      "execution_count": null,
      "outputs": [
        {
          "output_type": "stream",
          "name": "stdout",
          "text": [
            "Alice is 26 years old\n"
          ]
        }
      ]
    },
    {
      "cell_type": "markdown",
      "metadata": {
        "id": "dA08TbZY_817"
      },
      "source": [
        "We can define functions that have default values for some or all of their arguments."
      ]
    },
    {
      "cell_type": "code",
      "metadata": {
        "id": "IOFmanO1_83Q"
      },
      "source": [
        "def show_age( name, age = 20 ):\n",
        "  print(name, \"is\", age, \"years old\")"
      ],
      "execution_count": null,
      "outputs": []
    },
    {
      "cell_type": "code",
      "metadata": {
        "colab": {
          "base_uri": "https://localhost:8080/"
        },
        "id": "crHI3FV5AGBQ",
        "outputId": "c915a9e2-1016-4480-a420-f1f2129d0453"
      },
      "source": [
        "show_age( \"Alice\" )"
      ],
      "execution_count": null,
      "outputs": [
        {
          "output_type": "stream",
          "name": "stdout",
          "text": [
            "Alice is 20 years old\n"
          ]
        }
      ]
    },
    {
      "cell_type": "markdown",
      "metadata": {
        "id": "BfLsbjEhAGDh"
      },
      "source": [
        "**Keyword Arguments**: We can also use keyword arguments that are specified by name. When non-keyword arguments are used together with standard keyword arguments, keyword arguments must come at the end."
      ]
    },
    {
      "cell_type": "code",
      "metadata": {
        "id": "cygTfJULAGHP"
      },
      "source": [
        "def show_age( name = \"Bob\", age = 20 ):\n",
        "  print(name, \"is\", age, \"years old\")"
      ],
      "execution_count": null,
      "outputs": []
    },
    {
      "cell_type": "code",
      "metadata": {
        "colab": {
          "base_uri": "https://localhost:8080/"
        },
        "id": "GiL6kT9ZAPXp",
        "outputId": "edff70df-a19e-4eb8-ee88-e6b7c12962c4"
      },
      "source": [
        "show_age( age = 25 )"
      ],
      "execution_count": null,
      "outputs": [
        {
          "output_type": "stream",
          "name": "stdout",
          "text": [
            "Bob is 25 years old\n"
          ]
        }
      ]
    },
    {
      "cell_type": "markdown",
      "metadata": {
        "id": "bFEYjW0fAPcW"
      },
      "source": [
        "### Returning Values\n",
        "\n",
        "A function returns the value you tell it to return via the *return* statement."
      ]
    },
    {
      "cell_type": "code",
      "metadata": {
        "id": "9eT8tSDbAPfu"
      },
      "source": [
        "def subtract(x, y):\n",
        "  return x - y    # return the value of this experssion"
      ],
      "execution_count": null,
      "outputs": []
    },
    {
      "cell_type": "code",
      "metadata": {
        "colab": {
          "base_uri": "https://localhost:8080/"
        },
        "id": "Jb8r1Oz6APh2",
        "outputId": "244baf84-0e44-4a10-fd59-efa57deb0048"
      },
      "source": [
        "answer = subtract( 10, 5 )   # call our new function\n",
        "print(answer)"
      ],
      "execution_count": null,
      "outputs": [
        {
          "output_type": "stream",
          "name": "stdout",
          "text": [
            "5\n"
          ]
        }
      ]
    },
    {
      "cell_type": "code",
      "metadata": {
        "id": "NNYspMGkAPkJ"
      },
      "source": [
        "def absolute_value( x ):\n",
        "  if x < 0:\n",
        "      return -x\n",
        "  return x"
      ],
      "execution_count": null,
      "outputs": []
    },
    {
      "cell_type": "code",
      "metadata": {
        "colab": {
          "base_uri": "https://localhost:8080/"
        },
        "id": "QVUzxlr4AGI_",
        "outputId": "10b3c873-f814-4ae5-e8ba-c472e1c4b2d1"
      },
      "source": [
        "absolute_value( -20 )"
      ],
      "execution_count": null,
      "outputs": [
        {
          "output_type": "execute_result",
          "data": {
            "text/plain": [
              "20"
            ]
          },
          "metadata": {},
          "execution_count": 17
        }
      ]
    },
    {
      "cell_type": "code",
      "metadata": {
        "colab": {
          "base_uri": "https://localhost:8080/"
        },
        "id": "c3v5mnzI_84-",
        "outputId": "a9225ea0-6bff-4ba1-dbc7-9a17d9164de9"
      },
      "source": [
        "absolute_value( 5 )"
      ],
      "execution_count": null,
      "outputs": [
        {
          "output_type": "execute_result",
          "data": {
            "text/plain": [
              "5"
            ]
          },
          "metadata": {},
          "execution_count": 18
        }
      ]
    },
    {
      "cell_type": "markdown",
      "metadata": {
        "id": "Bc-0iU2AAmfX"
      },
      "source": [
        "Note that, if a function does not return a value, it automatically evaluates to *None*."
      ]
    },
    {
      "cell_type": "code",
      "metadata": {
        "colab": {
          "base_uri": "https://localhost:8080/"
        },
        "id": "c2_9m0CpAmlm",
        "outputId": "6146b897-ea78-40c0-f644-153bab1a3100"
      },
      "source": [
        "x = show_message()"
      ],
      "execution_count": null,
      "outputs": [
        {
          "output_type": "stream",
          "name": "stdout",
          "text": [
            "This will just display a message\n"
          ]
        }
      ]
    },
    {
      "cell_type": "code",
      "metadata": {
        "colab": {
          "base_uri": "https://localhost:8080/"
        },
        "id": "LV9TMGrqAmow",
        "outputId": "5558158f-afe0-4885-d4d0-d9447e1ba7d3"
      },
      "source": [
        "print(x)"
      ],
      "execution_count": null,
      "outputs": [
        {
          "output_type": "stream",
          "name": "stdout",
          "text": [
            "None\n"
          ]
        }
      ]
    },
    {
      "cell_type": "markdown",
      "metadata": {
        "id": "0vakcKxMAmrH"
      },
      "source": [
        "Python allows multiple values to be returned from a single function by separating the values with commas in the return statement. Multiple values are returned as a tuple."
      ]
    },
    {
      "cell_type": "code",
      "metadata": {
        "id": "ojuHYxf0AmuQ"
      },
      "source": [
        "def min_and_max(values):\n",
        "  vmin = min(values)\n",
        "  vmax = max(values)\n",
        "  return vmin, vmax    # return two values"
      ],
      "execution_count": null,
      "outputs": []
    },
    {
      "cell_type": "code",
      "metadata": {
        "id": "jaE6yk3EAzAB"
      },
      "source": [
        "values = [5, 19, 3, 11, 24]\n",
        "result = min_and_max(values)           # returned values get stored in a tuple"
      ],
      "execution_count": null,
      "outputs": []
    },
    {
      "cell_type": "code",
      "metadata": {
        "colab": {
          "base_uri": "https://localhost:8080/"
        },
        "id": "WfRximRJAzDN",
        "outputId": "4b7f3cb0-6ec5-49c5-ccef-7cdfa09100b1"
      },
      "source": [
        "print(result)"
      ],
      "execution_count": null,
      "outputs": [
        {
          "output_type": "stream",
          "name": "stdout",
          "text": [
            "(3, 24)\n"
          ]
        }
      ]
    },
    {
      "cell_type": "markdown",
      "metadata": {
        "id": "7zt6dwiSAzHF"
      },
      "source": [
        "Multiple variables can be assigned the multiple values returned by the function in a single statement. This is referred to as *unpacking*:"
      ]
    },
    {
      "cell_type": "code",
      "metadata": {
        "id": "Eu1nrGnCA776"
      },
      "source": [
        "x, y = min_and_max(values)  # put first value in x, put second value in y"
      ],
      "execution_count": null,
      "outputs": []
    },
    {
      "cell_type": "code",
      "metadata": {
        "colab": {
          "base_uri": "https://localhost:8080/"
        },
        "id": "85PS4G_gA7_A",
        "outputId": "54e6878e-f0ca-447e-be41-9f9295795396"
      },
      "source": [
        "print(x)\n",
        "print(y)"
      ],
      "execution_count": null,
      "outputs": [
        {
          "output_type": "stream",
          "name": "stdout",
          "text": [
            "3\n",
            "24\n"
          ]
        }
      ]
    },
    {
      "cell_type": "markdown",
      "metadata": {
        "id": "ERFoSlSUA8BX"
      },
      "source": [
        "### Function Composition & Recursion\n",
        "\n",
        "You can call one function from inside another. Several simple functions can be combined to create more complex ones."
      ]
    },
    {
      "cell_type": "code",
      "metadata": {
        "id": "sR_waJ2jA8D2"
      },
      "source": [
        "def square(x):\n",
        "  return x*x"
      ],
      "execution_count": null,
      "outputs": []
    },
    {
      "cell_type": "code",
      "metadata": {
        "id": "1Jnihpg8A8H-"
      },
      "source": [
        "def negative(x):\n",
        "  return -x"
      ],
      "execution_count": null,
      "outputs": []
    },
    {
      "cell_type": "code",
      "metadata": {
        "id": "0-xnooxGBHz_"
      },
      "source": [
        "def calc_score(x, y):\n",
        "  a = square(x)\n",
        "  b = negative(y)\n",
        "  return a + b"
      ],
      "execution_count": null,
      "outputs": []
    },
    {
      "cell_type": "code",
      "metadata": {
        "colab": {
          "base_uri": "https://localhost:8080/"
        },
        "id": "64RTAWqIBH3H",
        "outputId": "da9f7bf2-2fc8-4bd6-f3f3-cdcc78cb40ac"
      },
      "source": [
        "calc_score( 7, 5 )"
      ],
      "execution_count": null,
      "outputs": [
        {
          "output_type": "execute_result",
          "data": {
            "text/plain": [
              "44"
            ]
          },
          "metadata": {},
          "execution_count": 29
        }
      ]
    },
    {
      "cell_type": "code",
      "metadata": {
        "colab": {
          "base_uri": "https://localhost:8080/"
        },
        "id": "WfFtI42WBH5e",
        "outputId": "b77f74cb-6c3d-4f0d-f758-c099bd6bfdeb"
      },
      "source": [
        "calc_score( 6, 3 )"
      ],
      "execution_count": null,
      "outputs": [
        {
          "output_type": "execute_result",
          "data": {
            "text/plain": [
              "33"
            ]
          },
          "metadata": {},
          "execution_count": 30
        }
      ]
    },
    {
      "cell_type": "markdown",
      "metadata": {
        "id": "vlOas_W8BH75"
      },
      "source": [
        "Recursive functions repeatedly call themselves either directly or indirectly in order to loop."
      ]
    },
    {
      "cell_type": "code",
      "metadata": {
        "id": "xDfBecDUA8JJ"
      },
      "source": [
        "def mysum( l ):\n",
        "  if len(l)==0:\n",
        "    return 0\n",
        "  return l[0] + mysum(l[1:])  # recusively call the function itself again"
      ],
      "execution_count": null,
      "outputs": []
    },
    {
      "cell_type": "code",
      "metadata": {
        "colab": {
          "base_uri": "https://localhost:8080/"
        },
        "id": "gX3XOQIJAzIl",
        "outputId": "bffd4a4c-668f-4df9-abdf-8a41ce872fc6"
      },
      "source": [
        "mysum( [1, 2, 3] )"
      ],
      "execution_count": null,
      "outputs": [
        {
          "output_type": "execute_result",
          "data": {
            "text/plain": [
              "6"
            ]
          },
          "metadata": {},
          "execution_count": 32
        }
      ]
    },
    {
      "cell_type": "code",
      "metadata": {
        "colab": {
          "base_uri": "https://localhost:8080/"
        },
        "id": "PsjLnay2Amwx",
        "outputId": "debc4ed1-74fc-43c1-c33b-55d025f021de"
      },
      "source": [
        "mysum( [2, 4, 6] )"
      ],
      "execution_count": null,
      "outputs": [
        {
          "output_type": "execute_result",
          "data": {
            "text/plain": [
              "12"
            ]
          },
          "metadata": {},
          "execution_count": 33
        }
      ]
    },
    {
      "cell_type": "markdown",
      "metadata": {
        "id": "7Js0LHzdBWZv"
      },
      "source": [
        "## \\*\\*\\* Lab Practice 1 \\*\\*\\*\n",
        "\n",
        "**Objective:** Write a new function *repeat_value(v, n)* which takes in two parameters <em>v</em> and <em>n</em>, and prints out the first parameter *n* times.\n",
        "<br>\n",
        "<font color='green'>Sample usage:</font> repeat_value(\"Hello\",3)<br>\n",
        "<font color='green'>Sample output:</font><br>Hello<br>Hello<br>Hello"
      ]
    },
    {
      "cell_type": "code",
      "metadata": {
        "id": "OW_Pf827BWct"
      },
      "source": [
        "#write your code below in this cell\n",
        "\n",
        "def repeat_value(v, n):\n",
        "  for _ in range(n):\n",
        "    print(v)\n"
      ],
      "execution_count": null,
      "outputs": []
    },
    {
      "cell_type": "code",
      "source": [
        "repeat_value(\"Hello\", 3)"
      ],
      "metadata": {
        "colab": {
          "base_uri": "https://localhost:8080/"
        },
        "id": "QVRPOlCzggGw",
        "outputId": "ae958e13-092b-42a8-ef29-a3f25a2f6849"
      },
      "execution_count": null,
      "outputs": [
        {
          "output_type": "stream",
          "name": "stdout",
          "text": [
            "Hello\n",
            "Hello\n",
            "Hello\n"
          ]
        }
      ]
    },
    {
      "cell_type": "markdown",
      "metadata": {
        "id": "GrFrGREQBWfE"
      },
      "source": [
        "## \\*\\*\\* Lab Practice 2 \\*\\*\\*\n",
        "**Objective:** Write a new function *sum_of_squares(x, y, z)* which takes in three parameters <em>x</em>, <em>y</em>, and <em>z</em>, and returns the sum of each of the values squared. Print out the result returned from the function when you call it.\n",
        "<br>\n",
        "<font color='green'>Sample usage:</font> x = sum_of_squares(2,4,6)<br>\n",
        "<font color='green'>Sample output:</font>print(x)<br>56"
      ]
    },
    {
      "cell_type": "code",
      "metadata": {
        "id": "Z8rhPtqIBWh6"
      },
      "source": [
        "#write your code below in this cell\n",
        "\n",
        "def sum_of_squares(x, y, z):\n",
        "  # value = float(x)*float(y)*float(z)\n",
        "  value = x*y*z\n",
        "  return value\n"
      ],
      "execution_count": null,
      "outputs": []
    },
    {
      "cell_type": "code",
      "metadata": {
        "id": "gA3re4XrBWrn",
        "colab": {
          "base_uri": "https://localhost:8080/"
        },
        "outputId": "0ca056d8-f6a8-49ef-e35d-4edb26f36406"
      },
      "source": [
        "sum_of_squares(2,4,6)"
      ],
      "execution_count": null,
      "outputs": [
        {
          "output_type": "execute_result",
          "data": {
            "text/plain": [
              "48"
            ]
          },
          "metadata": {},
          "execution_count": 41
        }
      ]
    },
    {
      "cell_type": "markdown",
      "metadata": {
        "id": "52cf2pJVPIib"
      },
      "source": [
        "***\n",
        "***\n",
        "# Part 2 - Class and Object\n",
        " # Introduction\n",
        "\n",
        "The topic of object-oriented programming is a part lecture course on its own, so in this notebook\n",
        "we will focus on:\n",
        "\n",
        "- Classes\n",
        "- Attributes of objects\n",
        "- Class methods\n",
        "\n",
        "We will do this primarily by example. We will not delve into inheritance and polymorphism.\n",
        "\n",
        "Python supports the object-oriented programming paradigm; in fact, everything in Python is an object.\n",
        "You have been using concepts from object-oriented computing throughout this course.\n",
        "\n",
        "\n",
        "## Objectives\n",
        "\n",
        "- Appreciate objects as instantiations of classes\n",
        "- Understanding of attributes and methods of classes\n",
        "- Learn to create simple classes\n",
        "- Implement and use class methods\n",
        "\n",
        "https://docs.python.org/3/tutorial/classes.html\n",
        "\n",
        "\n",
        "Extra knowledge about single and double (Leading and Trailing) underscores, <br>\n",
        "https://dbader.org/blog/meaning-of-underscores-in-python\n",
        "\n",
        "\n",
        "Extra knowledge argparse <br>\n",
        "https://realpython.com/comparing-python-command-line-parsing-libraries-argparse-docopt-click/#command-line-example"
      ]
    },
    {
      "cell_type": "markdown",
      "metadata": {
        "id": "l8JRzRK2PIic"
      },
      "source": [
        "# Python Class\n",
        "\n",
        "1. A blueprint to create objects.\n",
        "2. The \"object\" is a \"base\" class in Python\n",
        "3. The \"class\" keyword is used to create a class\n",
        "4. Python constructor is defined with __init__() method, but today you will also learn the concept of a sibling method __new__().\n",
        "5. Python does not support multiple constructors in a class, i.e., \"No\" Constructor Overloading"
      ]
    },
    {
      "cell_type": "markdown",
      "metadata": {
        "id": "PfhZynYBPIic"
      },
      "source": [
        "ref: https://www.studytonight.com/python/constructors-in-python\n",
        "\n",
        "## What is a Constructor?\n",
        "As seen in the last tutorial, we know that there are two ways to declare/define a variable of a class.\n",
        "\n",
        "First, by simply defining it inside the class and maybe even initialize it with some value, then and there, pretty much like:"
      ]
    },
    {
      "cell_type": "code",
      "metadata": {
        "id": "hZEty1QOPIid"
      },
      "source": [
        "class Example:\n",
        "  myVariable = \"some value\""
      ],
      "execution_count": null,
      "outputs": []
    },
    {
      "cell_type": "code",
      "metadata": {
        "id": "J2rrpjwWPIid",
        "colab": {
          "base_uri": "https://localhost:8080/",
          "height": 35
        },
        "outputId": "a7b4e71d-968b-469c-e431-3c50d02b0d37"
      },
      "source": [
        "myObject = Example()\n",
        "myObject.myVariable"
      ],
      "execution_count": null,
      "outputs": [
        {
          "output_type": "execute_result",
          "data": {
            "text/plain": [
              "'some value'"
            ],
            "application/vnd.google.colaboratory.intrinsic+json": {
              "type": "string"
            }
          },
          "metadata": {},
          "execution_count": 43
        }
      ]
    },
    {
      "cell_type": "code",
      "metadata": {
        "id": "nSc7lv0dPIie",
        "colab": {
          "base_uri": "https://localhost:8080/",
          "height": 35
        },
        "outputId": "cddfbfa5-ef70-4268-c7d7-1d7b7948df23"
      },
      "source": [
        "myObject.myVariable = \"some other value\"\n",
        "myObject.myVariable"
      ],
      "execution_count": null,
      "outputs": [
        {
          "output_type": "execute_result",
          "data": {
            "text/plain": [
              "'some other value'"
            ],
            "application/vnd.google.colaboratory.intrinsic+json": {
              "type": "string"
            }
          },
          "metadata": {},
          "execution_count": 44
        }
      ]
    },
    {
      "cell_type": "code",
      "metadata": {
        "id": "IiKw4Z_aPIie",
        "colab": {
          "base_uri": "https://localhost:8080/",
          "height": 53
        },
        "outputId": "0454eaaa-a40a-499d-e890-91b9cef26e6b"
      },
      "source": [
        "myObject.myVariable = input();\n",
        "myObject.myVariable"
      ],
      "execution_count": null,
      "outputs": [
        {
          "name": "stdout",
          "output_type": "stream",
          "text": [
            "hello\n"
          ]
        },
        {
          "output_type": "execute_result",
          "data": {
            "text/plain": [
              "'hello'"
            ],
            "application/vnd.google.colaboratory.intrinsic+json": {
              "type": "string"
            }
          },
          "metadata": {},
          "execution_count": 45
        }
      ]
    },
    {
      "cell_type": "markdown",
      "metadata": {
        "id": "n5fHZaE_PIig"
      },
      "source": [
        "We can also assign/modify values of our variables inside class functions using the self keyword."
      ]
    },
    {
      "cell_type": "code",
      "metadata": {
        "id": "mUi_eUjmPIig"
      },
      "source": [
        "class Example:\n",
        "  def anotherFunction(self, parameter1):\n",
        "    self.myVariable = parameter1; #myVariable is also initialized or re-initialised within a method, but I do suggest to declare outside the method\n",
        "    # or by calling for a user input\n",
        "    # self.myVariable = input()"
      ],
      "execution_count": null,
      "outputs": []
    },
    {
      "cell_type": "code",
      "metadata": {
        "id": "7zENrEFPPIih",
        "colab": {
          "base_uri": "https://localhost:8080/",
          "height": 35
        },
        "outputId": "4f37134f-335c-403c-8291-447fdb49d6c6"
      },
      "source": [
        "myObject = Example()\n",
        "myObject.anotherFunction(\"Amazing Spiderman\")\n",
        "myObject.myVariable"
      ],
      "execution_count": null,
      "outputs": [
        {
          "output_type": "execute_result",
          "data": {
            "text/plain": [
              "'Amazing Spiderman'"
            ],
            "application/vnd.google.colaboratory.intrinsic+json": {
              "type": "string"
            }
          },
          "metadata": {},
          "execution_count": 47
        }
      ]
    },
    {
      "cell_type": "markdown",
      "metadata": {
        "id": "cH1WaOZgPIih"
      },
      "source": [
        "### Good practice is to define or initialize object variables as variables or within __init__ (talk about this later)"
      ]
    },
    {
      "cell_type": "code",
      "metadata": {
        "id": "2ZJasUTlPIii"
      },
      "source": [
        "class Example:\n",
        "  myVariable = \"default value\"\n",
        "\n",
        "  def anotherFunction(self,parameter1):\n",
        "    self.myVariable = parameter1; #myVariable is also initialized or re-initialised within a method, but I do suggest to declare outside the method\n",
        "    # or by calling for a user input\n",
        "    # self.myVariable = input()"
      ],
      "execution_count": null,
      "outputs": []
    },
    {
      "cell_type": "code",
      "metadata": {
        "id": "XRCs-l3PPIii",
        "colab": {
          "base_uri": "https://localhost:8080/"
        },
        "outputId": "7ee4d2b6-a12b-47ba-e2e6-687075603aa3"
      },
      "source": [
        "myObject = Example()\n",
        "print(myObject.myVariable)\n",
        "myObject.anotherFunction(\"Amazing Spiderman\")\n",
        "print(myObject.myVariable)"
      ],
      "execution_count": null,
      "outputs": [
        {
          "output_type": "stream",
          "name": "stdout",
          "text": [
            "default value\n",
            "Amazing Spiderman\n"
          ]
        }
      ]
    },
    {
      "cell_type": "markdown",
      "metadata": {
        "id": "kA-QAXscPIij"
      },
      "source": [
        "# Defining Constructor method in a class\n",
        "In python, the object creation part is divided into two parts:\n",
        "\n",
        "1. Object Creation\n",
        "2. Object Initialisation"
      ]
    },
    {
      "cell_type": "markdown",
      "metadata": {
        "id": "kEVFP0r8PIij"
      },
      "source": [
        "## Object Creation\n",
        "\n",
        "Object creation is controlled by a **static** class method with the name __new__. Hence when you call **Example()**, to create an object of the class **Example**, then the __new__ method of this class is called. Python defines this function for every class by default, although you can always do that explicitly too, to play around with object creation."
      ]
    },
    {
      "cell_type": "code",
      "metadata": {
        "id": "IJt3KGRePIij",
        "colab": {
          "base_uri": "https://localhost:8080/"
        },
        "outputId": "fc202809-e207-401b-b790-ee5826f0af6c"
      },
      "source": [
        "class Example:\n",
        "  def __new__(self):\n",
        "    return 'studytonight'\n",
        "\n",
        "# creating object of the class Example\n",
        "mutantObj = Example()\n",
        "\n",
        "# but this will return that our object\n",
        "# is of type str\n",
        "print (type(mutantObj))"
      ],
      "execution_count": null,
      "outputs": [
        {
          "output_type": "stream",
          "name": "stdout",
          "text": [
            "<class 'str'>\n"
          ]
        }
      ]
    },
    {
      "cell_type": "markdown",
      "metadata": {
        "id": "eLK6G7SHPIik"
      },
      "source": [
        "In the example above, we have used the __new__ function to change the tyoe of object returned, just to show you what we can do using this function.\n",
        "\n",
        "To see how the default __new__ function works, run the code below, and you will see that this time the object created is of the type **Example**"
      ]
    },
    {
      "cell_type": "code",
      "metadata": {
        "id": "2umWwgsKPIik",
        "colab": {
          "base_uri": "https://localhost:8080/"
        },
        "outputId": "3680eaa0-c229-4360-e1cb-97bfbfd55b1f"
      },
      "source": [
        "class Example:\n",
        "  myVariable = \"some value\";\n",
        "\n",
        "simpleObj = Example()\n",
        "print (type(simpleObj))"
      ],
      "execution_count": null,
      "outputs": [
        {
          "output_type": "stream",
          "name": "stdout",
          "text": [
            "<class '__main__.Example'>\n"
          ]
        }
      ]
    },
    {
      "cell_type": "markdown",
      "metadata": {
        "id": "WJMz6u1JPIik"
      },
      "source": [
        "## Object Initialisation\n",
        "Object initialisation is controlled by an **instance** method with the name __init__ and which is also generally called as a **Constructor**. <br>\n",
        "*Although, both __new__ and __init__ together forms a constructor.*\n",
        "\n",
        "Once the object is created, you can make sure that every variable in the object is correctly initialised by defining an __init__ method in your class, which pretty much means **initiate**.\n",
        "\n",
        "Thus, it doesn't matter what the class name is, if you want to write a constructor(to initialise your object) for that class, it has to be the __init__() method. Within this function, you're free to declare a class variable(using self) or initialize them. Here is a quick example for our Example class with __init__ method:"
      ]
    },
    {
      "cell_type": "code",
      "metadata": {
        "id": "lJrx29EuPIil"
      },
      "source": [
        "# This is a common way to define and initialize object variables/attributes, using __init__\n",
        "class Example:\n",
        "  def __init__(self, value1, value2):\n",
        "    self.myVariable1 = value1\n",
        "    self.myVariable2 = value2\n",
        "    print (\"All variable initialized\")"
      ],
      "execution_count": null,
      "outputs": []
    },
    {
      "cell_type": "code",
      "metadata": {
        "id": "i0T2x0KEPIil",
        "colab": {
          "base_uri": "https://localhost:8080/"
        },
        "outputId": "693279da-3274-407f-d043-e2afda418d18"
      },
      "source": [
        "myObj = Example(\"first variable\", \"second variable\")"
      ],
      "execution_count": null,
      "outputs": [
        {
          "output_type": "stream",
          "name": "stdout",
          "text": [
            "All variable initialized\n"
          ]
        }
      ]
    },
    {
      "cell_type": "code",
      "metadata": {
        "id": "pZMf8eQZPIim",
        "colab": {
          "base_uri": "https://localhost:8080/"
        },
        "outputId": "6bb2d50f-583c-4e75-96a6-18cd2256734b"
      },
      "source": [
        "print(myObj.myVariable1)\n",
        "print(myObj.myVariable2)\n",
        "print (type(myObj))"
      ],
      "execution_count": null,
      "outputs": [
        {
          "output_type": "stream",
          "name": "stdout",
          "text": [
            "first variable\n",
            "second variable\n",
            "<class '__main__.Example'>\n"
          ]
        }
      ]
    },
    {
      "cell_type": "code",
      "metadata": {
        "id": "W5opjsEuPIim"
      },
      "source": [
        "class Example:\n",
        "  def __init__(self):\n",
        "    self.myVariable1 = input();\n",
        "    self.myVariable2 = input();\n",
        "    print (\"All variable initialized\")"
      ],
      "execution_count": null,
      "outputs": []
    },
    {
      "cell_type": "code",
      "metadata": {
        "id": "GmK4WA_nPIim",
        "colab": {
          "base_uri": "https://localhost:8080/"
        },
        "outputId": "5583d1b8-2571-45ca-867b-0b62d8f5b12b"
      },
      "source": [
        "myObj = Example()"
      ],
      "execution_count": null,
      "outputs": [
        {
          "output_type": "stream",
          "name": "stdout",
          "text": [
            "\n",
            "\n",
            "All variable initialized\n"
          ]
        }
      ]
    },
    {
      "cell_type": "code",
      "metadata": {
        "id": "0ciG_wPwPIim",
        "colab": {
          "base_uri": "https://localhost:8080/"
        },
        "outputId": "10f1c050-bf78-4877-a158-9aab273c3003"
      },
      "source": [
        "print(myObj.myVariable1)\n",
        "print(myObj.myVariable2)\n",
        "print (type(myObj))"
      ],
      "execution_count": null,
      "outputs": [
        {
          "output_type": "stream",
          "name": "stdout",
          "text": [
            "\n",
            "\n",
            "<class '__main__.Example'>\n"
          ]
        }
      ]
    },
    {
      "cell_type": "markdown",
      "metadata": {
        "id": "D764sd-dPIin"
      },
      "source": [
        "### How these two methods work as object instantiation\n",
        "Use __new__ when we need to control the creation of a new instance.\n",
        "\n",
        "Use __init__ when we need to control initialization of a new instance.\n",
        "\n",
        "__new__ is the first step of instance creation. It's called first, and is responsible for returning a new instance of our class.\n",
        "\n",
        "In contrast, __init__ doesn't return anything; it's only responsible for initializing the instance after it's been created.\n",
        "\n",
        "In general, we do not need to override __new__ unless you're subclassing an immutable type like str, int, unicode or tuple.\n",
        "\n",
        "\n",
        "<figure>\n",
        "<center>\n",
        "<img src='https://drive.google.com/uc?id=1ApxOB--eg09npHIwmE_OPVTFzU7FDJWT' alt='xxx'/>\n",
        "<figcaption><em>A generic dataset snapshot</em>\n",
        "</figcaption></center>\n",
        "</figure>\n"
      ]
    },
    {
      "cell_type": "markdown",
      "metadata": {
        "id": "sjNl5S6mPIin"
      },
      "source": [
        "# Python Destructors - Destroying the Object\n",
        "\n",
        "Just like a constructor is used to create and initialize an object, a destructor is used to destroy the object and perform the final clean up.\n",
        "\n",
        "Although in python we do have **garbage collector** to clean up the memory, but its not just memory which has to be freed when an object is dereferenced or destroyed, it can be a lot of other resources as well, like **closing open files, closing database connections, cleaning up the buffer or cache**, etc. Hence when we say the final clean up, it doesn't only mean cleaning up the memory resources."
      ]
    },
    {
      "cell_type": "markdown",
      "metadata": {
        "id": "teG1F4JlPIin"
      },
      "source": [
        "## Using the \\_\\_del\\_\\_ method\n",
        "\n",
        "Below we have a simple code for a class **Example**, where we have used the __init__ method to initialize our object, while we have defined the __del__ method to act as a destructor."
      ]
    },
    {
      "cell_type": "code",
      "metadata": {
        "id": "DaLKKCpQPIin"
      },
      "source": [
        "class Example:\n",
        "  def __init__(self):\n",
        "    print (\"Object created\")\n",
        "\n",
        "  # destructor\n",
        "  def __del__(self):\n",
        "    print (\"Object destroyed\")"
      ],
      "execution_count": null,
      "outputs": []
    },
    {
      "cell_type": "code",
      "metadata": {
        "id": "qHFLlYhpPIio",
        "colab": {
          "base_uri": "https://localhost:8080/"
        },
        "outputId": "d73adf36-c371-4d5e-8875-7d2b05babc36"
      },
      "source": [
        "# creating an object\n",
        "myObj = Example()\n",
        "# to delete the object explicitly\n",
        "del myObj"
      ],
      "execution_count": null,
      "outputs": [
        {
          "output_type": "stream",
          "name": "stdout",
          "text": [
            "Object created\n",
            "Object destroyed\n"
          ]
        }
      ]
    },
    {
      "cell_type": "markdown",
      "metadata": {
        "id": "6d7dSYKCPIio"
      },
      "source": [
        "***\n",
        "## Creating classes\n",
        "\n",
        "Sometimes we cannot find a class (object type) that suits our problem. In this case we can make our own.\n",
        "As a simple example, consider a class that holds a person's surname and forename:"
      ]
    },
    {
      "cell_type": "code",
      "metadata": {
        "id": "Vat7pnLPPIio"
      },
      "source": [
        "class PersonName:\n",
        "  def __init__(self, surname, forename):\n",
        "    self.surname = surname  # Attribute\n",
        "    self.forename = forename  # Attribute\n",
        "\n",
        "  # This is a method\n",
        "  def full_name(self):\n",
        "    \"Return full name (forename surname)\"\n",
        "    return self.forename + \" \" + self.surname\n",
        "\n",
        "  # This is a method\n",
        "  def surname_forename(self, sep=\",\"):\n",
        "    \"Return 'surname, forename', with option to specify separator\"\n",
        "    return self.surname + sep + \" \" + self.forename"
      ],
      "execution_count": null,
      "outputs": []
    },
    {
      "cell_type": "markdown",
      "metadata": {
        "id": "T3xHp4qVPIip"
      },
      "source": [
        "Before dissecting the syntax of this class, we will use it.\n",
        "We first create an object (an instantiation) of type `PersonName`:"
      ]
    },
    {
      "cell_type": "code",
      "metadata": {
        "id": "-MGp24oUPIip",
        "colab": {
          "base_uri": "https://localhost:8080/"
        },
        "outputId": "57ebffc4-8c9c-4c3a-840b-9c52408ef39d"
      },
      "source": [
        "name_entry = PersonName(\"Bloggs\", \"Joanna\")\n",
        "print(type(name_entry))"
      ],
      "execution_count": null,
      "outputs": [
        {
          "output_type": "stream",
          "name": "stdout",
          "text": [
            "<class '__main__.PersonName'>\n"
          ]
        }
      ]
    },
    {
      "cell_type": "markdown",
      "metadata": {
        "id": "luSQyFh_PIip"
      },
      "source": [
        "We first test the attributes:"
      ]
    },
    {
      "cell_type": "code",
      "metadata": {
        "id": "R2ytLYVwPIip",
        "colab": {
          "base_uri": "https://localhost:8080/"
        },
        "outputId": "b6f9b8bb-770e-4d1d-bbd5-8900be3ae402"
      },
      "source": [
        "print(name_entry.surname)\n",
        "print(name_entry.forename)"
      ],
      "execution_count": null,
      "outputs": [
        {
          "output_type": "stream",
          "name": "stdout",
          "text": [
            "Bloggs\n",
            "Joanna\n"
          ]
        }
      ]
    },
    {
      "cell_type": "markdown",
      "metadata": {
        "id": "2cNtdfjgPIiq"
      },
      "source": [
        "Next, we test the class methods:"
      ]
    },
    {
      "cell_type": "code",
      "metadata": {
        "id": "Ro8SyGmVPIiq",
        "colab": {
          "base_uri": "https://localhost:8080/"
        },
        "outputId": "a8b04d80-d5c5-45c7-b80f-9309f8c5a83d"
      },
      "source": [
        "name = name_entry.full_name()\n",
        "print(name)\n",
        "\n",
        "name = name_entry.surname_forename()\n",
        "print(name)\n",
        "\n",
        "name = name_entry.surname_forename(\";\")\n",
        "print(name)"
      ],
      "execution_count": null,
      "outputs": [
        {
          "output_type": "stream",
          "name": "stdout",
          "text": [
            "Joanna Bloggs\n",
            "Bloggs, Joanna\n",
            "Bloggs; Joanna\n"
          ]
        }
      ]
    },
    {
      "cell_type": "markdown",
      "metadata": {
        "id": "f6clkhKSPIir"
      },
      "source": [
        "Dissecting the class, is it declared by\n",
        "```python\n",
        "class PersonName:\n",
        "```\n",
        "We then have what is known as the *Constructor*:\n",
        "```python\n",
        "    def __init__(self, surname, forename):\n",
        "        self.surname = surname\n",
        "        self.forename = forename\n",
        "```\n",
        "This is the 'function' that is called when we create an object, i.e. when we use `name_entry = PersonName(\"Bloggs\", \"Joanna\")`. The keyword '`self`' refers to the object itself - it can take time to\n",
        "develop an understanding of `self`. The initialiser in this case is stores the surname and forename of the person (attributes). You can test when the initialiser is called by inserting a print statement.\n",
        "\n",
        "This class has two methods:\n",
        "```python\n",
        "    def full_name(self):\n",
        "        \"Return full name (forname surname)\"\n",
        "        return self.forename + \" \" + self.surname\n",
        "\n",
        "    def surname_forename(self, sep=\",\"):\n",
        "        \"Return 'surname, forname', with option to specify separator\"\n",
        "        return self.surname + sep + \" \" + self.forename\n",
        "```\n",
        "These methods are functions that do something with the class data. In this case, from the forename and surname\n",
        "they return the full name of the person, formatted in different ways."
      ]
    },
    {
      "cell_type": "markdown",
      "metadata": {
        "id": "j4AZ3iQAPIir"
      },
      "source": [
        "# Operators\n",
        "\n",
        "<font color='blue'>Operators like `+`, `-`, `*` and `/` are actually functions - in Python they are shorthand for functions with\n",
        "the names `__add__`, `__sub__`, `__mul__` and `__truediv__`, respectively.</font> By\n",
        "adding these methods to a class, we can define what the mathematical operators should do."
      ]
    },
    {
      "cell_type": "markdown",
      "metadata": {
        "id": "pAjKyOooPIir"
      },
      "source": [
        "## Mixed-up maths (ตั้งใช้สลับ คูณ กับหาร)\n",
        "\n",
        "Say we want to create our own numbers with their own operations. <font color='red'>As a simple (and very silly) example,\n",
        "we decide we want to change notation such that '`*`' means division and '`/`' means multiplication.</font>\n",
        "\n",
        "To switch '`*`' and '`/`' for our special numbers, we create a class to represent our special numbers, and\n",
        "and provide it with its own `__mul__` and `__truediv__` functions.\n",
        "We will also provide the method `__repr__(self)` - this is called when we use the `print` function."
      ]
    },
    {
      "cell_type": "code",
      "metadata": {
        "id": "ub3JMHOjPIis"
      },
      "source": [
        "class crazynumber:\n",
        "  \"A crazy number class that switches the mutliplcation and division operations\"\n",
        "\n",
        "  # Initialiser\n",
        "  def __init__(self, x):\n",
        "      self.x = x  # This is an attribute\n",
        "\n",
        "  # Define multiplication (*) (this is a method)\n",
        "  def __mul__(self, y):\n",
        "      return crazynumber(self.x/y.x)\n",
        "\n",
        "  # Define the division (/) (this is a method)\n",
        "  def __truediv__(self, y):\n",
        "      return crazynumber(self.x*y.x)\n",
        "\n",
        "  # This is called when we use 'print' (this is a method)\n",
        "  def __repr__(self):\n",
        "      return str(self.x)  # Convert type to a string and return"
      ],
      "execution_count": null,
      "outputs": []
    },
    {
      "cell_type": "markdown",
      "metadata": {
        "id": "ivxjiLupPIis"
      },
      "source": [
        "We now create two `crazynumber` objects:"
      ]
    },
    {
      "cell_type": "code",
      "metadata": {
        "id": "PLIEBzAmPIis"
      },
      "source": [
        "u = crazynumber(10)\n",
        "v = crazynumber(2)"
      ],
      "execution_count": null,
      "outputs": []
    },
    {
      "cell_type": "markdown",
      "metadata": {
        "id": "-DnbWMaZPIis"
      },
      "source": [
        "Since we have defined `*` to be division, we expect u\\*v to be equal to 5:"
      ]
    },
    {
      "cell_type": "code",
      "metadata": {
        "id": "lUxQa5muPIis",
        "colab": {
          "base_uri": "https://localhost:8080/"
        },
        "outputId": "5c2799cc-d566-48cf-839a-12db46668aec"
      },
      "source": [
        "a = u*v  # This will call '__mul__(self, y)'\n",
        "print(a)  # This will call '__repr__(self)'"
      ],
      "execution_count": null,
      "outputs": [
        {
          "output_type": "stream",
          "name": "stdout",
          "text": [
            "5.0\n"
          ]
        }
      ]
    },
    {
      "cell_type": "markdown",
      "metadata": {
        "id": "JLlNHWv9PIit"
      },
      "source": [
        "Testing '`/`':"
      ]
    },
    {
      "cell_type": "code",
      "metadata": {
        "id": "-VeLAl4GPIit",
        "colab": {
          "base_uri": "https://localhost:8080/"
        },
        "outputId": "1805e84c-7f24-4241-f3b6-5b13d2dfa1ad"
      },
      "source": [
        "b = u/v\n",
        "print(b)"
      ],
      "execution_count": null,
      "outputs": [
        {
          "output_type": "stream",
          "name": "stdout",
          "text": [
            "20\n"
          ]
        }
      ]
    },
    {
      "cell_type": "markdown",
      "metadata": {
        "id": "UMMsf3LzPIit"
      },
      "source": [
        "By providing methods, we have defined how the mathematical operators should be interpreted."
      ]
    },
    {
      "cell_type": "markdown",
      "metadata": {
        "id": "FJBrIxWyPIit"
      },
      "source": [
        "## Equality testing\n",
        "\n",
        "We have previously used library versions of sorting functions, and seen that they are much faster than our own implementations. What if we have a list of our own objects that we want to sort them? For example,\n",
        "we might have a `StudentEntry` class, and then have a list with a `StudentEntry` object for each student.\n",
        "The built-in sort functions cannot know how we want to sort our list.\n",
        "\n",
        "Another case is if we have a list of numbers, and we we want to sort according to a custom rule?\n",
        "\n",
        "The built-in sort functions do not care about the details of our data. All they rely on\n",
        "are *comparisons*, e.g. the `<`, `>`, and `==` operators. If we equip our class with comparison operators\n",
        "we can use built-in sorting functions."
      ]
    },
    {
      "cell_type": "markdown",
      "metadata": {
        "id": "G4ZpSIWgPIiu"
      },
      "source": [
        "### Custom sorting\n",
        "\n",
        "Say we want to sort a list of numbers such that all even numbers appear before odd numbers, but otherwise the usual ordering rule applies. We do not want to write our own sorting function. We can do this custom sorting by creating our own class for holding a number and equipping it with `<`, `>`, and `==` operators.\n",
        "The functions corresponding to the operators are:\n",
        "\n",
        "- `__lt__(self, other)` (less than `other`, `<`)\n",
        "- `__gt__(self, other)` (greater than `other`, `>`)\n",
        "- `__eq__(self, other)` (equal to `other`, `==`)\n",
        "\n",
        "The functions return `True` or `False`."
      ]
    },
    {
      "cell_type": "markdown",
      "metadata": {
        "id": "Q3eSV0gVPIiu"
      },
      "source": [
        "Below is class for storing a number which obeys our custom ordering rules:"
      ]
    },
    {
      "cell_type": "code",
      "metadata": {
        "id": "Q5PztuT-PIiu"
      },
      "source": [
        "class MyNumber:\n",
        "\n",
        "  def __init__(self, x):\n",
        "    self.x = x  # Store value (attribute)\n",
        "\n",
        "  # Custom '<' operator (method)\n",
        "  def __lt__(self, other):\n",
        "    if self.x % 2 == 0 and other.x % 2 != 0:  # I am even, other is odd, so I am less than\n",
        "      return True\n",
        "    elif self.x % 2 != 0 and other.x % 2 == 0:  # I am odd, other is even, so I am not less than\n",
        "      return False\n",
        "    else:\n",
        "      return self.x < other.x  # Use usual ordering of numbers\n",
        "\n",
        "  # Custom '==' operator (method)\n",
        "  def __eq__(self, other):\n",
        "    return self.x == other.x\n",
        "\n",
        "  # Custom '>' operator (method)\n",
        "  def __gt__(self, other):\n",
        "    if self.x % 2 == 0 and other.x % 2 != 0:  # I am even, other is odd, so I am not greater\n",
        "      return False\n",
        "    elif self.x % 2 != 0 and other.x % 2 == 0:  # I am odd, other is even, so I am greater\n",
        "      return True\n",
        "    else:\n",
        "      return self.x > other.x  # Use usual ordering of numbers\n",
        "\n",
        "  # This function is called by Python when we try to print something\n",
        "  def __repr__(self):\n",
        "    return str(self.x)"
      ],
      "execution_count": null,
      "outputs": []
    },
    {
      "cell_type": "markdown",
      "metadata": {
        "id": "rzfpkIRLPIiu"
      },
      "source": [
        "We can perform some simple tests on the operators (insert print statements into the methods if you want\n",
        "to verify which function is called)"
      ]
    },
    {
      "cell_type": "code",
      "metadata": {
        "id": "AWnzof5-PIiv",
        "colab": {
          "base_uri": "https://localhost:8080/"
        },
        "outputId": "4f0ce909-3e3a-4630-a1d8-ac7393618bd5"
      },
      "source": [
        "x = MyNumber(4)\n",
        "y = MyNumber(3)\n",
        "print(x < y)  # Expect True (since x is even and y is odd)\n",
        "print(y < x)  # Expect False"
      ],
      "execution_count": null,
      "outputs": [
        {
          "output_type": "stream",
          "name": "stdout",
          "text": [
            "True\n",
            "False\n"
          ]
        }
      ]
    },
    {
      "cell_type": "markdown",
      "metadata": {
        "id": "V4OPxy8wPIiv"
      },
      "source": [
        "We now try applying a the built-in list sort function to check that the sorted list obeys our\n",
        "custom sorting rule:"
      ]
    },
    {
      "cell_type": "code",
      "metadata": {
        "id": "oyQrjnefPIiv",
        "colab": {
          "base_uri": "https://localhost:8080/"
        },
        "outputId": "aac1d33a-1ff2-4d02-fea8-aa4a11686e41"
      },
      "source": [
        "import numpy as np\n",
        "\n",
        "# Create an array of random integers\n",
        "x = np.random.randint(0, 200, 10)\n",
        "\n",
        "# Create a list of 'MyNumber' from x (using list comprehension)\n",
        "y = [MyNumber(v) for v in x]\n",
        "\n",
        "# This is the long-hand for building y\n",
        "#y = []\n",
        "#for v in x:\n",
        "#    y.append(MyNumber(v))\n",
        "\n",
        "# Used the built-in list sort method to sort the list of 'MyNumber' objects\n",
        "y.sort()\n",
        "print(y)"
      ],
      "execution_count": null,
      "outputs": [
        {
          "output_type": "stream",
          "name": "stdout",
          "text": [
            "[0, 6, 66, 102, 132, 136, 152, 13, 161, 185]\n"
          ]
        }
      ]
    },
    {
      "cell_type": "markdown",
      "metadata": {
        "id": "muQj7Vd8PIiv"
      },
      "source": [
        "Without modifying the sort algorithm, we have applied our own ordering. Approaches like this are a feature of\n",
        "object-oriented computing. The sort algorithms sort *objects*, and the objects simply need\n",
        "the comparison operators. The sort algorithms do not need to know the details of the objects."
      ]
    },
    {
      "cell_type": "markdown",
      "metadata": {
        "id": "Uyvw6FZ6PIiw"
      },
      "source": [
        "# Practice"
      ]
    },
    {
      "cell_type": "markdown",
      "metadata": {
        "id": "deFJcBaxPIiw"
      },
      "source": [
        "## \\*\\*\\* Lab Practice 3 \\*\\*\\*\n",
        "\n",
        "\n",
        "Create a class to represent vectors of arbitrary length and which is initialised with a list of values, e.g.:\n",
        "```python\n",
        "x = MyVector([0, 2, 4])\n",
        "```\n",
        "\n",
        "Equip the class with methods that:\n",
        "\n",
        "1. Return the length of the vector\n",
        "2. Compute the norm of the vector $\\sqrt{x \\cdot x}$\n",
        "3. Compute the dot product of the vector with another vector\n",
        "\n",
        "Test your implementation using two vectors of length 3. To help you get started, a skeleton of the class is provided below. Don't forget to use `self` where necessary."
      ]
    },
    {
      "cell_type": "code",
      "metadata": {
        "id": "tkQCaYYDChAZ"
      },
      "source": [
        "#write your code below in this cell\n",
        "\n"
      ],
      "execution_count": null,
      "outputs": []
    },
    {
      "cell_type": "markdown",
      "metadata": {
        "id": "o3uvXHexChrl"
      },
      "source": [
        "### Lab Practice 3 Answer (Try to do by yourself before seeing this answer)"
      ]
    },
    {
      "cell_type": "code",
      "metadata": {
        "id": "zBxsA5e9PIix"
      },
      "source": [
        "class MyVector:\n",
        "  def __init__(self, x):\n",
        "    self.x = x\n",
        "\n",
        "  # Return length of vector\n",
        "  def size(self):\n",
        "    # Add your code here\n",
        "    pass  # This can be removed once the body is added\n",
        "\n",
        "  # This allows access by index, e.g. y[2]\n",
        "  def __getitem__(self, index):\n",
        "    return self.x[index]\n",
        "\n",
        "  # Return norm of vector\n",
        "  def norm(self):\n",
        "    # Add your code here\n",
        "    pass  # This can be removed once the body is added\n",
        "\n",
        "  # Return dot product of vector with another vector\n",
        "  def dot(self, other):\n",
        "    # Add your code here\n",
        "    pass  # This can be removed once the body is added"
      ],
      "execution_count": null,
      "outputs": []
    },
    {
      "cell_type": "markdown",
      "metadata": {
        "id": "jKbW805zPIiy"
      },
      "source": [
        "## \\*\\*\\* Lab Practice 4 \\*\\*\\*\n",
        "\n",
        "\n",
        "1. Create a class for holding a student record entry. It should have the following attributes:\n",
        "   - Surname\n",
        "   - Forename\n",
        "   - Birth year\n",
        "   - Tripos year\n",
        "   - College\n",
        "   - CRSid (optional field)\n",
        "1. Equip your class with the method '`age`' that returns the age of the student\n",
        "1. Equip your class with the method '`__repr__`' such using `print` on a student record displays with the format\n",
        "\n",
        "       Surname: Bloggs, Forename: Andrea, College: Churchill\n",
        "\n",
        "1. Equip your class with the method `__lt__(self, other)` so that a list of record entries can be sorted by\n",
        "   (surname, forename). Create a list of entries and test the sorting. Make sure you have two entries with the same\n",
        "   surname.\n",
        "\n",
        "*Hint:* To get the current year:"
      ]
    },
    {
      "cell_type": "code",
      "metadata": {
        "id": "3WEvuYvkPIiy"
      },
      "source": [
        "import datetime\n",
        "year = datetime.date.today().year\n",
        "print(year)"
      ],
      "execution_count": null,
      "outputs": []
    },
    {
      "cell_type": "code",
      "metadata": {
        "id": "Etn9GvriDJb6"
      },
      "source": [
        "#write your code below in this cell\n",
        "\n"
      ],
      "execution_count": null,
      "outputs": []
    },
    {
      "cell_type": "code",
      "metadata": {
        "id": "S3JalyfSDN5t"
      },
      "source": [],
      "execution_count": null,
      "outputs": []
    }
  ]
}