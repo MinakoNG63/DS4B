{
  "nbformat": 4,
  "nbformat_minor": 0,
  "metadata": {
    "kernelspec": {
      "display_name": "Python 3",
      "language": "python",
      "name": "python3"
    },
    "language_info": {
      "codemirror_mode": {
        "name": "ipython",
        "version": 3
      },
      "file_extension": ".py",
      "mimetype": "text/x-python",
      "name": "python",
      "nbconvert_exporter": "python",
      "pygments_lexer": "ipython3",
      "version": "3.7.3"
    },
    "colab": {
      "provenance": [],
      "include_colab_link": true
    }
  },
  "cells": [
    {
      "cell_type": "markdown",
      "metadata": {
        "id": "view-in-github",
        "colab_type": "text"
      },
      "source": [
        "<a href=\"https://colab.research.google.com/github/MinakoNG63/DSFB/blob/main/03_Python_basics_63070240.ipynb\" target=\"_parent\"><img src=\"https://colab.research.google.com/assets/colab-badge.svg\" alt=\"Open In Colab\"/></a>"
      ]
    },
    {
      "cell_type": "markdown",
      "metadata": {
        "id": "LfnywLZlPGao"
      },
      "source": [
        "# Python Basics\n",
        "\n",
        "\n",
        "Term 1 2022 - Instructor: Teerapong Leelanupab\n",
        "\n",
        "Teaching Assistant:\n",
        "1. Piyawat Chuangkrud (Sam)\n",
        "2. Suvapat Manu (Mint)\n",
        "\n",
        "***"
      ]
    },
    {
      "cell_type": "markdown",
      "metadata": {
        "id": "d1dslyf1PGar"
      },
      "source": [
        "This notebook shows examples of Python code, including built-in functions, packages and programming structures useful for Data Science and Business Analytics. This should be review for you all!  At the bottom there are some pointers to a few resources."
      ]
    },
    {
      "cell_type": "markdown",
      "metadata": {
        "id": "DwxKrDXbPGar"
      },
      "source": [
        "## Python code\n",
        "\n",
        "***"
      ]
    },
    {
      "cell_type": "markdown",
      "metadata": {
        "id": "s97vCBBbPGas"
      },
      "source": [
        "### 1. Variables, operations and data types\n",
        "\n",
        "**Variable**: A container in memory, which has a unique name or identifier, where you can store data.\n",
        "Start using the variable by assigning it a value, where the *=* symbol denotes *assignment*. The data can be of a variety of types:\n",
        "\n",
        "- Integer numbers\n",
        "- Floating (decimal numbers)\n",
        "- Strings\n",
        "\n",
        "Let's create three variables, one of each type, with 3 different names:"
      ]
    },
    {
      "cell_type": "code",
      "metadata": {
        "id": "WhPh3FbKPGas"
      },
      "source": [
        "some_integer = 5\n",
        "some_float = 7.12\n",
        "some_string = \"Student\""
      ],
      "execution_count": null,
      "outputs": []
    },
    {
      "cell_type": "markdown",
      "metadata": {
        "id": "3jo9ocLkPGat"
      },
      "source": [
        "Python has a number of variable naming rules:\n",
        "* Can contain both letters and numbers, but must begin with a letter.\n",
        "* Can contain the underscore character.\n",
        "* Must not clash with reserved keywords.\n",
        "\n",
        "These can seen from the above examples."
      ]
    },
    {
      "cell_type": "markdown",
      "metadata": {
        "id": "F54oJQ_BPGat"
      },
      "source": [
        "We can print out the value in these variables using the *print* function - note the use of parentheses.\n",
        "Remember we need to run the previous cell first!"
      ]
    },
    {
      "cell_type": "code",
      "metadata": {
        "id": "q_Hzr-xmPGat",
        "colab": {
          "base_uri": "https://localhost:8080/"
        },
        "outputId": "d653906b-02c1-4c5e-d59c-60773c5cca57"
      },
      "source": [
        "print (some_integer)\n",
        "print (some_float)\n",
        "print (some_string)"
      ],
      "execution_count": null,
      "outputs": [
        {
          "output_type": "stream",
          "name": "stdout",
          "text": [
            "5\n",
            "7.12\n",
            "Student\n"
          ]
        }
      ]
    },
    {
      "cell_type": "markdown",
      "metadata": {
        "id": "plR9AaM_PGau"
      },
      "source": [
        "Each variable also has a type, indicating the nature of the value that it stores."
      ]
    },
    {
      "cell_type": "code",
      "metadata": {
        "id": "Rj3z3-l-PGau",
        "colab": {
          "base_uri": "https://localhost:8080/"
        },
        "outputId": "2b5f3e67-6062-4a47-f327-c6e0fc8ed5d9"
      },
      "source": [
        "print(type (some_integer))\n",
        "print(type (some_float))\n",
        "print(type (some_string))"
      ],
      "execution_count": null,
      "outputs": [
        {
          "output_type": "stream",
          "name": "stdout",
          "text": [
            "<class 'int'>\n",
            "<class 'float'>\n",
            "<class 'str'>\n"
          ]
        }
      ]
    },
    {
      "cell_type": "code",
      "metadata": {
        "id": "LaEs6S_IPGau",
        "colab": {
          "base_uri": "https://localhost:8080/"
        },
        "outputId": "480edf3c-733d-4f10-bb68-3ed458453fdc"
      },
      "source": [
        "type(\"KMITL\")"
      ],
      "execution_count": null,
      "outputs": [
        {
          "output_type": "execute_result",
          "data": {
            "text/plain": [
              "str"
            ]
          },
          "metadata": {},
          "execution_count": 4
        }
      ]
    },
    {
      "cell_type": "markdown",
      "metadata": {
        "id": "9yJU_hm1PGav"
      },
      "source": [
        "Numeric data can be *integers* (whole numbers) or *floats* (real values):"
      ]
    },
    {
      "cell_type": "code",
      "metadata": {
        "id": "K9PpFpWOPGav"
      },
      "source": [
        "a = 3\n",
        "b = -125\n",
        "fx = 0.432\n",
        "fy = -24.23"
      ],
      "execution_count": null,
      "outputs": []
    },
    {
      "cell_type": "markdown",
      "metadata": {
        "id": "pQYtxX4qPGav"
      },
      "source": [
        "*Boolean* values can be indicated by *True* or *False* - case sensitive! Can alternatively we can use '1' and '0'"
      ]
    },
    {
      "cell_type": "code",
      "metadata": {
        "id": "lTpv3i-CPGav"
      },
      "source": [
        "answer = True\n",
        "test_value = False"
      ],
      "execution_count": null,
      "outputs": []
    },
    {
      "cell_type": "markdown",
      "metadata": {
        "id": "JWgmqxq6PGav"
      },
      "source": [
        "A *string* value containing text is enclosed within either single quotes or double quotes - make sure you end with the same character:"
      ]
    },
    {
      "cell_type": "code",
      "metadata": {
        "id": "trOdIRpKPGaw"
      },
      "source": [
        "some_text = \"hello world\"\n",
        "moredata = 'King Mongkut\\'s Institute of Technology Ladkrabang, Thailand'"
      ],
      "execution_count": null,
      "outputs": []
    },
    {
      "cell_type": "markdown",
      "metadata": {
        "id": "pG_8NoIPPGaw"
      },
      "source": [
        "We also use a special value *None* to indicate a variable containing an empty or \"null\" value:"
      ]
    },
    {
      "cell_type": "code",
      "metadata": {
        "id": "k9TZ5ojePGaw"
      },
      "source": [
        "current_value = None"
      ],
      "execution_count": null,
      "outputs": []
    },
    {
      "cell_type": "markdown",
      "metadata": {
        "id": "B_PuD2PCPGaw"
      },
      "source": [
        "***\n",
        "### 2. Operators and Expressions\n",
        "\n",
        "Python can be used as a simple calculator. It supports all basic mathematical operators, such as +, -, *, /\n",
        "\n",
        "We can use combinations of these operators and values to create *expressions*, which are the building blocks of Python code."
      ]
    },
    {
      "cell_type": "code",
      "metadata": {
        "id": "wXP31Vt4PGaw",
        "colab": {
          "base_uri": "https://localhost:8080/"
        },
        "outputId": "5af8d58d-959f-4322-caa6-98ac8e7cfee7"
      },
      "source": [
        "a = 4 * 3 + 2\n",
        "a"
      ],
      "execution_count": null,
      "outputs": [
        {
          "output_type": "execute_result",
          "data": {
            "text/plain": [
              "14"
            ]
          },
          "metadata": {},
          "execution_count": 9
        }
      ]
    },
    {
      "cell_type": "code",
      "metadata": {
        "id": "DCr0k62qPGax",
        "colab": {
          "base_uri": "https://localhost:8080/"
        },
        "outputId": "1f3220f4-80e5-48d4-d8d5-e131f9bb72c4"
      },
      "source": [
        "b = a - 2\n",
        "b"
      ],
      "execution_count": null,
      "outputs": [
        {
          "output_type": "execute_result",
          "data": {
            "text/plain": [
              "12"
            ]
          },
          "metadata": {},
          "execution_count": 10
        }
      ]
    },
    {
      "cell_type": "markdown",
      "metadata": {
        "id": "lhMnMdB9PGax"
      },
      "source": [
        "We can also use operators to perform assignment and an operation on the same variable. Note that these lines include *comments* - everything from # onwards is ignored."
      ]
    },
    {
      "cell_type": "code",
      "metadata": {
        "id": "s3CwK54iPGax"
      },
      "source": [
        "a += 2   # add 2 to the value currently in a and assign it back to a\n",
        "b -= 1   # subtract 1 from the value currently in b and assign it back to b"
      ],
      "execution_count": null,
      "outputs": []
    },
    {
      "cell_type": "code",
      "source": [
        "a"
      ],
      "metadata": {
        "colab": {
          "base_uri": "https://localhost:8080/"
        },
        "id": "I3-i6VD2c5lB",
        "outputId": "3ccab712-4a27-4025-c58c-0a319504cba5"
      },
      "execution_count": null,
      "outputs": [
        {
          "output_type": "execute_result",
          "data": {
            "text/plain": [
              "16"
            ]
          },
          "metadata": {},
          "execution_count": 14
        }
      ]
    },
    {
      "cell_type": "code",
      "source": [
        "b"
      ],
      "metadata": {
        "colab": {
          "base_uri": "https://localhost:8080/"
        },
        "id": "vkUUeobFc9Jy",
        "outputId": "e36e9725-b006-4993-b74d-b993fc677857"
      },
      "execution_count": null,
      "outputs": [
        {
          "output_type": "execute_result",
          "data": {
            "text/plain": [
              "11"
            ]
          },
          "metadata": {},
          "execution_count": 15
        }
      ]
    },
    {
      "cell_type": "markdown",
      "metadata": {
        "id": "HqZBX5EXPGax"
      },
      "source": [
        "Parentheses can be used to control the *order* in which operators are applied:"
      ]
    },
    {
      "cell_type": "code",
      "metadata": {
        "id": "9aD9gSQsPGax",
        "colab": {
          "base_uri": "https://localhost:8080/"
        },
        "outputId": "539c4d30-9a09-4cc8-90d0-aedab8240fcc"
      },
      "source": [
        "4 + 10 / 2  # Division will normally be applied first"
      ],
      "execution_count": null,
      "outputs": [
        {
          "output_type": "execute_result",
          "data": {
            "text/plain": [
              "9.0"
            ]
          },
          "metadata": {},
          "execution_count": 12
        }
      ]
    },
    {
      "cell_type": "code",
      "metadata": {
        "id": "3Fd9ZVzLPGax",
        "colab": {
          "base_uri": "https://localhost:8080/"
        },
        "outputId": "0a0db8e9-65f4-455b-b1cc-61db68293974"
      },
      "source": [
        "(4 + 10)/2  # Use parenthesis to apply addition first, then division"
      ],
      "execution_count": null,
      "outputs": [
        {
          "output_type": "execute_result",
          "data": {
            "text/plain": [
              "7.0"
            ]
          },
          "metadata": {},
          "execution_count": 16
        }
      ]
    },
    {
      "cell_type": "markdown",
      "metadata": {
        "id": "dYK92iMIPGay"
      },
      "source": [
        "There are also other operators, such as %,// and ** (modulo, floor division and ‘to the power’)"
      ]
    },
    {
      "cell_type": "code",
      "metadata": {
        "id": "pk0Ost7nPGay",
        "colab": {
          "base_uri": "https://localhost:8080/"
        },
        "outputId": "ae3a4c95-78b1-4108-e8a7-0469b6920c76"
      },
      "source": [
        "3**2"
      ],
      "execution_count": null,
      "outputs": [
        {
          "output_type": "execute_result",
          "data": {
            "text/plain": [
              "9"
            ]
          },
          "metadata": {},
          "execution_count": 17
        }
      ]
    },
    {
      "cell_type": "markdown",
      "metadata": {
        "id": "CsQVuVXaPGay"
      },
      "source": [
        "***\n",
        "\n",
        "### 3. Boolean Expressions\n",
        "\n",
        "Any value or variable in Python can be tested for a 'truth value'. These will yield a value of True or False, depending on what we are testing - e.g. equality, inequality, greater/less than"
      ]
    },
    {
      "cell_type": "code",
      "metadata": {
        "id": "kb1hMXnAPGay"
      },
      "source": [
        "x = 75 # don't confuse assignment with equality!"
      ],
      "execution_count": null,
      "outputs": []
    },
    {
      "cell_type": "code",
      "metadata": {
        "id": "fCanZXZFPGaz",
        "colab": {
          "base_uri": "https://localhost:8080/"
        },
        "outputId": "68a42b05-aa17-49e0-e682-7acb6e823477"
      },
      "source": [
        "x == 75 # test for equality"
      ],
      "execution_count": null,
      "outputs": [
        {
          "output_type": "execute_result",
          "data": {
            "text/plain": [
              "True"
            ]
          },
          "metadata": {},
          "execution_count": 19
        }
      ]
    },
    {
      "cell_type": "code",
      "metadata": {
        "id": "Bxiympn4PGaz",
        "colab": {
          "base_uri": "https://localhost:8080/"
        },
        "outputId": "d2d757a6-1787-4b3b-ab3e-c0adfe2831d3"
      },
      "source": [
        "x == 100 # test for equality"
      ],
      "execution_count": null,
      "outputs": [
        {
          "output_type": "execute_result",
          "data": {
            "text/plain": [
              "False"
            ]
          },
          "metadata": {},
          "execution_count": 20
        }
      ]
    },
    {
      "cell_type": "code",
      "metadata": {
        "id": "jDb1nw_nPGaz",
        "colab": {
          "base_uri": "https://localhost:8080/"
        },
        "outputId": "ff7dacc6-3741-44ba-e9f9-1de031e29bc4"
      },
      "source": [
        "x != 100 # test for inequality"
      ],
      "execution_count": null,
      "outputs": [
        {
          "output_type": "execute_result",
          "data": {
            "text/plain": [
              "True"
            ]
          },
          "metadata": {},
          "execution_count": 21
        }
      ]
    },
    {
      "cell_type": "code",
      "metadata": {
        "id": "Vdi_B6hmPGaz",
        "colab": {
          "base_uri": "https://localhost:8080/"
        },
        "outputId": "8c3dc263-14ce-4d3c-8441-1f24296e447f"
      },
      "source": [
        "x < 1000 # less than"
      ],
      "execution_count": null,
      "outputs": [
        {
          "output_type": "execute_result",
          "data": {
            "text/plain": [
              "True"
            ]
          },
          "metadata": {},
          "execution_count": 22
        }
      ]
    },
    {
      "cell_type": "code",
      "metadata": {
        "id": "XDWlOu7GPGaz",
        "colab": {
          "base_uri": "https://localhost:8080/"
        },
        "outputId": "7b8eff65-606d-43f3-d6d2-768c407a6a1e"
      },
      "source": [
        "x > 0 # greater than"
      ],
      "execution_count": null,
      "outputs": [
        {
          "output_type": "execute_result",
          "data": {
            "text/plain": [
              "True"
            ]
          },
          "metadata": {},
          "execution_count": 23
        }
      ]
    },
    {
      "cell_type": "markdown",
      "metadata": {
        "id": "L295DWj2PGa0"
      },
      "source": [
        "Python contains boolean operators to create more complex boolean expressions:\n",
        "* *not x*: returns False if x is True, True otherwise\n",
        "* *x and y*: if both x and y are True then return True, otherwise False\n",
        "* *x or y*: if either x or y are True then return True, otherwise False"
      ]
    },
    {
      "cell_type": "code",
      "metadata": {
        "id": "l7TsDtUWPGa0",
        "colab": {
          "base_uri": "https://localhost:8080/"
        },
        "outputId": "4e7a59fc-88f3-426a-9f66-bcea7e5e9276"
      },
      "source": [
        "True and True"
      ],
      "execution_count": null,
      "outputs": [
        {
          "output_type": "execute_result",
          "data": {
            "text/plain": [
              "True"
            ]
          },
          "metadata": {},
          "execution_count": 24
        }
      ]
    },
    {
      "cell_type": "code",
      "metadata": {
        "id": "gvSqVV8aPGa0",
        "colab": {
          "base_uri": "https://localhost:8080/"
        },
        "outputId": "b145cbed-814e-466c-f699-49996c4f3769"
      },
      "source": [
        "True and False"
      ],
      "execution_count": null,
      "outputs": [
        {
          "output_type": "execute_result",
          "data": {
            "text/plain": [
              "False"
            ]
          },
          "metadata": {},
          "execution_count": 25
        }
      ]
    },
    {
      "cell_type": "code",
      "metadata": {
        "id": "LOGjOPlwPGa0",
        "colab": {
          "base_uri": "https://localhost:8080/"
        },
        "outputId": "961a6ca6-7621-4868-bcfa-58bfa918abba"
      },
      "source": [
        "True or False"
      ],
      "execution_count": null,
      "outputs": [
        {
          "output_type": "execute_result",
          "data": {
            "text/plain": [
              "True"
            ]
          },
          "metadata": {},
          "execution_count": 26
        }
      ]
    },
    {
      "cell_type": "code",
      "metadata": {
        "id": "Uogp_DQ_PGa0",
        "colab": {
          "base_uri": "https://localhost:8080/"
        },
        "outputId": "07d06b65-26b8-452d-c5f0-c473e8201065"
      },
      "source": [
        "not True"
      ],
      "execution_count": null,
      "outputs": [
        {
          "output_type": "execute_result",
          "data": {
            "text/plain": [
              "False"
            ]
          },
          "metadata": {},
          "execution_count": 27
        }
      ]
    },
    {
      "cell_type": "code",
      "metadata": {
        "id": "ZEitGF0JPGa0",
        "colab": {
          "base_uri": "https://localhost:8080/"
        },
        "outputId": "90337c3d-9466-42e6-f4ed-7a681d2a87bb"
      },
      "source": [
        "x > 0 and x < 100"
      ],
      "execution_count": null,
      "outputs": [
        {
          "output_type": "execute_result",
          "data": {
            "text/plain": [
              "True"
            ]
          },
          "metadata": {},
          "execution_count": 28
        }
      ]
    },
    {
      "cell_type": "markdown",
      "metadata": {
        "id": "rR5HWGScPGa1"
      },
      "source": [
        "***\n",
        "### 4. Display Variables in Different Contexts and Combinations with Operators\n",
        "\n",
        "What if I want to print some text and then some numbers? One easy way to do this is to realize that printing will always **want** string data.\n",
        "\n",
        "If you have data that is not a string (like an integer or float), you can **convert** it to a string:"
      ]
    },
    {
      "cell_type": "code",
      "metadata": {
        "id": "JoZh419UPGa1",
        "colab": {
          "base_uri": "https://localhost:8080/"
        },
        "outputId": "02b3a238-605f-41c5-8379-877742e17261"
      },
      "source": [
        "print (\"My integer is \" + str(some_integer) + \".\")\n",
        "print (\"My float converted into integer is \" + str( int(some_float) ) + \".\")"
      ],
      "execution_count": null,
      "outputs": [
        {
          "output_type": "stream",
          "name": "stdout",
          "text": [
            "My integer is 5.\n",
            "My float converted into integer is 7.\n"
          ]
        }
      ]
    },
    {
      "cell_type": "markdown",
      "metadata": {
        "id": "-dzskSyjPGa1"
      },
      "source": [
        "What else can we do with our variables? We can do basic math: **operations**."
      ]
    },
    {
      "cell_type": "code",
      "metadata": {
        "id": "-NfOsv6LPGa1",
        "colab": {
          "base_uri": "https://localhost:8080/"
        },
        "outputId": "af0175fb-382e-45aa-ff07-c90a32dff5ee"
      },
      "source": [
        "print (\"sum \" + str( some_integer + some_float ))\n",
        "print (\"multiplication \" + str ( some_integer * some_float ))\n",
        "print (\"quotient \" + str( some_integer / some_float ))\n",
        "print (\"power \" + str( 10**some_integer ))"
      ],
      "execution_count": null,
      "outputs": [
        {
          "output_type": "stream",
          "name": "stdout",
          "text": [
            "sum 12.120000000000001\n",
            "multiplication 35.6\n",
            "quotient 0.7022471910112359\n",
            "power 100000\n"
          ]
        }
      ]
    },
    {
      "cell_type": "markdown",
      "metadata": {
        "id": "_pJVkjCvPGa1"
      },
      "source": [
        "We can store this as a new variable and print it:"
      ]
    },
    {
      "cell_type": "code",
      "metadata": {
        "id": "xIbIFK77PGa2",
        "colab": {
          "base_uri": "https://localhost:8080/"
        },
        "outputId": "88d4ef0c-2f19-4f05-d949-f2d03dc09978"
      },
      "source": [
        "my_sum = some_integer + some_float\n",
        "print (\"Sum variable: \" + str( my_sum ))"
      ],
      "execution_count": null,
      "outputs": [
        {
          "output_type": "stream",
          "name": "stdout",
          "text": [
            "Sum variable: 12.120000000000001\n"
          ]
        }
      ]
    },
    {
      "cell_type": "markdown",
      "metadata": {
        "id": "sAOhfavNPGa2"
      },
      "source": [
        "***\n",
        "\n",
        "### 5. Basic Data Strcutures\n",
        "\n",
        "There are also other **data structures**:\n",
        "\n",
        "- **Lists** (sometimes refered to as \"arrays\", but look up the difference). Although lists are similar to NumPy arrays, they do not have the specialized properties and tools that make arrays so powerful for scientific computing. You will see NumPy arrays later in subsequent lectures in this course.\n",
        "- **Dictionaries** (sometimes refered to as \"associative arrays\" or \"HashMap\" in Java). Dictionaries are an important part of core Python. Like lists, but the elements of dictionaries are accessed by “keys”, which can be either strings or (arbitrary) integers (in no particular order).\n",
        "- **Sets**. (sometimes refered to as \"HashSet\" in Java) A set is an unordered and unindexed collection of of unique elements. In Python sets are written with curly brackets or set() constructor.\n"
      ]
    },
    {
      "cell_type": "code",
      "metadata": {
        "id": "JmWC7KluPGa3",
        "colab": {
          "base_uri": "https://localhost:8080/"
        },
        "outputId": "c4abe08a-632d-4c2f-fdd9-45abaf9d29b9"
      },
      "source": [
        "some_list = [0,0,1,2,3,3,4.5,7.6]\n",
        "some_dictionary = {'student1': '(929)-000-0000', 'student2': '(917)-000-0000', 'student3': '(470)-000-0000'}\n",
        "some_set = set( [1,2,4,4,5,5] ) # like \"some_set = {1,2,4,4,5,5}\"\"\n",
        "\n",
        "print (\"This is a list:  \" + str(some_list))\n",
        "print (\"This is a dictionary:  \" + str( some_dictionary ))\n",
        "print (\"This is a set:  \" + str( some_set ))"
      ],
      "execution_count": null,
      "outputs": [
        {
          "output_type": "stream",
          "name": "stdout",
          "text": [
            "This is a list:  [0, 0, 1, 2, 3, 3, 4.5, 7.6]\n",
            "This is a dictionary:  {'student1': '(929)-000-0000', 'student2': '(917)-000-0000', 'student3': '(470)-000-0000'}\n",
            "This is a set:  {1, 2, 4, 5}\n"
          ]
        }
      ]
    },
    {
      "cell_type": "markdown",
      "metadata": {
        "id": "EJuMCGIZPGa3"
      },
      "source": [
        "How can we use  **individual** elements?\n",
        "\n",
        "In Python (and generally by computer science convention), we count elements of a _list_ starting from zero! To get the first item we should look in the 0th space:\n"
      ]
    },
    {
      "cell_type": "code",
      "metadata": {
        "id": "gyAVvpAsPGa3",
        "colab": {
          "base_uri": "https://localhost:8080/"
        },
        "outputId": "e363271e-aeb9-4fd9-fcec-c8f2b1501add"
      },
      "source": [
        "print (some_list[0])"
      ],
      "execution_count": null,
      "outputs": [
        {
          "output_type": "stream",
          "name": "stdout",
          "text": [
            "0\n"
          ]
        }
      ]
    },
    {
      "cell_type": "markdown",
      "metadata": {
        "id": "Y4k1fbeVPGa3"
      },
      "source": [
        "Adding things to the end of the list is \"appending\" them:"
      ]
    },
    {
      "cell_type": "code",
      "metadata": {
        "id": "m_PmqT-FPGa3",
        "colab": {
          "base_uri": "https://localhost:8080/"
        },
        "outputId": "276d0509-50cb-4459-b68e-30c1a5b10b6d"
      },
      "source": [
        "some_list.append(500)\n",
        "print (some_list)"
      ],
      "execution_count": null,
      "outputs": [
        {
          "output_type": "stream",
          "name": "stdout",
          "text": [
            "[0, 0, 1, 2, 3, 3, 4.5, 7.6, 500]\n"
          ]
        }
      ]
    },
    {
      "cell_type": "markdown",
      "metadata": {
        "id": "_lTeIggoPGa4"
      },
      "source": [
        "How can we retrieve an element (**VALUE**) of a _dictionary_ ?  Use its **\"KEY\"** !!"
      ]
    },
    {
      "cell_type": "code",
      "metadata": {
        "id": "bGXNmTHoPGa4",
        "colab": {
          "base_uri": "https://localhost:8080/"
        },
        "outputId": "f5762b60-f6b9-49b5-b560-d276c6159055"
      },
      "source": [
        "print (some_dictionary['student1'])"
      ],
      "execution_count": null,
      "outputs": [
        {
          "output_type": "stream",
          "name": "stdout",
          "text": [
            "(929)-000-0000\n"
          ]
        }
      ]
    },
    {
      "cell_type": "markdown",
      "metadata": {
        "id": "-2lqzr8LPGa4"
      },
      "source": [
        "***\n",
        "\n",
        "### 6. Formatting Outputs\n",
        "\n",
        "There are various ways of creating outputs formatted as desired by using *print* function with the placeholder `%`.\n",
        "\n",
        "For more customizable string creation and printing, python also includes rich formatting capability that may be familiar to developers of other high-level programming language. Some examples are below. In a nutshell, one adds placeholders to the string being constructed. These placeholders always start with a `%` followed by some additional information that determines how the data will be formatted. After the string, another `%` is used, followed by the acutal data that is to be inserted in the prior placeholders. The full capabilities of python string formatting are beyond the scope of this primer, for more info, please consult the [offical documentation](https://docs.python.org/2/library/stdtypes.html#string-formatting) or [outputs with print](https://www.python-course.eu/python3_formatted_output.php)."
      ]
    },
    {
      "cell_type": "code",
      "metadata": {
        "id": "dE9aPs2RPGa4",
        "colab": {
          "base_uri": "https://localhost:8080/"
        },
        "outputId": "59aba7e8-82c7-4eac-a171-43cb3469f148"
      },
      "source": [
        "print (\"generic %s formatting, equivalent to the str() functionality seen earlier\" % \"STRING\")\n",
        "print (\"an example with zero padding an integer %03d and multiple %s\" % (5, \"PLACEHOLDERS\"))\n",
        "print (\"often one wants to truncate the precision when displaying floats %.3f\" % 3.1415926536)"
      ],
      "execution_count": null,
      "outputs": [
        {
          "output_type": "stream",
          "name": "stdout",
          "text": [
            "generic STRING formatting, equivalent to the str() functionality seen earlier\n",
            "an example with zero padding an integer 005 and multiple PLACEHOLDERS\n",
            "often one wants to truncate the precision when displaying floats 3.142\n"
          ]
        }
      ]
    },
    {
      "cell_type": "markdown",
      "metadata": {
        "id": "-5t_fjxlPGa5"
      },
      "source": [
        "***\n",
        "\n",
        "### 7. Create functions"
      ]
    },
    {
      "cell_type": "markdown",
      "metadata": {
        "id": "sUC8JhrSPGa5"
      },
      "source": [
        "Functions allow us to execute predefined operations and to define our own operations that will be available later.  They encapsulate procedures. If we know we are likely to execute some operation many times, we may want to save time, to avoid repeated code, and often to clarify what we are doing.  To do this, we would define a function.  \n",
        "\n",
        "(*If you haven't thought this through before, consider the drawback of repeated code: what if later you realize that you need to fix something in that code block.  You'd have to go through and fix it everywhere.*)\n",
        "\n",
        "For example, consider having to calculate the area of a circle."
      ]
    },
    {
      "cell_type": "code",
      "metadata": {
        "id": "OLKKY2ALPGa7"
      },
      "source": [
        "def area_of_a_circle(radius):\n",
        "  area = 3.1416 * radius ** 2\n",
        "  return area"
      ],
      "execution_count": null,
      "outputs": []
    },
    {
      "cell_type": "code",
      "metadata": {
        "id": "2WCiij59PGa7",
        "colab": {
          "base_uri": "https://localhost:8080/"
        },
        "outputId": "2db83f88-2f48-4d61-fc65-a0d2137ab83e"
      },
      "source": [
        "circle_area = area_of_a_circle(5)\n",
        "print (\"Area of a circle with radius 5 is: \" + str( circle_area))"
      ],
      "execution_count": null,
      "outputs": [
        {
          "output_type": "stream",
          "name": "stdout",
          "text": [
            "Area of a circle with radius 5 is: 78.53999999999999\n"
          ]
        }
      ]
    },
    {
      "cell_type": "markdown",
      "metadata": {
        "id": "pR4NrlIuPGa7"
      },
      "source": [
        "Can you see what is going on here? My function that I helpfully named `\"area_of_a_circle\"` takes one **argument** that we will call radius. It then uses this radius to get the area and then *returns* it. Now, whenever I want to get the area of some circle, I simply call `area_of_a_circle()` and place the radius in the middle of the parentheses."
      ]
    },
    {
      "cell_type": "markdown",
      "metadata": {
        "id": "ohKgJMbZPGa7"
      },
      "source": [
        "***\n",
        "\n",
        "### 8. Loops / iterations"
      ]
    },
    {
      "cell_type": "markdown",
      "metadata": {
        "id": "sFxwvotTPGa8"
      },
      "source": [
        "For data analysis we do a lot of repetitive things. This doesn't mean we need to do a ton of copy and pasting, though. We can use **loops** to make this easy. As a very simple example, what if we wanted to square each number from 1 to 5?"
      ]
    },
    {
      "cell_type": "code",
      "metadata": {
        "id": "wB_c1QT8PGa8",
        "colab": {
          "base_uri": "https://localhost:8080/"
        },
        "outputId": "ef551959-ed1d-4ad8-ddb4-70399515e3f2"
      },
      "source": [
        "for number in [1, 2, 3, 4, 5]:\n",
        "  print (number * number)"
      ],
      "execution_count": null,
      "outputs": [
        {
          "output_type": "stream",
          "name": "stdout",
          "text": [
            "1\n",
            "4\n",
            "9\n",
            "16\n",
            "25\n"
          ]
        }
      ]
    },
    {
      "cell_type": "markdown",
      "metadata": {
        "id": "pGCYWQLnPGa8"
      },
      "source": [
        "Let's use the function we did before. Remember this is a function that can only be used in **this notebook**\n",
        "\n",
        "( unless we write a **\"script\"** file, but we'll see that later... ):"
      ]
    },
    {
      "cell_type": "code",
      "metadata": {
        "id": "Wnt5okfPPGa8",
        "colab": {
          "base_uri": "https://localhost:8080/"
        },
        "outputId": "fa95803d-ebcd-41d3-e1be-ee9e9c5a029b"
      },
      "source": [
        "for number in [1, 2, 3, 4, 5]:\n",
        "  print (\"Area of circle with radius \" + str(number) + \" is: \" + str( area_of_a_circle(number) ))"
      ],
      "execution_count": null,
      "outputs": [
        {
          "output_type": "stream",
          "name": "stdout",
          "text": [
            "Area of circle with radius 1 is: 3.1416\n",
            "Area of circle with radius 2 is: 12.5664\n",
            "Area of circle with radius 3 is: 28.2744\n",
            "Area of circle with radius 4 is: 50.2656\n",
            "Area of circle with radius 5 is: 78.53999999999999\n"
          ]
        }
      ]
    },
    {
      "cell_type": "markdown",
      "metadata": {
        "id": "fU6oBgAbPGa8"
      },
      "source": [
        "***\n",
        "\n",
        "### 9. Conditionals and comparisons"
      ]
    },
    {
      "cell_type": "markdown",
      "metadata": {
        "id": "cLSUqEwmPGa8"
      },
      "source": [
        "Sometimes we need to check something before deciding what to do next. For example,"
      ]
    },
    {
      "cell_type": "code",
      "metadata": {
        "id": "Swjx7CBRPGa8"
      },
      "source": [
        "def is_best_prof(name):\n",
        "  if name == \"Teerapong\":\n",
        "    return True\n",
        "  else:\n",
        "    return False"
      ],
      "execution_count": null,
      "outputs": []
    },
    {
      "cell_type": "code",
      "metadata": {
        "id": "itLqs9MYPGa9",
        "colab": {
          "base_uri": "https://localhost:8080/"
        },
        "outputId": "635a0214-f909-4f58-94c0-d7c64bea90b3"
      },
      "source": [
        "print (is_best_prof(\"Teerapong\"))"
      ],
      "execution_count": null,
      "outputs": [
        {
          "output_type": "stream",
          "name": "stdout",
          "text": [
            "True\n"
          ]
        }
      ]
    },
    {
      "cell_type": "code",
      "metadata": {
        "id": "haLrQtAfPGa9",
        "colab": {
          "base_uri": "https://localhost:8080/"
        },
        "outputId": "6f25f04b-b99d-4e09-819f-b982352a4c43"
      },
      "source": [
        "print (is_best_prof(\"Thanos\"))"
      ],
      "execution_count": null,
      "outputs": [
        {
          "output_type": "stream",
          "name": "stdout",
          "text": [
            "False\n"
          ]
        }
      ]
    },
    {
      "cell_type": "code",
      "metadata": {
        "id": "bA4tNQcGPGa9",
        "colab": {
          "base_uri": "https://localhost:8080/"
        },
        "outputId": "ab90223b-5269-46da-9a18-12090c7bc219"
      },
      "source": [
        "my_prof = \"Teerapong\"\n",
        "if is_best_prof(my_prof):\n",
        "  print(\"You're going to have a great semester!\")\n",
        "else:\n",
        "  print(\"Well, make the best of it!\")"
      ],
      "execution_count": null,
      "outputs": [
        {
          "output_type": "stream",
          "name": "stdout",
          "text": [
            "You're going to have a great semester!\n"
          ]
        }
      ]
    },
    {
      "cell_type": "markdown",
      "metadata": {
        "id": "utiWzb2LPGa9"
      },
      "source": [
        "You see in that last one how we have a conditional in the cell, and then call a function that has a conditional inside it?  \n",
        "\n",
        "Let's put a whole bunch of these things together:"
      ]
    },
    {
      "cell_type": "code",
      "metadata": {
        "id": "7arb-JzZPGa9",
        "colab": {
          "base_uri": "https://localhost:8080/"
        },
        "outputId": "76a59dd0-3992-48f7-a374-0b9da694c2d1"
      },
      "source": [
        "my_profs = [\"Thanos\", \"Kaido\", \"Bigmom\", \"BlackBeard\", \"Teerapong\"]\n",
        "one_best = False\n",
        "for prof in my_profs:\n",
        "  if is_best_prof(prof):\n",
        "    one_best = True\n",
        "if one_best:\n",
        "    print(\"You're going to have a great semester!\")\n",
        "else:\n",
        "    print(\"Well, make the best of it!\")"
      ],
      "execution_count": null,
      "outputs": [
        {
          "output_type": "stream",
          "name": "stdout",
          "text": [
            "You're going to have a great semester!\n"
          ]
        }
      ]
    },
    {
      "cell_type": "markdown",
      "metadata": {
        "id": "PleIt0hXPGa9"
      },
      "source": [
        "As we can see here, we made **comparison** of names with the \"equal\" operation  (==).  Remember ... it's == not just = !\n",
        "\n",
        "Other comparisons:\n",
        "\n",
        "- strictly less than  <\n",
        "- less than or equal  <=\n",
        "- strictly greater than  >\n",
        "- greater than or equal  >=\n",
        "- not equal  !=\n",
        "- object identity  \"is\"\n",
        "- negated object identity \"is not\"\n",
        "\n",
        "What if we want to compare more than one element?\n",
        "We should include logical operations such as:\n",
        "\n",
        "- \"and\", also known as \"&&\"\n",
        "- \"or\", also known as \"||\"\n",
        "\n",
        "Let's see if you can guess my age with this function!!\n"
      ]
    },
    {
      "cell_type": "code",
      "metadata": {
        "id": "5X2IT-0bPGa-"
      },
      "source": [
        "def is_my_age(age_argument):\n",
        "  if age_argument < 20:\n",
        "    return \"Of course not!\"\n",
        "  elif (age_argument >= 20) & (age_argument <= 40):\n",
        "    return \"Maybe..\"\n",
        "  elif age_argument > 40:\n",
        "    return \"Don't even think about it!\""
      ],
      "execution_count": null,
      "outputs": []
    },
    {
      "cell_type": "code",
      "metadata": {
        "id": "3KnkNyBkPGa-",
        "colab": {
          "base_uri": "https://localhost:8080/"
        },
        "outputId": "f3217391-aef8-4712-9d3a-fa983ed5f816"
      },
      "source": [
        "print (is_my_age(10))"
      ],
      "execution_count": null,
      "outputs": [
        {
          "output_type": "stream",
          "name": "stdout",
          "text": [
            "Of course not!\n"
          ]
        }
      ]
    },
    {
      "cell_type": "code",
      "metadata": {
        "id": "pVSc2BQ6PGa-",
        "colab": {
          "base_uri": "https://localhost:8080/"
        },
        "outputId": "749dfb62-46ab-4ff3-d5ee-db546ce8511e"
      },
      "source": [
        "print (is_my_age(23))"
      ],
      "execution_count": null,
      "outputs": [
        {
          "output_type": "stream",
          "name": "stdout",
          "text": [
            "Maybe..\n"
          ]
        }
      ]
    },
    {
      "cell_type": "code",
      "metadata": {
        "id": "T_qsWfZsPGa-",
        "colab": {
          "base_uri": "https://localhost:8080/"
        },
        "outputId": "db0ed646-ae5a-438e-bb3e-d35309c8c582"
      },
      "source": [
        "print (is_my_age(80))"
      ],
      "execution_count": null,
      "outputs": [
        {
          "output_type": "stream",
          "name": "stdout",
          "text": [
            "Don't even think about it!\n"
          ]
        }
      ]
    },
    {
      "cell_type": "code",
      "metadata": {
        "id": "6aB5-HtqQlFC"
      },
      "source": [],
      "execution_count": null,
      "outputs": []
    },
    {
      "cell_type": "markdown",
      "metadata": {
        "id": "uIpRwnWGQpJ3"
      },
      "source": [
        "### 10. Install other library and version"
      ]
    },
    {
      "cell_type": "code",
      "metadata": {
        "colab": {
          "base_uri": "https://localhost:8080/"
        },
        "id": "2roKPScXPPRd",
        "outputId": "fd8e57f4-86e3-4b48-f773-c8b5d69e3334"
      },
      "source": [
        "!pip install git+https://github.com/scikit-learn-contrib/py-earth@v0.2dev\n",
        "from pyearth import Earth #pip install other lybrary"
      ],
      "execution_count": null,
      "outputs": [
        {
          "output_type": "stream",
          "name": "stdout",
          "text": [
            "Looking in indexes: https://pypi.org/simple, https://us-python.pkg.dev/colab-wheels/public/simple/\n",
            "Collecting git+https://github.com/scikit-learn-contrib/py-earth@v0.2dev\n",
            "  Cloning https://github.com/scikit-learn-contrib/py-earth (to revision v0.2dev) to /tmp/pip-req-build-9b_dwp_f\n",
            "  Running command git clone -q https://github.com/scikit-learn-contrib/py-earth /tmp/pip-req-build-9b_dwp_f\n",
            "  Running command git checkout -b v0.2dev --track origin/v0.2dev\n",
            "  Switched to a new branch 'v0.2dev'\n",
            "  Branch 'v0.2dev' set up to track remote branch 'v0.2dev' from 'origin'.\n",
            "Requirement already satisfied: scipy>=0.16 in /usr/local/lib/python3.7/dist-packages (from sklearn-contrib-py-earth==0.1.0+16.g400f84d) (1.7.3)\n",
            "Requirement already satisfied: scikit-learn>=0.16 in /usr/local/lib/python3.7/dist-packages (from sklearn-contrib-py-earth==0.1.0+16.g400f84d) (1.0.2)\n",
            "Requirement already satisfied: six in /usr/local/lib/python3.7/dist-packages (from sklearn-contrib-py-earth==0.1.0+16.g400f84d) (1.15.0)\n",
            "Requirement already satisfied: joblib>=0.11 in /usr/local/lib/python3.7/dist-packages (from scikit-learn>=0.16->sklearn-contrib-py-earth==0.1.0+16.g400f84d) (1.1.0)\n",
            "Requirement already satisfied: numpy>=1.14.6 in /usr/local/lib/python3.7/dist-packages (from scikit-learn>=0.16->sklearn-contrib-py-earth==0.1.0+16.g400f84d) (1.21.6)\n",
            "Requirement already satisfied: threadpoolctl>=2.0.0 in /usr/local/lib/python3.7/dist-packages (from scikit-learn>=0.16->sklearn-contrib-py-earth==0.1.0+16.g400f84d) (3.1.0)\n",
            "Building wheels for collected packages: sklearn-contrib-py-earth\n",
            "  Building wheel for sklearn-contrib-py-earth (setup.py) ... \u001b[?25l\u001b[?25hdone\n",
            "  Created wheel for sklearn-contrib-py-earth: filename=sklearn_contrib_py_earth-0.1.0+16.g400f84d-cp37-cp37m-linux_x86_64.whl size=3997259 sha256=b69e96f99dacfeb42867f432c88b1fcb56506d090098fbebdb19ced4a0532f38\n",
            "  Stored in directory: /tmp/pip-ephem-wheel-cache-z1qit4sn/wheels/79/d7/aa/1e418a9aea84424ef2ce2697ae7cccace322976388d3692e8e\n",
            "Successfully built sklearn-contrib-py-earth\n",
            "Installing collected packages: sklearn-contrib-py-earth\n",
            "Successfully installed sklearn-contrib-py-earth-0.1.0+16.g400f84d\n"
          ]
        }
      ]
    },
    {
      "cell_type": "code",
      "metadata": {
        "colab": {
          "base_uri": "https://localhost:8080/",
          "height": 35
        },
        "id": "r18AVsv1Q499",
        "outputId": "e41435bd-d099-469b-a717-547a15933fc1"
      },
      "source": [
        "import pandas as pd\n",
        "pd.__version__"
      ],
      "execution_count": null,
      "outputs": [
        {
          "output_type": "execute_result",
          "data": {
            "text/plain": [
              "'1.3.5'"
            ],
            "application/vnd.google.colaboratory.intrinsic+json": {
              "type": "string"
            }
          },
          "metadata": {},
          "execution_count": 51
        }
      ]
    },
    {
      "cell_type": "code",
      "metadata": {
        "colab": {
          "base_uri": "https://localhost:8080/",
          "height": 347
        },
        "id": "Jty0Iw4kQKyc",
        "outputId": "44b3d703-d66e-4fc0-d10f-be442613a5c4"
      },
      "source": [
        "!pip install pandas==1.1.0 #ใส่เวอร์ชันที่ต้องการใช้ --> เมื่อรันบรรทัดนี้เสร็จให้กด Restart runtime ตรง Runtime"
      ],
      "execution_count": null,
      "outputs": [
        {
          "output_type": "stream",
          "name": "stdout",
          "text": [
            "Looking in indexes: https://pypi.org/simple, https://us-python.pkg.dev/colab-wheels/public/simple/\n",
            "Collecting pandas==1.1.0\n",
            "  Downloading pandas-1.1.0-cp37-cp37m-manylinux1_x86_64.whl (10.5 MB)\n",
            "\u001b[K     |████████████████████████████████| 10.5 MB 26.8 MB/s \n",
            "\u001b[?25hRequirement already satisfied: pytz>=2017.2 in /usr/local/lib/python3.7/dist-packages (from pandas==1.1.0) (2022.1)\n",
            "Requirement already satisfied: numpy>=1.15.4 in /usr/local/lib/python3.7/dist-packages (from pandas==1.1.0) (1.21.6)\n",
            "Requirement already satisfied: python-dateutil>=2.7.3 in /usr/local/lib/python3.7/dist-packages (from pandas==1.1.0) (2.8.2)\n",
            "Requirement already satisfied: six>=1.5 in /usr/local/lib/python3.7/dist-packages (from python-dateutil>=2.7.3->pandas==1.1.0) (1.15.0)\n",
            "Installing collected packages: pandas\n",
            "  Attempting uninstall: pandas\n",
            "    Found existing installation: pandas 1.3.5\n",
            "    Uninstalling pandas-1.3.5:\n",
            "      Successfully uninstalled pandas-1.3.5\n",
            "Successfully installed pandas-1.1.0\n"
          ]
        },
        {
          "output_type": "display_data",
          "data": {
            "application/vnd.colab-display-data+json": {
              "pip_warning": {
                "packages": [
                  "pandas"
                ]
              }
            }
          },
          "metadata": {}
        }
      ]
    },
    {
      "cell_type": "markdown",
      "metadata": {
        "id": "mKG4zeNNPGa-"
      },
      "source": [
        "## Help, help, and more help!"
      ]
    },
    {
      "cell_type": "markdown",
      "metadata": {
        "id": "OR69-g_nPGa_"
      },
      "source": [
        "- [Codecademy's Python Course](https://www.codecademy.com/learn/learn-python-3). Working though this class will give you a _great_ foundation for Python.\n",
        "- [Diving into Python](http://diveinto.org/python3/) online book. Working your way from chapter 1 through chapter 5 would put you in a very nice place!\n",
        "- [Python for Data Analysis](https://www.amazon.com/Python-Data-Analysis-Wrangling-IPython-ebook/dp/B009NLMB8Q/ref=mt_kindle?_encoding=UTF8&me=) was the book that Prof. Foster suggested to prior iterations of this course. You can take a look at the chapters: Preliminaries, Introductory Examples (e.g. \"Counting Time Zones with pandas”), IPython (page 46 to 62) and specially, Pandas--one of the main Python packages for data analysis.  We will work with Pandas in class.\n",
        "- [Pandas Cookbook](https://www.amazon.com/Pandas-Cookbook-Scientific-Computing-Visualization/dp/1784393878) is another great resource to learn Pandas. It has lots of practice problems with detailed solutions in IPython notebooks.\n",
        "\n",
        "\n",
        "If you are ever stuck just remember: it is normal. This is actually how professional programmers work every day. Google is your best friend. `stackoverflow`, a popular programming question and answer site, has an extremely rich repository of solutions to problems that people have encountered, and many capable participants provide answers to those mysterious and rare problems that have not been addressed before. Just remember to look thoroughly before you ask!\n",
        "\n",
        "Finally, programming is a creative process- it can't be brute forced. It's natural to get stuck or frustrated from time to time, even with the incredible resources that are now available. Imagine an author trying to find the perfect paragraph to describe a character. In these situations, I like to go for a walk, listen to some music, or get some exercise. Anything to clear my head. From experience, many seemingly hard programming problems have become solvable only after introducing some fresh perspective, and being stuck while beating your head on the keyboard just isn't fun."
      ]
    }
  ]
}