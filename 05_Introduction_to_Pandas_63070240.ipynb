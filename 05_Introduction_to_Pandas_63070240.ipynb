{
  "nbformat": 4,
  "nbformat_minor": 0,
  "metadata": {
    "kernelspec": {
      "display_name": "Python 3",
      "language": "python",
      "name": "python3"
    },
    "language_info": {
      "codemirror_mode": {
        "name": "ipython",
        "version": 3
      },
      "file_extension": ".py",
      "mimetype": "text/x-python",
      "name": "python",
      "nbconvert_exporter": "python",
      "pygments_lexer": "ipython3",
      "version": "3.7.3"
    },
    "colab": {
      "provenance": [],
      "collapsed_sections": [
        "jubZJTdaT_dD",
        "6pcvpo-9T_dE",
        "KN-Tq8WOT_dF",
        "49LIFPITT_dH",
        "aLvGb2YtT_dJ",
        "SvMB8sY7T_dJ",
        "t56Izyk-T_dK",
        "uP9LENV3T_dM",
        "Ps3B42rzT_dN",
        "8yP75mEiT_dP"
      ],
      "include_colab_link": true
    }
  },
  "cells": [
    {
      "cell_type": "markdown",
      "metadata": {
        "id": "view-in-github",
        "colab_type": "text"
      },
      "source": [
        "<a href=\"https://colab.research.google.com/github/MinakoNG63/DSFB/blob/main/05_Introduction_to_Pandas_63070240.ipynb\" target=\"_parent\"><img src=\"https://colab.research.google.com/assets/colab-badge.svg\" alt=\"Open In Colab\"/></a>"
      ]
    },
    {
      "cell_type": "markdown",
      "metadata": {
        "id": "j8mAWpEiT_c6"
      },
      "source": [
        "# Introduction to Pandas\n",
        "\n",
        "Term 1 2022 - Instructor: Teerapong Leelanupab\n",
        "\n",
        "Teaching Assistant:\n",
        "1. Piyawat Chuangkrud (Sam)\n",
        "2. Suvapat Manu (Mint)\n",
        "\n",
        "***"
      ]
    },
    {
      "cell_type": "markdown",
      "metadata": {
        "id": "9kFFhDevT_c8"
      },
      "source": [
        "Python has a ton of packages that make doing complicated stuff very easy. We won't discuss how to install packages, or give a detailed list of what packages exist, but we will give a brief description about how they are used.\n",
        "\n",
        "An easy way to think of why package are useful is by thinking: \"**Python packages give us access to MANY functions**\".\n",
        "\n",
        "Packages contain pre-defined functions (built-in) that make our life easier!  We've seen pre-defined functions before, for example, the funciton 'str()' that we used to convert numbers into strings in the Python Basics notebook.\n",
        "\n",
        "There are four packages (i.e.,  `pandas`, `sklearn`, `matplotlib`, and `numpy`), we will soon frequently use for data science process.\n",
        "\n",
        "- **`pandas`** is a data manipulation package. It lets us store data in data frames. More on this soon.\n",
        "- **`sklearn`** is a machine learning and data science package. It lets us do fairly complicated machine learning tasks, such as running regressions and building classification models with only a few lines of code. (Nice!)\n",
        "- **`matplotlib`** lets you make plots and graphs directly from your code.  This can be a secret weapon when combined with notebooks, as you can very easily rerun analyses on different data or with slightly different code, and the graphs can just appear magically.  (Ok, always easier said than done, but you get the idea.)\n",
        "- **`seaborn`** an extension to matplotlib that really helps make your plots look more appealing\n",
        "- **`numpy`** (pronounced num-pie) is used for doing \"math stuff\", such as complex mathematical operations (e.g., square roots, exponents, logs), operations on matrices, and more.\n",
        "\n",
        "As we use these through the class, their usefulness will become increasingly apparent."
      ]
    },
    {
      "cell_type": "code",
      "metadata": {
        "colab": {
          "base_uri": "https://localhost:8080/"
        },
        "id": "mXMna5W2W_uL",
        "outputId": "05f91c20-23fb-497c-c3c7-aa3504c2481e"
      },
      "source": [
        "!mkdir data\n",
        "\n",
        "# download countries.csv\n",
        "!gdown --id 1V1CvRNEKlArvoC1TTSKEOTd_gC9I6DiC -O data/countries.csv"
      ],
      "execution_count": null,
      "outputs": [
        {
          "output_type": "stream",
          "name": "stdout",
          "text": [
            "/usr/local/lib/python3.7/dist-packages/gdown/cli.py:131: FutureWarning: Option `--id` was deprecated in version 4.3.1 and will be removed in 5.0. You don't need to pass it anymore to use a file ID.\n",
            "  category=FutureWarning,\n",
            "Downloading...\n",
            "From: https://drive.google.com/uc?id=1V1CvRNEKlArvoC1TTSKEOTd_gC9I6DiC\n",
            "To: /content/data/countries.csv\n",
            "100% 715/715 [00:00<00:00, 882kB/s]\n"
          ]
        }
      ]
    },
    {
      "cell_type": "markdown",
      "metadata": {
        "id": "RgqCr0jUT_c9"
      },
      "source": [
        "## 1. Revise Python *List*\n",
        "\n",
        "ลองสร้างลิสต์ที่มีชื่อกับเบอร์โทรศัพท์"
      ]
    },
    {
      "cell_type": "code",
      "metadata": {
        "id": "3oJUDki5T_c9"
      },
      "source": [
        "# create a list of tuples\n",
        "customer = [('kim','12345678901'),('ricky','08172312313'),('woon','09123144513'),('somchai','0712314534')]\n",
        "\n",
        "for i in range(10000000):\n",
        "  customer.append(('brooklyn','01231412314'))\n",
        "customer.append(('mike','018512314123'))\n",
        "#customer"
      ],
      "execution_count": null,
      "outputs": []
    },
    {
      "cell_type": "code",
      "source": [
        "customer"
      ],
      "metadata": {
        "id": "K-F4VltiUxLE"
      },
      "execution_count": null,
      "outputs": []
    },
    {
      "cell_type": "markdown",
      "metadata": {
        "id": "u2njiL6FT_c-"
      },
      "source": [
        "สร้างฟังก์ชั่น เพื่อหาเบอร์โทร"
      ]
    },
    {
      "cell_type": "code",
      "metadata": {
        "id": "7JkR2o1lT_c-"
      },
      "source": [
        "def getphonenum(customer, cusname):\n",
        "  cnum = []\n",
        "  for c in customer:\n",
        "    if c[0]==cusname:\n",
        "      cnum.append(c[1])\n",
        "      #cnum = int(cnum) * 100\n",
        "  return cnum\n"
      ],
      "execution_count": null,
      "outputs": []
    },
    {
      "cell_type": "markdown",
      "metadata": {
        "id": "Q5ir70LpT_c_"
      },
      "source": [
        "### Processing time\n",
        "ดู Processing time ของ Function โดยใช้ **%time**"
      ]
    },
    {
      "cell_type": "code",
      "metadata": {
        "colab": {
          "base_uri": "https://localhost:8080/"
        },
        "id": "91qfq642T_c_",
        "outputId": "68827a2d-1aa7-4147-d878-2168c612066b"
      },
      "source": [
        "%time getphonenum(customer, 'mike')\n",
        "#'018512314123'"
      ],
      "execution_count": null,
      "outputs": [
        {
          "output_type": "stream",
          "text": [
            "CPU times: user 620 ms, sys: 1.39 ms, total: 622 ms\n",
            "Wall time: 625 ms\n"
          ],
          "name": "stdout"
        },
        {
          "output_type": "execute_result",
          "data": {
            "text/plain": [
              "['018512314123']"
            ]
          },
          "metadata": {
            "tags": []
          },
          "execution_count": 10
        }
      ]
    },
    {
      "cell_type": "markdown",
      "metadata": {
        "id": "ftoUpqxsT_c_"
      },
      "source": [
        "## 2. Revise Python *Dictionary* (คล้าย Pandas Series - ใน section ถัดไป)\n",
        "\n",
        "2.1 dictionary คืออะไร <br>\n",
        "2.2 การสร้าง dictionary"
      ]
    },
    {
      "cell_type": "code",
      "metadata": {
        "colab": {
          "base_uri": "https://localhost:8080/"
        },
        "id": "CBVmf_AaT_dA",
        "outputId": "cd567ff1-02e9-4048-863a-48b3f32051f4"
      },
      "source": [
        "mydic = {}\n",
        "mydic['kim'] = '1234567890'\n",
        "mydic['ricky'] = '0812312341'\n",
        "mydic"
      ],
      "execution_count": null,
      "outputs": [
        {
          "output_type": "execute_result",
          "data": {
            "text/plain": [
              "{'kim': '1234567890', 'ricky': '0812312341'}"
            ]
          },
          "metadata": {
            "tags": []
          },
          "execution_count": 11
        }
      ]
    },
    {
      "cell_type": "code",
      "metadata": {
        "colab": {
          "base_uri": "https://localhost:8080/"
        },
        "id": "giiZhCglT_dA",
        "outputId": "552663db-d163-4fce-ded0-ddf3866f2fae"
      },
      "source": [
        "mydic = {'brooklyn':'0618201998','pond':'0812312341'}\n",
        "mydic"
      ],
      "execution_count": null,
      "outputs": [
        {
          "output_type": "execute_result",
          "data": {
            "text/plain": [
              "{'brooklyn': '0618201998', 'pond': '0812312341'}"
            ]
          },
          "metadata": {
            "tags": []
          },
          "execution_count": 12
        }
      ]
    },
    {
      "cell_type": "markdown",
      "metadata": {
        "id": "uwoWPzjrT_dA"
      },
      "source": [
        "2.3 ใช้ dictionary ยังไง"
      ]
    },
    {
      "cell_type": "code",
      "metadata": {
        "colab": {
          "base_uri": "https://localhost:8080/",
          "height": 35
        },
        "id": "rzOEK3FHT_dA",
        "outputId": "d4d53d28-d8ca-4759-9cbf-535b8aee9a8b"
      },
      "source": [
        "mydic['brooklyn']"
      ],
      "execution_count": null,
      "outputs": [
        {
          "output_type": "execute_result",
          "data": {
            "application/vnd.google.colaboratory.intrinsic+json": {
              "type": "string"
            },
            "text/plain": [
              "'0618201998'"
            ]
          },
          "metadata": {
            "tags": []
          },
          "execution_count": 13
        }
      ]
    },
    {
      "cell_type": "markdown",
      "metadata": {
        "id": "5uLoUKSbT_dA"
      },
      "source": [
        "2.4 ใช้ dictionary เมื่อไหร่"
      ]
    },
    {
      "cell_type": "code",
      "metadata": {
        "id": "VavUBmIlT_dB"
      },
      "source": [
        "#ทดสอบการนำข้อมูล\n",
        "# create a dictionary of customers with their phone numbers\n",
        "customerDict = {'kim':'12345678901','ricky':'08172312313','woon':'09123144513','somchai':'0712314534'}\n",
        "\n",
        "for i in range(10000000):\n",
        "  customerDict['brooklyn' + str(i+1)] = '012' + str(i+1).zfill(6)\n",
        "customerDict['mike'] = '018512314123'\n",
        "#customerDict"
      ],
      "execution_count": null,
      "outputs": []
    },
    {
      "cell_type": "code",
      "metadata": {
        "id": "9ci5WzJpT_dB"
      },
      "source": [
        "def getphonenumdict(customerDict, cusname):\n",
        "      return customerDict[cusname]"
      ],
      "execution_count": null,
      "outputs": []
    },
    {
      "cell_type": "code",
      "metadata": {
        "id": "JMAs5PFwT_dB"
      },
      "source": [
        "%time getphonenumdict(customerDict, 'mike')"
      ],
      "execution_count": null,
      "outputs": []
    },
    {
      "cell_type": "markdown",
      "metadata": {
        "id": "yHc8h-erT_dB"
      },
      "source": [
        "## Pandas\n",
        "In this class we will learn ***Pandas*** and try it in detail.\n",
        "\n",
        "Pandas is an open source package providing high-performance data structures and analysis tools for Python. It provides a Python equivalent of the data analysis and manipulation tools available in the R programming language."
      ]
    },
    {
      "cell_type": "markdown",
      "metadata": {
        "id": "WH4hWidgT_dC"
      },
      "source": [
        "Pandas offers two key data structures that are optimised for data analysis and manipulation: Series and Data Frame. The key distinction of these data structures over basic Python data structures is that they make it easy to associate an *index* with data - i.e. row and column names."
      ]
    },
    {
      "cell_type": "markdown",
      "metadata": {
        "id": "tiNDyhQJT_dC"
      },
      "source": [
        "To start off, we import the Pandas package. We can import it as *pd* for shorthand."
      ]
    },
    {
      "cell_type": "code",
      "metadata": {
        "id": "SiqO2JBwT_dC"
      },
      "source": [
        "import pandas as pd"
      ],
      "execution_count": null,
      "outputs": []
    },
    {
      "cell_type": "markdown",
      "metadata": {
        "id": "XPiS67ssT_dC"
      },
      "source": [
        "check Pandas version"
      ]
    },
    {
      "cell_type": "code",
      "metadata": {
        "id": "5TJgeQFlT_dC"
      },
      "source": [
        "pd.__version__"
      ],
      "execution_count": null,
      "outputs": []
    },
    {
      "cell_type": "markdown",
      "metadata": {
        "id": "y2sXYqepT_dC"
      },
      "source": [
        "## 1. Pandas Series"
      ]
    },
    {
      "cell_type": "markdown",
      "metadata": {
        "id": "Zsvvlna5T_dD"
      },
      "source": [
        "A *Series* is a **one**-dimensional array capable of holding any data type (integers, strings, floating point numbers, etc.).  "
      ]
    },
    {
      "cell_type": "markdown",
      "metadata": {
        "id": "jubZJTdaT_dD"
      },
      "source": [
        "***\n",
        "### 1.1. Create Padas Series\n",
        "To create a new series, we can use the *Series()* method. The simplest (but least useful) approach is to pass in a Python list. This means that the Series will have a numeric index."
      ]
    },
    {
      "cell_type": "code",
      "metadata": {
        "id": "Gqev9zWTT_dD"
      },
      "source": [
        "s1 = pd.Series([2,101,45,232,45,67])\n",
        "s1"
      ],
      "execution_count": null,
      "outputs": []
    },
    {
      "cell_type": "markdown",
      "metadata": {
        "id": "2YBJum5XT_dD"
      },
      "source": [
        "We can also explicitly pass a list of index values to the Series() method to use a more interesting index (in this case strings containing country names):"
      ]
    },
    {
      "cell_type": "code",
      "metadata": {
        "id": "lD6PaOgcT_dD"
      },
      "source": [
        "populations = pd.Series([1357000000, 1252000000, 321068000, 249900000, 200400000, 191854000, 69312295],\n",
        "                        [\"China\", \"India\", \"United States\", \"Indonesia\", \"Brazil\", \"Pakistan\", \"Thailand\"])\n",
        "print(populations)"
      ],
      "execution_count": null,
      "outputs": []
    },
    {
      "cell_type": "markdown",
      "metadata": {
        "id": "K2AIE1lQT_dE"
      },
      "source": [
        "This is very similar to a Python dictionary. In fact we can create a Series directly from a Python dictionary. Here the keys in the dictionary act as the index for the Series:"
      ]
    },
    {
      "cell_type": "code",
      "metadata": {
        "id": "hK4Sn4uiT_dE"
      },
      "source": [
        "populations = pd.Series({\"China\":1357000000, \"India\":1252000000, \"United States\":321068000, \"Indonesia\":249900000,\n",
        "                         \"Brazil\":200400000, \"Pakistan\":191854000, \"Thailand\":69312295})\n",
        "print(populations)"
      ],
      "execution_count": null,
      "outputs": []
    },
    {
      "cell_type": "markdown",
      "metadata": {
        "id": "6pcvpo-9T_dE"
      },
      "source": [
        "***\n",
        "### 1.2. Basic statistics\n",
        "A Series has associated functions for a range of simple analyses:"
      ]
    },
    {
      "cell_type": "code",
      "metadata": {
        "id": "SdFQv8FBT_dE"
      },
      "source": [
        "populations.min()"
      ],
      "execution_count": null,
      "outputs": []
    },
    {
      "cell_type": "code",
      "metadata": {
        "id": "EeaUT151T_dE"
      },
      "source": [
        "populations.max()"
      ],
      "execution_count": null,
      "outputs": []
    },
    {
      "cell_type": "code",
      "metadata": {
        "id": "klToMeCfT_dE"
      },
      "source": [
        "populations.median()"
      ],
      "execution_count": null,
      "outputs": []
    },
    {
      "cell_type": "code",
      "metadata": {
        "id": "eS8mLCYdT_dF"
      },
      "source": [
        "populations.mean()"
      ],
      "execution_count": null,
      "outputs": []
    },
    {
      "cell_type": "code",
      "metadata": {
        "id": "RRP1zriJT_dF"
      },
      "source": [
        "populations.std()   # standard deviation"
      ],
      "execution_count": null,
      "outputs": []
    },
    {
      "cell_type": "markdown",
      "metadata": {
        "id": "-f_SGpU9T_dF"
      },
      "source": [
        "The *describe()* function gives a useful statistical summary of a Series using a single line:"
      ]
    },
    {
      "cell_type": "code",
      "metadata": {
        "id": "p4zNA2RYT_dF"
      },
      "source": [
        "populations.describe()"
      ],
      "execution_count": null,
      "outputs": []
    },
    {
      "cell_type": "markdown",
      "metadata": {
        "id": "KN-Tq8WOT_dF"
      },
      "source": [
        "***\n",
        "### 1.3. Accessing Series Values by Position\n",
        "A Series offers a number of choices for accessing element values. We can use simple position numbers like lists, counting from 0:"
      ]
    },
    {
      "cell_type": "code",
      "metadata": {
        "id": "sbiEurRtT_dF"
      },
      "source": [
        "populations[0]  # value at 1st position"
      ],
      "execution_count": null,
      "outputs": []
    },
    {
      "cell_type": "code",
      "metadata": {
        "id": "vTWuP_XGT_dF"
      },
      "source": [
        "populations[2]  # value at 3rd position"
      ],
      "execution_count": null,
      "outputs": []
    },
    {
      "cell_type": "markdown",
      "metadata": {
        "id": "_L9ZCWLRT_dG"
      },
      "source": [
        "We can use slicing via the *:* operator (remember this includes the elements from index start up to but not including index end):"
      ]
    },
    {
      "cell_type": "code",
      "metadata": {
        "id": "qXQ_1eXfT_dG"
      },
      "source": [
        "populations[0:2]  # start at 1st position, end before 3rd position"
      ],
      "execution_count": null,
      "outputs": []
    },
    {
      "cell_type": "code",
      "metadata": {
        "id": "GA5YhVaCT_dG"
      },
      "source": [
        "populations[1:]  # everything from the 2nd position onwards"
      ],
      "execution_count": null,
      "outputs": []
    },
    {
      "cell_type": "code",
      "metadata": {
        "id": "FUwbRBq6T_dG"
      },
      "source": [
        "populations[:3]  # everything before the 4th position"
      ],
      "execution_count": null,
      "outputs": []
    },
    {
      "cell_type": "markdown",
      "metadata": {
        "id": "lnVkwggAT_dG"
      },
      "source": [
        "We can also provide Boolean expressions for conditional data access:"
      ]
    },
    {
      "cell_type": "code",
      "metadata": {
        "id": "-G2myScjT_dH"
      },
      "source": [
        "# Check which of the values in the Series are > 1 billion\n",
        "populations > 1000000000"
      ],
      "execution_count": null,
      "outputs": []
    },
    {
      "cell_type": "code",
      "metadata": {
        "id": "aTyzbU9zT_dH"
      },
      "source": [
        "# Select only the positions for which the corresponding values in the Series are > 1 billion\n",
        "populations[populations > 1000000000]"
      ],
      "execution_count": null,
      "outputs": []
    },
    {
      "cell_type": "markdown",
      "metadata": {
        "id": "B8I-3V1uT_dH"
      },
      "source": [
        "We can use numeric positions to modify values in a series:"
      ]
    },
    {
      "cell_type": "code",
      "metadata": {
        "id": "d0TAg42iT_dH"
      },
      "source": [
        "populations[0] = 1364730000\n",
        "populations"
      ],
      "execution_count": null,
      "outputs": []
    },
    {
      "cell_type": "markdown",
      "metadata": {
        "id": "49LIFPITT_dH"
      },
      "source": [
        "***\n",
        "### 1.4. Accessing Series Values by Index\n",
        "We can also access elements using the index defined at creation, similar to a dictionary:"
      ]
    },
    {
      "cell_type": "code",
      "metadata": {
        "id": "78hF97URT_dH"
      },
      "source": [
        "populations[\"India\"]"
      ],
      "execution_count": null,
      "outputs": []
    },
    {
      "cell_type": "code",
      "metadata": {
        "id": "CHAspCmtT_dH"
      },
      "source": [
        "populations[\"China\"]"
      ],
      "execution_count": null,
      "outputs": []
    },
    {
      "cell_type": "markdown",
      "metadata": {
        "id": "XJvoG0YmT_dI"
      },
      "source": [
        "We can access multiple elements by passing a list of index values:"
      ]
    },
    {
      "cell_type": "code",
      "metadata": {
        "id": "ShoXh2GTT_dI"
      },
      "source": [
        "populations[[\"Brazil\",\"China\"]]"
      ],
      "execution_count": null,
      "outputs": []
    },
    {
      "cell_type": "markdown",
      "metadata": {
        "id": "ZVjs6Hi8T_dI"
      },
      "source": [
        "We can also use an index to modify values in a series:"
      ]
    },
    {
      "cell_type": "code",
      "metadata": {
        "id": "lE8W4wTbT_dI"
      },
      "source": [
        "populations[\"China\"] = 1374730000\n",
        "populations"
      ],
      "execution_count": null,
      "outputs": []
    },
    {
      "cell_type": "markdown",
      "metadata": {
        "id": "1wWNoX45T_dI"
      },
      "source": [
        "***\n",
        "## 2. Pandas Data Frames"
      ]
    },
    {
      "cell_type": "markdown",
      "metadata": {
        "id": "EXVA6iwBT_dI"
      },
      "source": [
        "A Pandas *Data Frame* is a **2**-dimensional labelled data structure with columns of data that can be of different types. Like a series, it supports both position-based and index-based data access."
      ]
    },
    {
      "cell_type": "markdown",
      "metadata": {
        "id": "aLvGb2YtT_dJ"
      },
      "source": [
        "***\n",
        "### 2.1. Create Padas Frames\n",
        "\n",
        "The easiest way to create a DataFrame is to pass the *DataFrame()* method a dictionary of lists, where each list will be a column. Notice that IPython Notebooks will render frames in a tabular format."
      ]
    },
    {
      "cell_type": "code",
      "metadata": {
        "id": "V1Pm1ye5T_dJ"
      },
      "source": [
        "countries = pd.DataFrame({\"Country\":[\"China\", \"India\", \"United States\", \"Indonesia\", \"Brazil\", \"Pakistan\", \"Thailand\"],\n",
        "                          \"Population\":[1357000000, 1252000000, 321068000, 249900000, 200400000, 191854000, 69312295],\n",
        "                          \"GDP\":[11384760, 2182580, 17968200, 888648, 1799610, 246849, 455302],\n",
        "                          \"Life Expectancy\":[75.41, 68.13, 79.68, 72.45, 73.53, 67.39, 75.30]})\n",
        "countries"
      ],
      "execution_count": null,
      "outputs": []
    },
    {
      "cell_type": "markdown",
      "metadata": {
        "id": "iW6WI3aiT_dJ"
      },
      "source": [
        "We can get the dimensions of the Data Frame using the *shape* variable, which is a tuple of the form (rows,columns):"
      ]
    },
    {
      "cell_type": "code",
      "metadata": {
        "id": "VkVirUMuT_dJ"
      },
      "source": [
        "countries.shape"
      ],
      "execution_count": null,
      "outputs": []
    },
    {
      "cell_type": "markdown",
      "metadata": {
        "id": "SvMB8sY7T_dJ"
      },
      "source": [
        "***\n",
        "### 2.2. Loading Data Frames"
      ]
    },
    {
      "cell_type": "markdown",
      "metadata": {
        "id": "FRtBeHnaT_dK"
      },
      "source": [
        "We read a Data Frame from a CSV file via the *read_csv()* function. The first line contains the column\n",
        "names, each subsequent line will be a row in the frame. By default, the function assumes the values are comma-separated."
      ]
    },
    {
      "cell_type": "code",
      "metadata": {
        "id": "m8CSll2rT_dK"
      },
      "source": [
        "df = pd.read_csv(\"data/countries.csv\")"
      ],
      "execution_count": null,
      "outputs": []
    },
    {
      "cell_type": "code",
      "metadata": {
        "id": "YW3q1bKET_dK"
      },
      "source": [
        "df.shape   # check the size of the dataset which we have loaded"
      ],
      "execution_count": null,
      "outputs": []
    },
    {
      "cell_type": "markdown",
      "metadata": {
        "id": "Lk0jo0IkT_dK"
      },
      "source": [
        "We can also tell the *read_csv()* function to use one of the columns in the CSV file as the index for the rows in our data. In the example below we will use the \"Country ID\" columns:"
      ]
    },
    {
      "cell_type": "code",
      "metadata": {
        "id": "s5HAcb75T_dK"
      },
      "source": [
        "df = pd.read_csv(\"data/countries.csv\",index_col=\"Country ID\")\n",
        "df"
      ],
      "execution_count": null,
      "outputs": []
    },
    {
      "cell_type": "markdown",
      "metadata": {
        "id": "t56Izyk-T_dK"
      },
      "source": [
        "***\n",
        "### 2.3.  Data Frame Statistics\n",
        "Again we can use the describe() function to get a basic summary of the values in a Data Frame, which is presented as a table with statistics for each columns:"
      ]
    },
    {
      "cell_type": "code",
      "metadata": {
        "id": "jeoYH0u0T_dK"
      },
      "source": [
        "df.describe()"
      ],
      "execution_count": null,
      "outputs": []
    },
    {
      "cell_type": "markdown",
      "metadata": {
        "id": "yMYC3NsuT_dL"
      },
      "source": [
        "We can also get individual statistics for each column:"
      ]
    },
    {
      "cell_type": "code",
      "metadata": {
        "id": "_VYeLuxAT_dL"
      },
      "source": [
        "df.mean()"
      ],
      "execution_count": null,
      "outputs": []
    },
    {
      "cell_type": "code",
      "metadata": {
        "id": "G5qMGRrAT_dL"
      },
      "source": [
        "df.median()"
      ],
      "execution_count": null,
      "outputs": []
    },
    {
      "cell_type": "code",
      "metadata": {
        "id": "BmCK-m72T_dL"
      },
      "source": [
        "df.sum()"
      ],
      "execution_count": null,
      "outputs": []
    },
    {
      "cell_type": "code",
      "metadata": {
        "id": "yHf2OHQCT_dL"
      },
      "source": [
        "df.std()"
      ],
      "execution_count": null,
      "outputs": []
    },
    {
      "cell_type": "markdown",
      "metadata": {
        "id": "uP9LENV3T_dM"
      },
      "source": [
        "***\n",
        "### 2.4. Accessing *Rows* in Data Frames\n",
        "We can also access rows of the Data Frame in different ways. We can use numeric slicing to access ranges of individual rows:"
      ]
    },
    {
      "cell_type": "code",
      "metadata": {
        "id": "HUiwUrgTT_dM"
      },
      "source": [
        "df[0:2] # access first two rows"
      ],
      "execution_count": null,
      "outputs": []
    },
    {
      "cell_type": "markdown",
      "metadata": {
        "id": "eh43-E4GT_dM"
      },
      "source": [
        "We can access a single row of a Data Frame as a Series, by using *iloc* (integer-location or **using integer as index**) and the row position:"
      ]
    },
    {
      "cell_type": "code",
      "metadata": {
        "id": "kvQlHlmOT_dM"
      },
      "source": [
        "df.iloc[0]   # get first row"
      ],
      "execution_count": null,
      "outputs": []
    },
    {
      "cell_type": "markdown",
      "metadata": {
        "id": "9zr-MHppT_dM"
      },
      "source": [
        "Similar to numeric slicing, we can alternatively access the multiple rows by using *iloc*."
      ]
    },
    {
      "cell_type": "code",
      "metadata": {
        "id": "Hv7iOweTT_dM"
      },
      "source": [
        "df.iloc[0:4]   # get first four rows"
      ],
      "execution_count": null,
      "outputs": []
    },
    {
      "cell_type": "markdown",
      "metadata": {
        "id": "JwHl0QN8T_dM"
      },
      "source": [
        "We can access a single row of a Data Frame, by using *loc* (using string, i.e., key as index) and the index of the row. For more info about [loc function](https://pandas.pydata.org/pandas-docs/stable/reference/api/pandas.DataFrame.loc.html#pandas.DataFrame.loc). Again this returns a Series:"
      ]
    },
    {
      "cell_type": "code",
      "metadata": {
        "id": "PRF8cNv7T_dN"
      },
      "source": [
        "df.loc[\"Sweden\"]"
      ],
      "execution_count": null,
      "outputs": []
    },
    {
      "cell_type": "code",
      "metadata": {
        "id": "0AcFni8yT_dN"
      },
      "source": [
        "df.loc[\"Argentina\"]"
      ],
      "execution_count": null,
      "outputs": []
    },
    {
      "cell_type": "markdown",
      "metadata": {
        "id": "Ps3B42rzT_dN"
      },
      "source": [
        "***\n",
        "### 2.5. Accessing *Columns* in Data Frames\n",
        "Columns in a Data Frame can be accessed using a pair of **single** square brackets  `[ ]` and the name of the column to give a single column Series."
      ]
    },
    {
      "cell_type": "code",
      "metadata": {
        "id": "-KQ9oeVpT_dN"
      },
      "source": [
        "df[\"School Years\"]"
      ],
      "execution_count": null,
      "outputs": []
    },
    {
      "cell_type": "markdown",
      "metadata": {
        "id": "ZOAXWJa3T_dN"
      },
      "source": [
        "Notice the type of an element returned by a single square bracket `[ ]`"
      ]
    },
    {
      "cell_type": "code",
      "metadata": {
        "id": "4xx2itbmT_dN"
      },
      "source": [
        "type(df[\"School Years\"])"
      ],
      "execution_count": null,
      "outputs": []
    },
    {
      "cell_type": "markdown",
      "metadata": {
        "id": "_yCRP5eyT_dN"
      },
      "source": [
        "Columns in a Data Frame can be accessed using a pair of **double** square brackets  `[[ ]]` and the name of the column to give a single column Series."
      ]
    },
    {
      "cell_type": "code",
      "metadata": {
        "id": "R324z0DjT_dN"
      },
      "source": [
        "df[[\"School Years\"]]"
      ],
      "execution_count": null,
      "outputs": []
    },
    {
      "cell_type": "markdown",
      "metadata": {
        "id": "wBbtwdG8T_dO"
      },
      "source": [
        "Notice the type of an element returned by a double square bracket `[[ ]]`"
      ]
    },
    {
      "cell_type": "code",
      "metadata": {
        "id": "bCztCPtdT_dO"
      },
      "source": [
        "type( df[[\"School Years\"]] )"
      ],
      "execution_count": null,
      "outputs": []
    },
    {
      "cell_type": "markdown",
      "metadata": {
        "id": "18hVwpqZT_dO"
      },
      "source": [
        "For `df[[colname(s)]]`, the interior brackets are for list, and the outside brackets are indexing operator, i.e. you must use double brackets if you select two or more columns. <font color='red'>With one column name, single pair of brackets returns a Series, while double brackets return a dataframe.</font>\n",
        "\n",
        "Multiple columns can be selected by passing a list of column names. The result is a new Data Frame, where the row index values are also copied."
      ]
    },
    {
      "cell_type": "code",
      "metadata": {
        "id": "SzviHeGXT_dO"
      },
      "source": [
        "df[[\"CPI\",\"School Years\"]]"
      ],
      "execution_count": null,
      "outputs": []
    },
    {
      "cell_type": "markdown",
      "metadata": {
        "id": "5KlfC37vT_dO"
      },
      "source": [
        "We can also use iloc (integer-location) and numeric positions to access individual columns, using slicing:"
      ]
    },
    {
      "cell_type": "code",
      "metadata": {
        "id": "rKJlII4OT_dO"
      },
      "source": [
        "# Return all rows, and first two columns\n",
        "df.iloc[:,0:2]"
      ],
      "execution_count": null,
      "outputs": []
    },
    {
      "cell_type": "markdown",
      "metadata": {
        "id": "8yP75mEiT_dP"
      },
      "source": [
        "***\n",
        "### 2.6. Accessing Individual Values in Data Frames\n",
        "There are a variety of different ways to access and change the individual values in a Data Frame, using combinations of an index and/or position."
      ]
    },
    {
      "cell_type": "code",
      "metadata": {
        "id": "uHC02gRRT_dP"
      },
      "source": [
        "# Access by row index, then column index\n",
        "df.loc[\"Ireland\"][\"School Years\"]"
      ],
      "execution_count": null,
      "outputs": []
    },
    {
      "cell_type": "code",
      "metadata": {
        "id": "KENs8YDiT_dP"
      },
      "source": [
        "# Access by column index, then row index\n",
        "df[\"Mil. Spend\"][\"China\"]"
      ],
      "execution_count": null,
      "outputs": []
    },
    {
      "cell_type": "code",
      "metadata": {
        "id": "eqC-AqYKT_dP"
      },
      "source": [
        "# Access by row position, then column index\n",
        "df.iloc[3][\"Life Exp.\"]"
      ],
      "execution_count": null,
      "outputs": []
    },
    {
      "cell_type": "code",
      "metadata": {
        "id": "sGvL_ZpmT_dP"
      },
      "source": [
        "# Access by row position, then column position\n",
        "df.iloc[3][4]"
      ],
      "execution_count": null,
      "outputs": []
    },
    {
      "cell_type": "markdown",
      "metadata": {
        "id": "a3uYdTeZT_dP"
      },
      "source": [
        "We can also use these functions to modify values in a Data Frame. For example:"
      ]
    },
    {
      "cell_type": "code",
      "metadata": {
        "id": "47X6P_GkT_dP"
      },
      "source": [
        "df.loc[\"Sweden\"]"
      ],
      "execution_count": null,
      "outputs": []
    },
    {
      "cell_type": "code",
      "metadata": {
        "id": "lRTk_PhuT_dQ"
      },
      "source": [
        "# Change an individual value\n",
        "df.loc[\"Sweden\"][\"Life Exp.\"] = 85.1"
      ],
      "execution_count": null,
      "outputs": []
    },
    {
      "cell_type": "code",
      "metadata": {
        "id": "zJG8GpEPT_dQ"
      },
      "source": [
        "df.loc[\"Sweden\"]"
      ],
      "execution_count": null,
      "outputs": []
    },
    {
      "cell_type": "code",
      "metadata": {
        "id": "qWSoI4_TT_dQ"
      },
      "source": [],
      "execution_count": null,
      "outputs": []
    }
  ]
}