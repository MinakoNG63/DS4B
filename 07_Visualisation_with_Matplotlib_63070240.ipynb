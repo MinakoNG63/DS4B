{
  "nbformat": 4,
  "nbformat_minor": 0,
  "metadata": {
    "kernelspec": {
      "display_name": "Python 3",
      "language": "python",
      "name": "python3"
    },
    "language_info": {
      "codemirror_mode": {
        "name": "ipython",
        "version": 3
      },
      "file_extension": ".py",
      "mimetype": "text/x-python",
      "name": "python",
      "nbconvert_exporter": "python",
      "pygments_lexer": "ipython3",
      "version": "3.7.3"
    },
    "colab": {
      "provenance": [],
      "include_colab_link": true
    }
  },
  "cells": [
    {
      "cell_type": "markdown",
      "metadata": {
        "id": "view-in-github",
        "colab_type": "text"
      },
      "source": [
        "<a href=\"https://colab.research.google.com/github/MinakoNG63/DSFB/blob/main/07_Visualisation_with_Matplotlib_63070240.ipynb\" target=\"_parent\"><img src=\"https://colab.research.google.com/assets/colab-badge.svg\" alt=\"Open In Colab\"/></a>"
      ]
    },
    {
      "cell_type": "markdown",
      "metadata": {
        "id": "bigdLOeJULha"
      },
      "source": [
        "# Visualisation With Matplotlib\n",
        "\n",
        "Term 1 2022 - Instructor: Teerapong Leelanupab\n",
        "\n",
        "Teaching Assistant:\n",
        "1. Piyawat Chuangkrud (Sam)\n",
        "2. Suvapat Manu (Mint)\n",
        "\n",
        "***\n"
      ]
    },
    {
      "cell_type": "markdown",
      "metadata": {
        "id": "d1wWKgPEULhb"
      },
      "source": [
        "Matplotlib is the standard Python plotting library. It provides a variety of plots and visualisations. To use it in an IPython notebook, we firstly set up our notebook as follows:"
      ]
    },
    {
      "cell_type": "code",
      "metadata": {
        "id": "d13Yge2ZULhb"
      },
      "source": [
        "import matplotlib\n",
        "import matplotlib.pyplot as plt\n",
        "# Important! Need to tell IPython to display plots within the notebook\n",
        "%matplotlib inline"
      ],
      "execution_count": null,
      "outputs": []
    },
    {
      "cell_type": "markdown",
      "metadata": {
        "id": "3pTeIeoJULhc"
      },
      "source": [
        "### Matplotlib Basics\n",
        "Matplotlib visualisations consists of a figure, which contains one or more plots. A simple plot can be used to show the values in a standard Python list. Here the values are plotted on the y-axis. Matplotlib assumes this is a sequence and automatically assigns indices to the x-axis."
      ]
    },
    {
      "cell_type": "code",
      "metadata": {
        "id": "mqMSGi1XULhc"
      },
      "source": [
        "# this is the data that we want to plot\n",
        "bitcoin_data = [ 7875.1,  7908.7, 7665.3,  7386.4,  6137.5,  6383.5, 6310.1]"
      ],
      "execution_count": null,
      "outputs": []
    },
    {
      "cell_type": "code",
      "metadata": {
        "id": "JmhgSaBnULhd",
        "colab": {
          "base_uri": "https://localhost:8080/",
          "height": 265
        },
        "outputId": "c2d46c1e-d587-4248-fa95-2915885d59cc"
      },
      "source": [
        "# create a new figure\n",
        "plt.figure()\n",
        "# set up the plot\n",
        "plt.plot(bitcoin_data)\n",
        "plt.show()"
      ],
      "execution_count": null,
      "outputs": [
        {
          "output_type": "display_data",
          "data": {
            "image/png": "[encoded data removed]",
            "text/plain": [
              "<Figure size 432x288 with 1 Axes>"
            ]
          },
          "metadata": {
            "tags": [],
            "needs_background": "light"
          }
        }
      ]
    },
    {
      "cell_type": "markdown",
      "metadata": {
        "id": "vVl_32ElULhd"
      },
      "source": [
        "We can customise this plot by changing its dimensions, changing the line colour, adding a title, and adding text labels to the axes:"
      ]
    },
    {
      "cell_type": "code",
      "metadata": {
        "id": "JosgoyJ5ULhd",
        "colab": {
          "base_uri": "https://localhost:8080/",
          "height": 357
        },
        "outputId": "0ae4ec34-9143-4a29-ba1c-f66746bec7a8"
      },
      "source": [
        "# create a new figure, setting the dimensions of the plot\n",
        "plt.figure(figsize=(8,5))\n",
        "# set the line colour to red\n",
        "p = plt.plot(bitcoin_data,color=\"red\")\n",
        "# set the plot title, with the specified font size\n",
        "plt.title('Value of Bitcoin', fontsize=16)\n",
        "# set the axis labels, with the specified font size\n",
        "plt.xlabel('Day', fontsize=16)\n",
        "plt.ylabel('Value', fontsize=16)\n",
        "plt.show()"
      ],
      "execution_count": null,
      "outputs": [
        {
          "output_type": "display_data",
          "data": {
            "image/png": "[encoded data removed]",
            "text/plain": [
              "<Figure size 576x360 with 1 Axes>"
            ]
          },
          "metadata": {
            "tags": [],
            "needs_background": "light"
          }
        }
      ]
    },
    {
      "cell_type": "markdown",
      "metadata": {
        "id": "1LW0qsH8ULhe"
      },
      "source": [
        "###  Scatter Plots\n",
        "Next let's create a scatter plot, using two Python lists of identical size for the X and Y values."
      ]
    },
    {
      "cell_type": "code",
      "metadata": {
        "id": "0k3Lwc5-ULhe",
        "colab": {
          "base_uri": "https://localhost:8080/",
          "height": 301
        },
        "outputId": "ae38d146-1306-499f-cf6d-9dd5c0aac941"
      },
      "source": [
        "# this is our data\n",
        "x = [ 1, 5, 8, 3, 7 ]\n",
        "y = [ 0.4, 0.25, 0.65, 0.7, 0.2 ]\n",
        "# create the figure\n",
        "plt.figure()\n",
        "# create a scatter plot\n",
        "plt.scatter(x,y)\n",
        "# customise the range of the axes: values are [xmin xmax ymin ymax]\n",
        "plt.axis([0,10,0,1])\n",
        "# add labels to the axes\n",
        "plt.xlabel(\"X Numbers\")\n",
        "plt.ylabel(\"Y Numbers\")"
      ],
      "execution_count": null,
      "outputs": [
        {
          "output_type": "execute_result",
          "data": {
            "text/plain": [
              "Text(0, 0.5, 'Y Numbers')"
            ]
          },
          "metadata": {
            "tags": []
          },
          "execution_count": 5
        },
        {
          "output_type": "display_data",
          "data": {
            "image/png": "[encoded data removed]",
            "text/plain": [
              "<Figure size 432x288 with 1 Axes>"
            ]
          },
          "metadata": {
            "tags": [],
            "needs_background": "light"
          }
        }
      ]
    },
    {
      "cell_type": "markdown",
      "metadata": {
        "id": "_ZaeJIzZULhf"
      },
      "source": [
        "Let's try another scatter plot, based on randomly values"
      ]
    },
    {
      "cell_type": "code",
      "metadata": {
        "id": "Pj-4b5DuULhf"
      },
      "source": [
        "# Generate the random values\n",
        "import random\n",
        "r_x_data = []\n",
        "r_y_data = []\n",
        "for i in range(10):\n",
        "  # generate a random x value between 0 and 1\n",
        "  r_x_data.append( random.random() )\n",
        "  # generate a random y value, between 0 and 10\n",
        "  r_y_data.append( random.random() * 10 )"
      ],
      "execution_count": null,
      "outputs": []
    },
    {
      "cell_type": "code",
      "metadata": {
        "id": "ZGYjq-CIULhf",
        "colab": {
          "base_uri": "https://localhost:8080/"
        },
        "outputId": "2ac63402-8d4a-414f-e7ec-74e9c07398f0"
      },
      "source": [
        "r_x_data"
      ],
      "execution_count": null,
      "outputs": [
        {
          "output_type": "execute_result",
          "data": {
            "text/plain": [
              "[0.15776241422781323,\n",
              " 0.5263820777423636,\n",
              " 0.6090459302787602,\n",
              " 0.7233908724144035,\n",
              " 0.9998921357823526,\n",
              " 0.6440723843738446,\n",
              " 0.6568142118864022,\n",
              " 0.06413802797307411,\n",
              " 0.34922301375924025,\n",
              " 0.3105978678948105]"
            ]
          },
          "metadata": {
            "tags": []
          },
          "execution_count": 7
        }
      ]
    },
    {
      "cell_type": "code",
      "metadata": {
        "id": "puF7OK-vULhf",
        "colab": {
          "base_uri": "https://localhost:8080/"
        },
        "outputId": "ab90720b-177b-4415-854c-f3331678e5f9"
      },
      "source": [
        "r_y_data"
      ],
      "execution_count": null,
      "outputs": [
        {
          "output_type": "execute_result",
          "data": {
            "text/plain": [
              "[8.93196547137605,\n",
              " 1.8983637364876316,\n",
              " 0.3567840933395572,\n",
              " 9.58032720060473,\n",
              " 6.192866679331312,\n",
              " 9.361599365274104,\n",
              " 4.802957156311546,\n",
              " 6.128040751810322,\n",
              " 9.437402822409886,\n",
              " 8.560813336610412]"
            ]
          },
          "metadata": {
            "tags": []
          },
          "execution_count": 8
        }
      ]
    },
    {
      "cell_type": "markdown",
      "metadata": {
        "id": "0EdD2w32ULhg"
      },
      "source": [
        "We create a new figure, then pass the X and Y values to the function *plt.scatter()*:"
      ]
    },
    {
      "cell_type": "code",
      "metadata": {
        "id": "IVcCHhdfULhg",
        "colab": {
          "base_uri": "https://localhost:8080/",
          "height": 268
        },
        "outputId": "765768b4-8759-4fcd-cd48-6d2324818145"
      },
      "source": [
        "# set up the new figure\n",
        "plt.figure()\n",
        "# set up the scatter plot\n",
        "p = plt.scatter(r_x_data, r_y_data)"
      ],
      "execution_count": null,
      "outputs": [
        {
          "output_type": "display_data",
          "data": {
            "image/png": "[encoded data removed]",
            "text/plain": [
              "<Figure size 432x288 with 1 Axes>"
            ]
          },
          "metadata": {
            "tags": [],
            "needs_background": "light"
          }
        }
      ]
    },
    {
      "cell_type": "markdown",
      "metadata": {
        "id": "us2lCbAOULhg"
      },
      "source": [
        "Let's regenerate the plot, this time cutomising the appearance of the scatter plot:"
      ]
    },
    {
      "cell_type": "code",
      "metadata": {
        "id": "4w7tr0ZDULhg",
        "colab": {
          "base_uri": "https://localhost:8080/",
          "height": 363
        },
        "outputId": "82126f66-48c0-4665-b826-b09c361c68ce"
      },
      "source": [
        "# change the size of the figure\n",
        "plt.figure(figsize=(8,5))\n",
        "# we will change the colour, shape, and size for each point\n",
        "p = plt.scatter(r_x_data, r_y_data, c=\"green\", s=150, marker=\"x\")\n",
        "# set the axis labels\n",
        "plt.xlabel('X Scores', fontsize=18)\n",
        "plt.ylabel('Y Scores', fontsize=18)"
      ],
      "execution_count": null,
      "outputs": [
        {
          "output_type": "execute_result",
          "data": {
            "text/plain": [
              "Text(0, 0.5, 'Y Scores')"
            ]
          },
          "metadata": {
            "tags": []
          },
          "execution_count": 10
        },
        {
          "output_type": "display_data",
          "data": {
            "image/png": "[encoded data removed]",
            "text/plain": [
              "<Figure size 576x360 with 1 Axes>"
            ]
          },
          "metadata": {
            "tags": [],
            "needs_background": "light"
          }
        }
      ]
    },
    {
      "cell_type": "markdown",
      "metadata": {
        "id": "7Tpv9BBaULhh"
      },
      "source": [
        "### Bar Charts\n",
        "Next let's create a NumPy array, and a corresponding set of labels."
      ]
    },
    {
      "cell_type": "code",
      "metadata": {
        "id": "uL7OxT-RULhh"
      },
      "source": [
        "values = [ 5, 11, 14, 6 ]\n",
        "names = [ \"Alice\", \"Paul\", \"Susan\", \"Bob\" ]"
      ],
      "execution_count": null,
      "outputs": []
    },
    {
      "cell_type": "code",
      "metadata": {
        "id": "nm_vXztRULhh",
        "colab": {
          "base_uri": "https://localhost:8080/"
        },
        "outputId": "3c97b4da-b55b-4699-f1a0-bfe60f13c203"
      },
      "source": [
        "# these are the corresponding positions on the y-axis, for plotting purposes\n",
        "y_pos = range(len(names))\n",
        "y_pos"
      ],
      "execution_count": null,
      "outputs": [
        {
          "output_type": "execute_result",
          "data": {
            "text/plain": [
              "range(0, 4)"
            ]
          },
          "metadata": {
            "tags": []
          },
          "execution_count": 12
        }
      ]
    },
    {
      "cell_type": "markdown",
      "metadata": {
        "id": "LbN6m5cwULhh"
      },
      "source": [
        "Now we can display this as a bar chart:"
      ]
    },
    {
      "cell_type": "code",
      "metadata": {
        "id": "lIz2-8hpULhh",
        "colab": {
          "base_uri": "https://localhost:8080/",
          "height": 368
        },
        "outputId": "d004c951-99a3-4629-83be-87f4c2b87769"
      },
      "source": [
        "# create a new figure\n",
        "plt.figure(figsize=(8,5))\n",
        "# set up the bar chart\n",
        "plt.barh(y_pos, values, align='center')\n",
        "plt.yticks(y_pos, names)\n",
        "plt.xlabel(\"Number of Purchases\")\n",
        "plt.title(\"Customers\")"
      ],
      "execution_count": null,
      "outputs": [
        {
          "output_type": "execute_result",
          "data": {
            "text/plain": [
              "Text(0.5, 1.0, 'Customers')"
            ]
          },
          "metadata": {
            "tags": []
          },
          "execution_count": 13
        },
        {
          "output_type": "display_data",
          "data": {
            "image/png": "[encoded data removed]",
            "text/plain": [
              "<Figure size 576x360 with 1 Axes>"
            ]
          },
          "metadata": {
            "tags": [],
            "needs_background": "light"
          }
        }
      ]
    },
    {
      "cell_type": "markdown",
      "metadata": {
        "id": "6ytxpPBlULhi"
      },
      "source": [
        "We can show multiple plots on the same figure:"
      ]
    },
    {
      "cell_type": "code",
      "metadata": {
        "id": "jdJJ5JTjULhi",
        "colab": {
          "base_uri": "https://localhost:8080/",
          "height": 320
        },
        "outputId": "f1c6e0a6-8cc4-4f04-f127-b557306aad83"
      },
      "source": [
        "# set up the new figure\n",
        "plt.figure( figsize=(6,5) )\n",
        "# generate and plot 4 groups of points\n",
        "for color in [\"red\",\"green\",\"blue\",\"orange\"]:\n",
        "  # generate 8 random points\n",
        "  x = []\n",
        "  y = []\n",
        "  for i in range(8):\n",
        "    x.append( random.random() )\n",
        "    y.append( random.random() )\n",
        "  # show the plot for this data, using a different colour each time\n",
        "  plt.scatter(x, y, c=color, s=50, label=color)"
      ],
      "execution_count": null,
      "outputs": [
        {
          "output_type": "display_data",
          "data": {
            "image/png": "[encoded data removed]",
            "text/plain": [
              "<Figure size 432x360 with 1 Axes>"
            ]
          },
          "metadata": {
            "tags": [],
            "needs_background": "light"
          }
        }
      ]
    },
    {
      "cell_type": "markdown",
      "metadata": {
        "id": "BM0ukma1ULhi"
      },
      "source": [
        "### Pie Charts\n",
        "Matplotlib can also produce pie charts."
      ]
    },
    {
      "cell_type": "code",
      "metadata": {
        "id": "2WEXWdvQULhi"
      },
      "source": [
        "# some sample data\n",
        "counts = [18, 23, 7]\n",
        "parties = [\"Republicans\", \"Democrats\", \"Others\"]"
      ],
      "execution_count": null,
      "outputs": []
    },
    {
      "cell_type": "code",
      "metadata": {
        "id": "nzB1HjGQULhi",
        "colab": {
          "base_uri": "https://localhost:8080/",
          "height": 303
        },
        "outputId": "437424db-85ab-4d25-bbbc-5d64021fe4d8"
      },
      "source": [
        "# set up the new figure, specifying the size of the figure\n",
        "plt.figure(figsize=(5, 5))\n",
        "# create the pie chart on the sample data\n",
        "p = plt.pie(counts, labels=parties, colors=[\"red\",\"blue\",\"grey\"], autopct=\"%.1f%%\")"
      ],
      "execution_count": null,
      "outputs": [
        {
          "output_type": "display_data",
          "data": {
            "image/png": "[encoded data removed]",
            "text/plain": [
              "<Figure size 360x360 with 1 Axes>"
            ]
          },
          "metadata": {
            "tags": []
          }
        }
      ]
    },
    {
      "cell_type": "markdown",
      "metadata": {
        "id": "wK9Y6c1QULhj"
      },
      "source": [
        "We can also generate a plot, and save it to a file after display it:"
      ]
    },
    {
      "cell_type": "code",
      "metadata": {
        "id": "15of_pUTULhj",
        "colab": {
          "base_uri": "https://localhost:8080/",
          "height": 303
        },
        "outputId": "4acdb751-f7a1-4917-ba24-54450fa8d129"
      },
      "source": [
        "# set up the new figure, specifying the size of the figure\n",
        "plt.figure(figsize=(5, 5))\n",
        "# create the pie chart on the sample data\n",
        "p = plt.pie(counts, labels=parties, colors=[\"red\",\"blue\",\"grey\"], autopct=\"%.1f%%\")\n",
        "# save as a PNG image file\n",
        "matplotlib.pyplot.savefig(\"politics-pie-chart.png\")"
      ],
      "execution_count": null,
      "outputs": [
        {
          "output_type": "display_data",
          "data": {
            "image/png": "[encoded data removed]",
            "text/plain": [
              "<Figure size 360x360 with 1 Axes>"
            ]
          },
          "metadata": {
            "tags": []
          }
        }
      ]
    },
    {
      "cell_type": "code",
      "metadata": {
        "id": "veVH1VYcULhj"
      },
      "source": [],
      "execution_count": null,
      "outputs": []
    }
  ]
}