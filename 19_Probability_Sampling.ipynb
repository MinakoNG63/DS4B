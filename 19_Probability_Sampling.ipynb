{
  "nbformat": 4,
  "nbformat_minor": 0,
  "metadata": {
    "kernelspec": {
      "display_name": "Python 3",
      "language": "python",
      "name": "python3"
    },
    "language_info": {
      "codemirror_mode": {
        "name": "ipython",
        "version": 3
      },
      "file_extension": ".py",
      "mimetype": "text/x-python",
      "name": "python",
      "nbconvert_exporter": "python",
      "pygments_lexer": "ipython3",
      "version": "3.7.3"
    },
    "colab": {
      "provenance": [],
      "include_colab_link": true
    }
  },
  "cells": [
    {
      "cell_type": "markdown",
      "metadata": {
        "id": "view-in-github",
        "colab_type": "text"
      },
      "source": [
        "<a href=\"https://colab.research.google.com/github/MinakoNG63/DSFB/blob/main/19_Probability_Sampling.ipynb\" target=\"_parent\"><img src=\"https://colab.research.google.com/assets/colab-badge.svg\" alt=\"Open In Colab\"/></a>"
      ]
    },
    {
      "cell_type": "markdown",
      "metadata": {
        "id": "dRF-OggOtgHl"
      },
      "source": [
        "# 19. Probability Sampling with Python\n",
        "\n",
        "Term 1 2022 - Instructor: Teerapong Leelanupab\n",
        "\n",
        "Teaching Assistant:\n",
        "1. Piyawat Chuangkrud (Sam)\n",
        "2. Suvapat Manu (Mint)\n",
        "\n",
        "***\n",
        "\n",
        "Credit: Roberto Salazar, [Probability Sampling with Python](https://towardsdatascience.com/probability-sampling-with-python-8c977ad78664)\n",
        "\n",
        "Another good complete explianation: [data-sampling-methods-in-python](https://towardsdatascience.com/data-sampling-methods-in-python-a4400628ea1b)\n",
        "\n",
        "Additional Reading: [การกำหนดกลุ่มตัวอย่าง](http://pioneer.netserv.chula.ac.th/~jaimorn/re6.htm)\n",
        "***"
      ]
    },
    {
      "cell_type": "markdown",
      "metadata": {
        "id": "Q0-mIe8JtgHn"
      },
      "source": [
        "### For the following example, let’s obtain samples from a set of 10 products using probability sampling to determine the population mean of a particular measure of interest."
      ]
    },
    {
      "cell_type": "code",
      "metadata": {
        "id": "yxvPOGvqtgHo",
        "outputId": "b8fe512c-bc1c-426a-df08-47b00bd6a9e5"
      },
      "source": [
        "# Import required libraries\n",
        "import numpy as np\n",
        "import pandas as pd\n",
        "\n",
        "# Set random seed\n",
        "np.random.seed(42)\n",
        "\n",
        "# Define total number of products\n",
        "number_of_products = 10\n",
        "\n",
        "# Create data dictionary\n",
        "data = {'product_id':np.arange(1, number_of_products+1).tolist(),\n",
        "       'measure':np.round(np.random.normal(loc=10, scale=0.5, size=number_of_products),3)}\n",
        "\n",
        "# Transform dictionary into a data frame\n",
        "df = pd.DataFrame(data)\n",
        "\n",
        "# Store the real mean in a separate variable\n",
        "real_mean = round(df['measure'].mean(),3)\n",
        "\n",
        "# View data frame\n",
        "df"
      ],
      "execution_count": null,
      "outputs": [
        {
          "output_type": "execute_result",
          "data": {
            "text/html": [
              "<div>\n",
              "<style scoped>\n",
              "    .dataframe tbody tr th:only-of-type {\n",
              "        vertical-align: middle;\n",
              "    }\n",
              "\n",
              "    .dataframe tbody tr th {\n",
              "        vertical-align: top;\n",
              "    }\n",
              "\n",
              "    .dataframe thead th {\n",
              "        text-align: right;\n",
              "    }\n",
              "</style>\n",
              "<table border=\"1\" class=\"dataframe\">\n",
              "  <thead>\n",
              "    <tr style=\"text-align: right;\">\n",
              "      <th></th>\n",
              "      <th>product_id</th>\n",
              "      <th>measure</th>\n",
              "    </tr>\n",
              "  </thead>\n",
              "  <tbody>\n",
              "    <tr>\n",
              "      <th>0</th>\n",
              "      <td>1</td>\n",
              "      <td>10.248</td>\n",
              "    </tr>\n",
              "    <tr>\n",
              "      <th>1</th>\n",
              "      <td>2</td>\n",
              "      <td>9.931</td>\n",
              "    </tr>\n",
              "    <tr>\n",
              "      <th>2</th>\n",
              "      <td>3</td>\n",
              "      <td>10.324</td>\n",
              "    </tr>\n",
              "    <tr>\n",
              "      <th>3</th>\n",
              "      <td>4</td>\n",
              "      <td>10.762</td>\n",
              "    </tr>\n",
              "    <tr>\n",
              "      <th>4</th>\n",
              "      <td>5</td>\n",
              "      <td>9.883</td>\n",
              "    </tr>\n",
              "    <tr>\n",
              "      <th>5</th>\n",
              "      <td>6</td>\n",
              "      <td>9.883</td>\n",
              "    </tr>\n",
              "    <tr>\n",
              "      <th>6</th>\n",
              "      <td>7</td>\n",
              "      <td>10.790</td>\n",
              "    </tr>\n",
              "    <tr>\n",
              "      <th>7</th>\n",
              "      <td>8</td>\n",
              "      <td>10.384</td>\n",
              "    </tr>\n",
              "    <tr>\n",
              "      <th>8</th>\n",
              "      <td>9</td>\n",
              "      <td>9.765</td>\n",
              "    </tr>\n",
              "    <tr>\n",
              "      <th>9</th>\n",
              "      <td>10</td>\n",
              "      <td>10.271</td>\n",
              "    </tr>\n",
              "  </tbody>\n",
              "</table>\n",
              "</div>"
            ],
            "text/plain": [
              "   product_id  measure\n",
              "0           1   10.248\n",
              "1           2    9.931\n",
              "2           3   10.324\n",
              "3           4   10.762\n",
              "4           5    9.883\n",
              "5           6    9.883\n",
              "6           7   10.790\n",
              "7           8   10.384\n",
              "8           9    9.765\n",
              "9          10   10.271"
            ]
          },
          "metadata": {
            "tags": []
          },
          "execution_count": 1
        }
      ]
    },
    {
      "cell_type": "markdown",
      "metadata": {
        "id": "5fk2mb9OtgHp"
      },
      "source": [
        "## 1. Simple Random Sampling\n",
        "\n",
        "As its name suggests, the simple random sampling method selects random samples from a process or population where every unit has the same probability of getting selected. This is the most direct method of probability sampling.\n",
        "\n",
        "<figure>\n",
        "<center>\n",
        "<img src='https://www.it.kmitl.ac.th/~teerapong/Exxon/Week2/images/1_Simple_Random_Sampling.png' alt='Simple Random Sampling'/>\n",
        "<figcaption><em>Fig. 1: Simple Random Sampling</em></figcaption></center>\n",
        "</figure>"
      ]
    },
    {
      "cell_type": "code",
      "metadata": {
        "id": "Ns9cb1ECtgHq",
        "outputId": "71ff07d7-3169-4f84-faa0-7e478de371bf"
      },
      "source": [
        "# Obtain simple random sample\n",
        "simple_random_sample = df.sample(n=4).sort_values(by='product_id')\n",
        "\n",
        "# Save the sample mean in a separate variable\n",
        "simple_random_mean = round(simple_random_sample['measure'].mean(),3)\n",
        "\n",
        "# View sampled data frame\n",
        "simple_random_sample"
      ],
      "execution_count": null,
      "outputs": [
        {
          "output_type": "execute_result",
          "data": {
            "text/html": [
              "<div>\n",
              "<style scoped>\n",
              "    .dataframe tbody tr th:only-of-type {\n",
              "        vertical-align: middle;\n",
              "    }\n",
              "\n",
              "    .dataframe tbody tr th {\n",
              "        vertical-align: top;\n",
              "    }\n",
              "\n",
              "    .dataframe thead th {\n",
              "        text-align: right;\n",
              "    }\n",
              "</style>\n",
              "<table border=\"1\" class=\"dataframe\">\n",
              "  <thead>\n",
              "    <tr style=\"text-align: right;\">\n",
              "      <th></th>\n",
              "      <th>product_id</th>\n",
              "      <th>measure</th>\n",
              "    </tr>\n",
              "  </thead>\n",
              "  <tbody>\n",
              "    <tr>\n",
              "      <th>2</th>\n",
              "      <td>3</td>\n",
              "      <td>10.324</td>\n",
              "    </tr>\n",
              "    <tr>\n",
              "      <th>6</th>\n",
              "      <td>7</td>\n",
              "      <td>10.790</td>\n",
              "    </tr>\n",
              "    <tr>\n",
              "      <th>7</th>\n",
              "      <td>8</td>\n",
              "      <td>10.384</td>\n",
              "    </tr>\n",
              "    <tr>\n",
              "      <th>8</th>\n",
              "      <td>9</td>\n",
              "      <td>9.765</td>\n",
              "    </tr>\n",
              "  </tbody>\n",
              "</table>\n",
              "</div>"
            ],
            "text/plain": [
              "   product_id  measure\n",
              "2           3   10.324\n",
              "6           7   10.790\n",
              "7           8   10.384\n",
              "8           9    9.765"
            ]
          },
          "metadata": {
            "tags": []
          },
          "execution_count": 2
        }
      ]
    },
    {
      "cell_type": "markdown",
      "metadata": {
        "id": "zqMTv2BntgHq"
      },
      "source": [
        "## 2. Systematic Sampling\n",
        "The systematic sampling method selects units based on a fixed sampling interval (i.e., every nth unit is selected from a given process or population). This sampling method tends to be more effective than the simple random sampling method.\n",
        "\n",
        "<figure>\n",
        "<center>\n",
        "<img src='https://www.it.kmitl.ac.th/~teerapong/Exxon/Week2/images/2_Systematic_Sampling.png' alt='Systematic Sampling'/>\n",
        "<figcaption><em>Fig. 2: Systematic Sampling</em></figcaption></center>\n",
        "</figure>"
      ]
    },
    {
      "cell_type": "code",
      "metadata": {
        "id": "cJuaQWistgHq",
        "outputId": "d483e14f-fe89-41f6-9816-65efebea74ef"
      },
      "source": [
        "# Define systematic sampling function\n",
        "def systematic_sampling(df, step):\n",
        "\n",
        "    indexes = np.arange(0,len(df),step=step)\n",
        "    systematic_sample = df.iloc[indexes]\n",
        "    return systematic_sample\n",
        "\n",
        "# Obtain a systematic sample and save it in a new variable\n",
        "systematic_sample = systematic_sampling(df, 3)\n",
        "\n",
        "# Save the sample mean in a separate variable\n",
        "systematic_mean = round(systematic_sample['measure'].mean(),3)\n",
        "\n",
        "# View sampled data frame\n",
        "systematic_sample"
      ],
      "execution_count": null,
      "outputs": [
        {
          "output_type": "execute_result",
          "data": {
            "text/html": [
              "<div>\n",
              "<style scoped>\n",
              "    .dataframe tbody tr th:only-of-type {\n",
              "        vertical-align: middle;\n",
              "    }\n",
              "\n",
              "    .dataframe tbody tr th {\n",
              "        vertical-align: top;\n",
              "    }\n",
              "\n",
              "    .dataframe thead th {\n",
              "        text-align: right;\n",
              "    }\n",
              "</style>\n",
              "<table border=\"1\" class=\"dataframe\">\n",
              "  <thead>\n",
              "    <tr style=\"text-align: right;\">\n",
              "      <th></th>\n",
              "      <th>product_id</th>\n",
              "      <th>measure</th>\n",
              "    </tr>\n",
              "  </thead>\n",
              "  <tbody>\n",
              "    <tr>\n",
              "      <th>0</th>\n",
              "      <td>1</td>\n",
              "      <td>10.248</td>\n",
              "    </tr>\n",
              "    <tr>\n",
              "      <th>3</th>\n",
              "      <td>4</td>\n",
              "      <td>10.762</td>\n",
              "    </tr>\n",
              "    <tr>\n",
              "      <th>6</th>\n",
              "      <td>7</td>\n",
              "      <td>10.790</td>\n",
              "    </tr>\n",
              "    <tr>\n",
              "      <th>9</th>\n",
              "      <td>10</td>\n",
              "      <td>10.271</td>\n",
              "    </tr>\n",
              "  </tbody>\n",
              "</table>\n",
              "</div>"
            ],
            "text/plain": [
              "   product_id  measure\n",
              "0           1   10.248\n",
              "3           4   10.762\n",
              "6           7   10.790\n",
              "9          10   10.271"
            ]
          },
          "metadata": {
            "tags": []
          },
          "execution_count": 3
        }
      ]
    },
    {
      "cell_type": "markdown",
      "metadata": {
        "id": "ghZuZQLCtgHr"
      },
      "source": [
        "### 3. Cluster Sampling\n",
        "The cluster sampling method divides the population in clusters of equal size *n* and selects clusters every $T^{th}$ time.\n",
        "\n",
        "<figure>\n",
        "<center>\n",
        "<img src='https://www.it.kmitl.ac.th/~teerapong/Exxon/Week2/images/3_Cluster_Sampling.png' alt='Cluster Sampling'/>\n",
        "<figcaption><em>Fig. 3: Cluster Sampling</em></figcaption></center>\n",
        "</figure>"
      ]
    },
    {
      "cell_type": "code",
      "metadata": {
        "id": "2ulz6IpKtgHr",
        "outputId": "5ef29203-89ae-460a-c374-19811c53724e"
      },
      "source": [
        "def cluster_sampling(df, number_of_clusters):\n",
        "\n",
        "    try:\n",
        "        # Divide the units into cluster of equal size\n",
        "        df['cluster_id'] = np.repeat([range(1,number_of_clusters+1)],len(df)/number_of_clusters)\n",
        "\n",
        "        # Create an empty list\n",
        "        indexes = []\n",
        "\n",
        "        # Append the indexes from the clusters that meet the criteria\n",
        "        # For this formula, clusters id must be an even number\n",
        "        for i in range(0,len(df)):\n",
        "            if df['cluster_id'].iloc[i]%2 == 0:\n",
        "                indexes.append(i)\n",
        "        cluster_sample = df.iloc[indexes]\n",
        "        return(cluster_sample)\n",
        "\n",
        "    except:\n",
        "        print(\"The population cannot be divided into clusters of equal size!\")\n",
        "\n",
        "# Obtain a cluster sample and save it in a new variable\n",
        "cluster_sample = cluster_sampling(df,5)\n",
        "\n",
        "# Save the sample mean in a separate variable\n",
        "cluster_mean = round(cluster_sample['measure'].mean(),3)\n",
        "\n",
        "# View sampled data frame\n",
        "cluster_sample"
      ],
      "execution_count": null,
      "outputs": [
        {
          "output_type": "execute_result",
          "data": {
            "text/html": [
              "<div>\n",
              "<style scoped>\n",
              "    .dataframe tbody tr th:only-of-type {\n",
              "        vertical-align: middle;\n",
              "    }\n",
              "\n",
              "    .dataframe tbody tr th {\n",
              "        vertical-align: top;\n",
              "    }\n",
              "\n",
              "    .dataframe thead th {\n",
              "        text-align: right;\n",
              "    }\n",
              "</style>\n",
              "<table border=\"1\" class=\"dataframe\">\n",
              "  <thead>\n",
              "    <tr style=\"text-align: right;\">\n",
              "      <th></th>\n",
              "      <th>product_id</th>\n",
              "      <th>measure</th>\n",
              "      <th>cluster_id</th>\n",
              "    </tr>\n",
              "  </thead>\n",
              "  <tbody>\n",
              "    <tr>\n",
              "      <th>2</th>\n",
              "      <td>3</td>\n",
              "      <td>10.324</td>\n",
              "      <td>2</td>\n",
              "    </tr>\n",
              "    <tr>\n",
              "      <th>3</th>\n",
              "      <td>4</td>\n",
              "      <td>10.762</td>\n",
              "      <td>2</td>\n",
              "    </tr>\n",
              "    <tr>\n",
              "      <th>6</th>\n",
              "      <td>7</td>\n",
              "      <td>10.790</td>\n",
              "      <td>4</td>\n",
              "    </tr>\n",
              "    <tr>\n",
              "      <th>7</th>\n",
              "      <td>8</td>\n",
              "      <td>10.384</td>\n",
              "      <td>4</td>\n",
              "    </tr>\n",
              "  </tbody>\n",
              "</table>\n",
              "</div>"
            ],
            "text/plain": [
              "   product_id  measure  cluster_id\n",
              "2           3   10.324           2\n",
              "3           4   10.762           2\n",
              "6           7   10.790           4\n",
              "7           8   10.384           4"
            ]
          },
          "metadata": {
            "tags": []
          },
          "execution_count": 4
        }
      ]
    },
    {
      "cell_type": "markdown",
      "metadata": {
        "id": "71fr_W3GtgHs"
      },
      "source": [
        "## 4. Stratified Random Sampling\n",
        "The stratified random sampling method divides the population in subgroups (i.e., strata) and selects random samples where every unit has the same probability of getting selected.\n",
        "\n",
        "<figure>\n",
        "<center>\n",
        "<img src='https://www.it.kmitl.ac.th/~teerapong/Exxon/Week2/images/4_Stratified_Random_Sampling.png' alt='Stratified Random Sampling'/>\n",
        "<figcaption><em>Fig. 4: Stratified Random Sampling</em></figcaption></center>\n",
        "</figure>"
      ]
    },
    {
      "cell_type": "code",
      "metadata": {
        "id": "9nZCWumutgHs",
        "outputId": "7a2bea23-62c9-4014-d191-81c38be9e938"
      },
      "source": [
        "# Create data dictionary with strata (subgroup - 'column \"product_strata\"')\n",
        "data = {'product_id':np.arange(1, number_of_products+1).tolist(),\n",
        "       'product_strata':np.repeat([1,2], number_of_products/2).tolist(),\n",
        "       'measure':np.round(np.random.normal(loc=10, scale=0.5, size=number_of_products),3)}\n",
        "\n",
        "# Transform dictionary into a data frame\n",
        "df = pd.DataFrame(data)\n",
        "\n",
        "# View data frame\n",
        "df"
      ],
      "execution_count": null,
      "outputs": [
        {
          "output_type": "execute_result",
          "data": {
            "text/html": [
              "<div>\n",
              "<style scoped>\n",
              "    .dataframe tbody tr th:only-of-type {\n",
              "        vertical-align: middle;\n",
              "    }\n",
              "\n",
              "    .dataframe tbody tr th {\n",
              "        vertical-align: top;\n",
              "    }\n",
              "\n",
              "    .dataframe thead th {\n",
              "        text-align: right;\n",
              "    }\n",
              "</style>\n",
              "<table border=\"1\" class=\"dataframe\">\n",
              "  <thead>\n",
              "    <tr style=\"text-align: right;\">\n",
              "      <th></th>\n",
              "      <th>product_id</th>\n",
              "      <th>product_strata</th>\n",
              "      <th>measure</th>\n",
              "    </tr>\n",
              "  </thead>\n",
              "  <tbody>\n",
              "    <tr>\n",
              "      <th>0</th>\n",
              "      <td>1</td>\n",
              "      <td>1</td>\n",
              "      <td>9.853</td>\n",
              "    </tr>\n",
              "    <tr>\n",
              "      <th>1</th>\n",
              "      <td>2</td>\n",
              "      <td>1</td>\n",
              "      <td>9.985</td>\n",
              "    </tr>\n",
              "    <tr>\n",
              "      <th>2</th>\n",
              "      <td>3</td>\n",
              "      <td>1</td>\n",
              "      <td>10.048</td>\n",
              "    </tr>\n",
              "    <tr>\n",
              "      <th>3</th>\n",
              "      <td>4</td>\n",
              "      <td>1</td>\n",
              "      <td>10.332</td>\n",
              "    </tr>\n",
              "    <tr>\n",
              "      <th>4</th>\n",
              "      <td>5</td>\n",
              "      <td>1</td>\n",
              "      <td>9.930</td>\n",
              "    </tr>\n",
              "    <tr>\n",
              "      <th>5</th>\n",
              "      <td>6</td>\n",
              "      <td>2</td>\n",
              "      <td>9.983</td>\n",
              "    </tr>\n",
              "    <tr>\n",
              "      <th>6</th>\n",
              "      <td>7</td>\n",
              "      <td>2</td>\n",
              "      <td>9.625</td>\n",
              "    </tr>\n",
              "    <tr>\n",
              "      <th>7</th>\n",
              "      <td>8</td>\n",
              "      <td>2</td>\n",
              "      <td>9.611</td>\n",
              "    </tr>\n",
              "    <tr>\n",
              "      <th>8</th>\n",
              "      <td>9</td>\n",
              "      <td>2</td>\n",
              "      <td>10.474</td>\n",
              "    </tr>\n",
              "    <tr>\n",
              "      <th>9</th>\n",
              "      <td>10</td>\n",
              "      <td>2</td>\n",
              "      <td>10.790</td>\n",
              "    </tr>\n",
              "  </tbody>\n",
              "</table>\n",
              "</div>"
            ],
            "text/plain": [
              "   product_id  product_strata  measure\n",
              "0           1               1    9.853\n",
              "1           2               1    9.985\n",
              "2           3               1   10.048\n",
              "3           4               1   10.332\n",
              "4           5               1    9.930\n",
              "5           6               2    9.983\n",
              "6           7               2    9.625\n",
              "7           8               2    9.611\n",
              "8           9               2   10.474\n",
              "9          10               2   10.790"
            ]
          },
          "metadata": {
            "tags": []
          },
          "execution_count": 6
        }
      ]
    },
    {
      "cell_type": "code",
      "metadata": {
        "id": "y7KwyAQ0tgHt",
        "outputId": "4396a1a7-8861-452d-8687-ad18a6a850d4"
      },
      "source": [
        "# Import StratifiedShuffleSplit\n",
        "from sklearn.model_selection import StratifiedShuffleSplit\n",
        "\n",
        "# Set the split criteria\n",
        "split = StratifiedShuffleSplit(n_splits=1, test_size=4)\n",
        "\n",
        "# Perform data frame split\n",
        "for x, y in split.split(df, df['product_strata']):\n",
        "    stratified_random_sample = df.iloc[y].sort_values(by='product_id')\n",
        "\n",
        "# Save the sample mean in a separate variable\n",
        "stratified_random_mean = round(stratified_random_sample['measure'].mean(),3)\n",
        "\n",
        "# View sampled data frame\n",
        "stratified_random_sample"
      ],
      "execution_count": null,
      "outputs": [
        {
          "output_type": "execute_result",
          "data": {
            "text/html": [
              "<div>\n",
              "<style scoped>\n",
              "    .dataframe tbody tr th:only-of-type {\n",
              "        vertical-align: middle;\n",
              "    }\n",
              "\n",
              "    .dataframe tbody tr th {\n",
              "        vertical-align: top;\n",
              "    }\n",
              "\n",
              "    .dataframe thead th {\n",
              "        text-align: right;\n",
              "    }\n",
              "</style>\n",
              "<table border=\"1\" class=\"dataframe\">\n",
              "  <thead>\n",
              "    <tr style=\"text-align: right;\">\n",
              "      <th></th>\n",
              "      <th>product_id</th>\n",
              "      <th>product_strata</th>\n",
              "      <th>measure</th>\n",
              "    </tr>\n",
              "  </thead>\n",
              "  <tbody>\n",
              "    <tr>\n",
              "      <th>3</th>\n",
              "      <td>4</td>\n",
              "      <td>1</td>\n",
              "      <td>10.332</td>\n",
              "    </tr>\n",
              "    <tr>\n",
              "      <th>4</th>\n",
              "      <td>5</td>\n",
              "      <td>1</td>\n",
              "      <td>9.930</td>\n",
              "    </tr>\n",
              "    <tr>\n",
              "      <th>8</th>\n",
              "      <td>9</td>\n",
              "      <td>2</td>\n",
              "      <td>10.474</td>\n",
              "    </tr>\n",
              "    <tr>\n",
              "      <th>9</th>\n",
              "      <td>10</td>\n",
              "      <td>2</td>\n",
              "      <td>10.790</td>\n",
              "    </tr>\n",
              "  </tbody>\n",
              "</table>\n",
              "</div>"
            ],
            "text/plain": [
              "   product_id  product_strata  measure\n",
              "3           4               1   10.332\n",
              "4           5               1    9.930\n",
              "8           9               2   10.474\n",
              "9          10               2   10.790"
            ]
          },
          "metadata": {
            "tags": []
          },
          "execution_count": 12
        }
      ]
    },
    {
      "cell_type": "code",
      "metadata": {
        "id": "TcwaAjo6tgHt",
        "outputId": "49f18479-d70c-4f6c-e24c-576a61abb449"
      },
      "source": [
        "# Obtain the sample mean for each group\n",
        "stratified_random_sample.groupby('product_strata').mean().drop(['product_id'],axis=1)"
      ],
      "execution_count": null,
      "outputs": [
        {
          "output_type": "execute_result",
          "data": {
            "text/html": [
              "<div>\n",
              "<style scoped>\n",
              "    .dataframe tbody tr th:only-of-type {\n",
              "        vertical-align: middle;\n",
              "    }\n",
              "\n",
              "    .dataframe tbody tr th {\n",
              "        vertical-align: top;\n",
              "    }\n",
              "\n",
              "    .dataframe thead th {\n",
              "        text-align: right;\n",
              "    }\n",
              "</style>\n",
              "<table border=\"1\" class=\"dataframe\">\n",
              "  <thead>\n",
              "    <tr style=\"text-align: right;\">\n",
              "      <th></th>\n",
              "      <th>measure</th>\n",
              "    </tr>\n",
              "    <tr>\n",
              "      <th>product_strata</th>\n",
              "      <th></th>\n",
              "    </tr>\n",
              "  </thead>\n",
              "  <tbody>\n",
              "    <tr>\n",
              "      <th>1</th>\n",
              "      <td>10.131</td>\n",
              "    </tr>\n",
              "    <tr>\n",
              "      <th>2</th>\n",
              "      <td>10.632</td>\n",
              "    </tr>\n",
              "  </tbody>\n",
              "</table>\n",
              "</div>"
            ],
            "text/plain": [
              "                measure\n",
              "product_strata         \n",
              "1                10.131\n",
              "2                10.632"
            ]
          },
          "metadata": {
            "tags": []
          },
          "execution_count": 13
        }
      ]
    },
    {
      "cell_type": "markdown",
      "metadata": {
        "id": "h0j4WAYstgHu"
      },
      "source": [
        "# Measure Mean Comparison per Sampling Method\n",
        "Once samples have been obtained using each sampling technique, let’s compare the samples means with the population mean (which usually is unknown, but not in this case) to determine the sampling technique that leads to the best approximation of the population measure mean."
      ]
    },
    {
      "cell_type": "code",
      "metadata": {
        "id": "q-jM4nz5tgHu",
        "outputId": "a1f983d9-fb26-4b72-bcc9-d1a865bcd0dc"
      },
      "source": [
        "# Create a dictionary with the mean outcomes for each sampling method and the real mean\n",
        "outcomes = {'sample_mean':[simple_random_mean, systematic_mean, cluster_mean, stratified_random_mean],\n",
        "           'real_mean':real_mean}\n",
        "\n",
        "# Transform dictionary into a data frame\n",
        "outcomes = pd.DataFrame(outcomes, index=['Simple Random Sampling','Systematic Sampling','Cluster Sampling', 'Stratified Random Sampling'])\n",
        "\n",
        "# Add a value corresponding to the absolute error\n",
        "outcomes['abs_error'] = abs(outcomes['real_mean'] - outcomes['sample_mean'])\n",
        "\n",
        "# Sort data frame by absolute error\n",
        "outcomes.sort_values(by='abs_error')"
      ],
      "execution_count": null,
      "outputs": [
        {
          "output_type": "execute_result",
          "data": {
            "text/html": [
              "<div>\n",
              "<style scoped>\n",
              "    .dataframe tbody tr th:only-of-type {\n",
              "        vertical-align: middle;\n",
              "    }\n",
              "\n",
              "    .dataframe tbody tr th {\n",
              "        vertical-align: top;\n",
              "    }\n",
              "\n",
              "    .dataframe thead th {\n",
              "        text-align: right;\n",
              "    }\n",
              "</style>\n",
              "<table border=\"1\" class=\"dataframe\">\n",
              "  <thead>\n",
              "    <tr style=\"text-align: right;\">\n",
              "      <th></th>\n",
              "      <th>sample_mean</th>\n",
              "      <th>real_mean</th>\n",
              "      <th>abs_error</th>\n",
              "    </tr>\n",
              "  </thead>\n",
              "  <tbody>\n",
              "    <tr>\n",
              "      <th>Simple Random Sampling</th>\n",
              "      <td>10.316</td>\n",
              "      <td>10.224</td>\n",
              "      <td>0.092</td>\n",
              "    </tr>\n",
              "    <tr>\n",
              "      <th>Stratified Random Sampling</th>\n",
              "      <td>10.381</td>\n",
              "      <td>10.224</td>\n",
              "      <td>0.157</td>\n",
              "    </tr>\n",
              "    <tr>\n",
              "      <th>Systematic Sampling</th>\n",
              "      <td>10.518</td>\n",
              "      <td>10.224</td>\n",
              "      <td>0.294</td>\n",
              "    </tr>\n",
              "    <tr>\n",
              "      <th>Cluster Sampling</th>\n",
              "      <td>10.565</td>\n",
              "      <td>10.224</td>\n",
              "      <td>0.341</td>\n",
              "    </tr>\n",
              "  </tbody>\n",
              "</table>\n",
              "</div>"
            ],
            "text/plain": [
              "                            sample_mean  real_mean  abs_error\n",
              "Simple Random Sampling           10.316     10.224      0.092\n",
              "Stratified Random Sampling       10.381     10.224      0.157\n",
              "Systematic Sampling              10.518     10.224      0.294\n",
              "Cluster Sampling                 10.565     10.224      0.341"
            ]
          },
          "metadata": {
            "tags": []
          },
          "execution_count": 14
        }
      ]
    },
    {
      "cell_type": "markdown",
      "metadata": {
        "id": "xFFNISi2tgHu"
      },
      "source": [
        "## Results\n",
        "According to the Measure Mean Comparison per Sampling Method Table, the measure mean of the sample obtained through the simple random sampling technique was the closest one to the real mean, with an absolute error of 0.092 units."
      ]
    },
    {
      "cell_type": "markdown",
      "metadata": {
        "id": "07l3roGYtgHu"
      },
      "source": [
        "## Concluding Thoughts\n",
        "Sampling represents a useful and effective method for drawing conclusions about a population from a sample. However, analysts and engineers must define sampling techniques with adequate sample sizes capable of reducing sampling bias (e.g., convenience sampling selection bias, systematic sampling bias selection bias, environmental bias, non-response bias) to obtain representative samples of a given population"
      ]
    },
    {
      "cell_type": "code",
      "metadata": {
        "id": "5HoNLSYstgHv"
      },
      "source": [],
      "execution_count": null,
      "outputs": []
    }
  ]
}