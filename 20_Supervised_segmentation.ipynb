{
  "nbformat": 4,
  "nbformat_minor": 0,
  "metadata": {
    "colab": {
      "provenance": [],
      "include_colab_link": true
    },
    "kernelspec": {
      "display_name": "Python 3",
      "language": "python",
      "name": "python3"
    },
    "language_info": {
      "codemirror_mode": {
        "name": "ipython",
        "version": 3
      },
      "file_extension": ".py",
      "mimetype": "text/x-python",
      "name": "python",
      "nbconvert_exporter": "python",
      "pygments_lexer": "ipython3",
      "version": "3.7.3"
    }
  },
  "cells": [
    {
      "cell_type": "markdown",
      "metadata": {
        "id": "view-in-github",
        "colab_type": "text"
      },
      "source": [
        "<a href=\"https://colab.research.google.com/github/MinakoNG63/DSFB/blob/main/20_Supervised_segmentation.ipynb\" target=\"_parent\"><img src=\"https://colab.research.google.com/assets/colab-badge.svg\" alt=\"Open In Colab\"/></a>"
      ]
    },
    {
      "cell_type": "markdown",
      "metadata": {
        "id": "srnItlTrkkJT"
      },
      "source": [
        "# 20) Supervised Segmentation (Decision Tress and its Visualization on Titanic Dataset)\n",
        "\n",
        "Term 1 2022 - Instructor: Teerapong Leelanupab\n",
        "\n",
        "Teaching Assistant:\n",
        "1. Piyawat Chuangkrud (Sam)\n",
        "2. Suvapat Manu (Mint)\n",
        "\n",
        "***"
      ]
    },
    {
      "cell_type": "code",
      "metadata": {
        "id": "ihhX9V55NRxt"
      },
      "source": [
        "import pandas as pd\n",
        "# This is for setting an output to show more row\n",
        "\n",
        "pd.set_option('display.max_colwidth', None)\n",
        "# pd.set_option('max_rows', 500)\n",
        "#pd.set_option('max_colwidth', 400)\n",
        "# pd.describe_option('max_colwidth')"
      ],
      "execution_count": null,
      "outputs": []
    },
    {
      "cell_type": "code",
      "metadata": {
        "colab": {
          "base_uri": "https://localhost:8080/"
        },
        "id": "WMLRIJ-cv3Yq",
        "outputId": "25e27086-c5e4-4ef5-9c43-680828d9a9f9"
      },
      "source": [
        "#---------------------------------\n",
        "#download files จาก google drive\n",
        "#---------------------------------\n",
        "# Titanic_dataset.zip\n",
        "#dataurl = 'https://drive.google.com/file/d/1t3a4iZr6f4xfPXNl1e3Kw78l3pBiEEVw/view?usp=sharing'\n",
        "!gdown --id 1t3a4iZr6f4xfPXNl1e3Kw78l3pBiEEVw"
      ],
      "execution_count": null,
      "outputs": [
        {
          "output_type": "stream",
          "text": [
            "Downloading...\n",
            "From: https://drive.google.com/uc?id=1t3a4iZr6f4xfPXNl1e3Kw78l3pBiEEVw\n",
            "To: /content/Titanic_dataset.zip\n",
            "\r  0% 0.00/46.5k [00:00<?, ?B/s]\r100% 46.5k/46.5k [00:00<00:00, 35.8MB/s]\n"
          ],
          "name": "stdout"
        }
      ]
    },
    {
      "cell_type": "code",
      "metadata": {
        "colab": {
          "base_uri": "https://localhost:8080/"
        },
        "id": "ABYjozHoqh0f",
        "outputId": "ce06c55e-7a10-4d31-cf3e-728969fe1476"
      },
      "source": [
        "!unzip Titanic_dataset.zip"
      ],
      "execution_count": null,
      "outputs": [
        {
          "output_type": "stream",
          "text": [
            "Archive:  Titanic_dataset.zip\n",
            "replace titanic.csv? [y]es, [n]o, [A]ll, [N]one, [r]ename: A\n",
            "  inflating: titanic.csv             \n",
            "  inflating: pre_split/test.csv      \n",
            "  inflating: pre_split/train.csv     \n",
            "  inflating: description.txt         \n"
          ],
          "name": "stdout"
        }
      ]
    },
    {
      "cell_type": "markdown",
      "metadata": {
        "id": "ItQWyzfWcKwF"
      },
      "source": [
        "## 1. Load data\n",
        "## 2. Clean data & Split data into features and a target"
      ]
    },
    {
      "cell_type": "code",
      "metadata": {
        "id": "JaCp1_b4lT62"
      },
      "source": [
        "import numpy as np\n",
        "import pandas as pd\n",
        "import matplotlib.pyplot as plt\n",
        "\n",
        "def load_data():\n",
        "  titanic_df = pd.read_csv('titanic.csv')\n",
        "  return titanic_df\n",
        "\n",
        "def clean_data(df):\n",
        "  df['Cabin'] = df['Cabin'].fillna('nocabin')\n",
        "  df['Age'] = df['Age'].fillna(df['Age'].mean())\n",
        "  df['Embarked'] = df['Embarked'].fillna(df['Embarked'].mode()[0])\n",
        "  return df\n",
        "\n",
        "def split_data_label(df):\n",
        "  y = df['Survived']\n",
        "  X = df.drop('Survived', axis=1)\n",
        "  return X, y"
      ],
      "execution_count": null,
      "outputs": []
    },
    {
      "cell_type": "markdown",
      "metadata": {
        "id": "586TLigXchFr"
      },
      "source": [
        "## 3. Extract Feature"
      ]
    },
    {
      "cell_type": "markdown",
      "metadata": {
        "id": "vDu7Bs2gd8JQ"
      },
      "source": [
        "### 3.11 <font color='red'>Feature Extraction **function**</font>\n",
        "\n",
        "***\n",
        "We can re-start to run from here"
      ]
    },
    {
      "cell_type": "code",
      "metadata": {
        "id": "l7g11PYUd8MO"
      },
      "source": [
        "from sklearn.preprocessing import OneHotEncoder,LabelEncoder\n",
        "from sklearn.preprocessing import normalize\n",
        "import re\n",
        "\n",
        "# create a special function to extract the initial\n",
        "def getinitialfeature(df):\n",
        "  initial = []\n",
        "  for i in range(len(df)):\n",
        "    fn = df['Name'][i]\n",
        "    initial.append(fn.split(',')[1].split('.')[0].strip())\n",
        "  return initial\n",
        "\n",
        "# create a special function to extract the ticket flag (Contain only number or not)\n",
        "def getnumticket(ticketList):\n",
        "  numticket = []\n",
        "  for i in range(len(ticketList)):\n",
        "    try:\n",
        "      int(ticketList[i])\n",
        "      numticket.append(1)\n",
        "    except:\n",
        "      numticket.append(0)\n",
        "  return numticket\n",
        "\n",
        "# create a special function to extract the Alphabet Prefix of Ticket\n",
        "def getAlphabetPrefixTicket(df):\n",
        "    #alphaPrefixDict = []\n",
        "    alphaPrefixTicket = []\n",
        "    for i in range(len(df)):\n",
        "        ticket = df['Ticket'].values[i]\n",
        "        res = re.findall('^[\\w/.]+\\s|$', ticket)[0]\n",
        "        #res = re.findall('^[\\w?.!/;:]+\\s|$', ticket)[0]\n",
        "\n",
        "        # res = re.search('^[\\w/.]+\\s|$', ticket).group()\n",
        "        # alphaPrefixDict.append((ticket, res.strip()))\n",
        "\n",
        "        ticketCode =  'Ticket-' + res.strip().translate({ord(i):None for i in '/.'})\n",
        "        alphaPrefixTicket.append(ticketCode)\n",
        "#     x = np.array(alphaPrefixTicket)\n",
        "#     print(np.unique(x))\n",
        "    df['alphaPrefixTicket'] = alphaPrefixTicket\n",
        "    alphaPrefix_cats  = [['Ticket-', 'Ticket-A4', 'Ticket-A5', 'Ticket-AS', 'Ticket-C', 'Ticket-CA',\n",
        "         'Ticket-CASOTON', 'Ticket-FC', 'Ticket-FCC', 'Ticket-Fa', 'Ticket-PC',\n",
        "         'Ticket-PP', 'Ticket-PPP', 'Ticket-SC', 'Ticket-SCA4', 'Ticket-SCAH',\n",
        "         'Ticket-SCOW', 'Ticket-SCPARIS', 'Ticket-SCParis', 'Ticket-SOC', 'Ticket-SOP',\n",
        "         'Ticket-SOPP', 'Ticket-SOTONO2', 'Ticket-SOTONOQ', 'Ticket-SP',\n",
        "         'Ticket-STONO', 'Ticket-STONO2', 'Ticket-SWPP', 'Ticket-WC', 'Ticket-WEP']]\n",
        "#     alphaPrefixDummy = pd.get_dummies(df['alphaPrefixTicket'], columns = alphaPrefix_cats, drop_first=True)\n",
        "\n",
        "    alphaPrefix_ohe = OneHotEncoder(categories = alphaPrefix_cats, drop = 'first')\n",
        "    alphaPrefix_feature_arr = alphaPrefix_ohe.fit_transform(df[['alphaPrefixTicket']]).toarray()\n",
        "    #confirm that categories are sorted in the same as pre-defined list\n",
        "    #print(alphaPrefix_ohe.categories_)\n",
        "    alphaPrefix_cats[0].remove('Ticket-')\n",
        "    alphaPrefix_feature_labels = alphaPrefix_cats[0]\n",
        "    alphaPrefixDummy = pd.DataFrame(alphaPrefix_feature_arr, columns=alphaPrefix_feature_labels)\n",
        "    return alphaPrefixDummy\n",
        "\n",
        "# -------------------------------------------------------------------------------------\n",
        "# create a very special function to put what we do all together\n",
        "# -------------------------------------------------------------------------------------\n",
        "def extract_feat(df):\n",
        "  X = df.copy()\n",
        "  X = X.drop('PassengerId', axis=1)\n",
        "\n",
        "  # 3.1 Cabin Zone\n",
        "  X['CabinZone'] = X['Cabin'].str[0]\n",
        "\n",
        "  # 3.2 Initial of passenger\n",
        "  X['Initial'] = getinitialfeature(X)\n",
        "\n",
        "  # 3.3 ticket flag\n",
        "  ticketList = X['Ticket'].values\n",
        "  X['Only_Num_in_Ticket'] = getnumticket(ticketList)\n",
        "\n",
        "  # ******************************** Additional Block 1: Extract More Features ******************************\n",
        "  # 3.x ticket prefix\n",
        "  alphaPrefix=getAlphabetPrefixTicket(X)\n",
        "  X = X.drop('alphaPrefixTicket', axis=1)\n",
        "  # *********************************************************************************************************\n",
        "\n",
        "  # 3.4 Quantize Fare\n",
        "  quantile_list = [0, .25, .5, .75, 1.]\n",
        "  quantile_labels = ['0-25Q', '25-50Q', '50-75Q', '75-100Q']\n",
        "  X['Fare_Adaptive_Bin'] = pd.qcut(X['Fare'], q=quantile_list, labels=quantile_labels)\n",
        "\n",
        "  # 3.7 Drop unwanted features\n",
        "  # from 3.1 Cabin\n",
        "  X.drop('Cabin', axis=1, inplace=True)\n",
        "  # from 3.2 Name\n",
        "  X.drop('Name', axis=1, inplace=True)\n",
        "  # from 3.3 Ticket\n",
        "  X.drop('Ticket', axis=1, inplace=True)\n",
        "\n",
        "  # 3.8 Encode all categorical features\n",
        "\n",
        "  # ******************************** Additional Block 2: Encode Pclass **************************************\n",
        "  # 3.8.x Apply OneHotEncoding to PClass\n",
        "  pclass_features = pd.get_dummies(X['Pclass'])\n",
        "  feature_labels = ['Pclass_' + str(cls_label) for cls_label in pclass_features.columns]\n",
        "  pclass_features.columns = feature_labels\n",
        "  X = X.drop(columns='Pclass', axis=1)\n",
        "  # *********************************************************************************************************\n",
        "\n",
        "  # 3.8.1 Apply OneHotEncoding to CabinZone\n",
        "  cabin_zone_features = pd.get_dummies(X['CabinZone'])\n",
        "  feature_labels = ['CabinZone_' + str(cls_label) for cls_label in cabin_zone_features.columns]\n",
        "  cabin_zone_features.columns = feature_labels\n",
        "\n",
        "  # 3.8.2 Apply OneHotEncoding to Embarked\n",
        "  embarked_features = pd.get_dummies(X['Embarked'])\n",
        "  feature_labels = ['Embarked_' + str(cls_label) for cls_label in embarked_features.columns]\n",
        "  embarked_features.columns = feature_labels\n",
        "\n",
        "  # 3.8.3 Apply OneHotEncoding to Fare_Adaptive_Bin\n",
        "  fare_adap_bin_features = pd.get_dummies(X['Fare_Adaptive_Bin'])\n",
        "  feature_labels = ['FareAdapBin_' + str(cls_label) for cls_label in fare_adap_bin_features.columns]\n",
        "  fare_adap_bin_features.columns = feature_labels\n",
        "\n",
        "  # 3.8.4 Apply Dummy Coding Scheme to Sex (Male flag)\n",
        "  male_features = pd.get_dummies(X['Sex'], drop_first=True)\n",
        "\n",
        "\n",
        "  # ******************************** Additional Block 3: Encode Initial *************************************\n",
        "  # 3.8.5.1 Apply LabelEncoding to Initial\n",
        "  # enc = LabelEncoder()\n",
        "  # initial_arr = enc.fit_transform(X['Initial'])\n",
        "  # initial_features = pd.DataFrame({'Initial_Feature': initial_arr})\n",
        "\n",
        "  # 3.8.5.2 Apply OneHotEncoding to Initial\n",
        "  initial_features = pd.get_dummies(X['Initial'])\n",
        "  feature_labels = ['Initial_' + str(cls_label) for cls_label in initial_features.columns]\n",
        "  initial_features.columns = feature_labels\n",
        "  # *********************************************************************************************************\n",
        "\n",
        "\n",
        "  # *********************************** Additional Block 4: Concatenate Features ****************************\n",
        "  # 3.9 Cancatenate all features to the original dataframe\n",
        "  # X = pd.concat([X,cabin_zone_features,embarked_features,fare_adap_bin_features, male_features,initial_features],axis=1)\n",
        "\n",
        "  # ****************Add two more features*******************\n",
        "  #--------Option 1: add AlphaPrefix-------\n",
        "  # X = pd.concat([X,cabin_zone_features,embarked_features,fare_adap_bin_features, male_features,initial_features,alphaPrefix],axis=1)\n",
        "  #--------Option 2: add Pclass and AlphaPrefix-------\n",
        "  X = pd.concat([X,pclass_features,cabin_zone_features,embarked_features,fare_adap_bin_features, male_features,initial_features,alphaPrefix],axis=1)\n",
        "  # *********************************************************************************************************\n",
        "\n",
        "\n",
        "  # 3.10 Filter in only numeric features to train a model\n",
        "  X = X._get_numeric_data()\n",
        "  #display(X)\n",
        "  #print(X.shape)\n",
        "\n",
        "  # 3.11 Apply feature normalization\n",
        "  # X.loc[:, X.columns] = normalize(X, norm='max')\n",
        "  # display(X)\n",
        "  return X"
      ],
      "execution_count": null,
      "outputs": []
    },
    {
      "cell_type": "markdown",
      "metadata": {
        "id": "H1PgYeWqlqgV"
      },
      "source": [
        "# 4. Create Predictive Model"
      ]
    },
    {
      "cell_type": "markdown",
      "metadata": {
        "id": "1q1LAVDYQYRz"
      },
      "source": [
        "## 4.1 Simple hold-out spliting"
      ]
    },
    {
      "cell_type": "code",
      "metadata": {
        "id": "I8KtRiJUQb3h"
      },
      "source": [
        "from sklearn.model_selection import train_test_split\n",
        "\n",
        "def simple_hold_out_spliting(X, y, test_size):\n",
        "  X_train, X_test, y_train, y_test = train_test_split(X, y, test_size = test_size, random_state = 1)\n",
        "  return X_train, X_test, y_train, y_test"
      ],
      "execution_count": null,
      "outputs": []
    },
    {
      "cell_type": "code",
      "metadata": {
        "id": "YoAO_cvyPzX5"
      },
      "source": [],
      "execution_count": null,
      "outputs": []
    },
    {
      "cell_type": "code",
      "metadata": {
        "colab": {
          "base_uri": "https://localhost:8080/",
          "height": 316
        },
        "id": "6eXkmw6JP0TN",
        "outputId": "befccf6c-041b-4050-9d72-c88d2c64077b"
      },
      "source": [
        "  # 1. Get data\n",
        "  titanic_df = load_data()\n",
        "\n",
        "  # 2.1 Clean data\n",
        "  clean_titanic_df = clean_data(titanic_df.copy())\n",
        "\n",
        "  print(\"----- Histogram of 'Survived' -----\")\n",
        "  plt.figure()\n",
        "  p = clean_titanic_df.Survived.value_counts(normalize=True).plot(kind='bar')\n",
        "  p.set_xlabel(\"Survived\",fontsize=14)\n",
        "  p.set_ylabel(\"Count\",fontsize=14)\n",
        "  plt.show()\n",
        "  print(\"Traning set - negative class ratio: \" + str(round(len(clean_titanic_df[clean_titanic_df['Survived']==0])/len(clean_titanic_df),2)))\n",
        "\n",
        "  # 2.2 Split data into X (Features) and y (Target)\n",
        "  X, y = split_data_label(clean_titanic_df)\n",
        "\n",
        "  # 3. Extract feature\n",
        "  X = extract_feat(X)\n",
        "\n",
        "  extracted_clean_titanic_df = pd.concat([X,y],axis=1)"
      ],
      "execution_count": null,
      "outputs": [
        {
          "output_type": "stream",
          "text": [
            "----- Histogram of 'Survived' -----\n"
          ],
          "name": "stdout"
        },
        {
          "output_type": "display_data",
          "data": {
            "image/png": "[encoded data removed]",
            "text/plain": [
              "<Figure size 432x288 with 1 Axes>"
            ]
          },
          "metadata": {
            "tags": [],
            "needs_background": "light"
          }
        },
        {
          "output_type": "stream",
          "text": [
            "Traning set - negative class ratio: 0.62\n"
          ],
          "name": "stdout"
        }
      ]
    },
    {
      "cell_type": "markdown",
      "metadata": {
        "id": "VcLIDY0ZQehC"
      },
      "source": [
        "## 4.2 Train/fit model on Decision Tree"
      ]
    },
    {
      "cell_type": "markdown",
      "metadata": {
        "id": "Vr4Zq2FjNds3"
      },
      "source": [
        "***\n",
        "\n",
        "\n",
        "**Entropy** ($H$) and **information gain** ($IG$) are useful tools for measuring the effectiveness of a split on the data. Entropy measures how random data is, information gain is a measure of the reduction in randomness after performing a split.\n",
        "\n",
        "\n",
        "<figure>\n",
        "<center>\n",
        "<img src='https://www.it.kmitl.ac.th/~teerapong/Exxon/Week2/images/dsfb_0304.png' alt='Splitting the \"write-off\" sample' height=50% width=50%/>\n",
        "<figcaption><em>Figure 1. Splitting the \"write-off\" sample into two segments, based on splitting the Balance attribute (account balance) at 50K.</em></figcaption></center>\n",
        "</figure>\n",
        "\n",
        "<figure>\n",
        "<center>\n",
        "<img src='https://www.it.kmitl.ac.th/~teerapong/Exxon/Week2/images/dsfb_0305.png' alt='classification tree split' height=50% width=50%/>\n",
        "<figcaption><em>Figure 2. A classification tree split on the three-values Residence attribute.\n",
        "</em></figcaption></center>\n",
        "</figure>\n",
        "\n",
        "Given the data, it is fairly straight forward to calculate both of these quantities."
      ]
    },
    {
      "cell_type": "markdown",
      "metadata": {
        "id": "8ADqTj_DNhV4"
      },
      "source": [
        "### 4.2.1 Functions to get the entropy and IG"
      ]
    },
    {
      "cell_type": "code",
      "metadata": {
        "id": "-8EZenL7Nhc3"
      },
      "source": [
        "def entropy(target_column):\n",
        "    \"\"\"\n",
        "        computes -sum_i p_i * log_2 (p_i) for each i\n",
        "    \"\"\"\n",
        "    # get the counts of each target value\n",
        "    target_counts = target_column.value_counts().astype(float).values\n",
        "    total = target_column.count()\n",
        "    # compute probas\n",
        "    probas = target_counts/total\n",
        "    # p_i * log_2 (p_i)\n",
        "    entropy_components = probas * np.log2(probas)\n",
        "    # return negative sum\n",
        "    return - entropy_components.sum()\n",
        "\n",
        "def information_gain(df, info_column, target_column, threshold):\n",
        "    \"\"\"\n",
        "        computes H(target) - H(target | info > thresh) - H(target | info <= thresh)\n",
        "    \"\"\"\n",
        "    # split data\n",
        "    data_above_thresh = df[df[info_column] > threshold]\n",
        "    data_below_thresh = df[df[info_column] <= threshold]\n",
        "    # get entropy\n",
        "    H = entropy(df[target_column])\n",
        "    entropy_above = entropy(data_above_thresh[target_column])\n",
        "    entropy_below = entropy(data_below_thresh[target_column])\n",
        "    # compute weighted average\n",
        "    ct_above = data_above_thresh.shape[0]\n",
        "    ct_below = data_below_thresh.shape[0]\n",
        "    tot = float(df.shape[0])\n",
        "    return H - entropy_above*ct_above/tot - entropy_below*ct_below/tot"
      ],
      "execution_count": null,
      "outputs": []
    },
    {
      "cell_type": "markdown",
      "metadata": {
        "id": "UXaAMKjZO1Ri"
      },
      "source": [
        "Now that we have a way of calculating $H$ and $IG$, let's test our prior hunch, that using 50 as a split on fare allows us to determine if someone will survive."
      ]
    },
    {
      "cell_type": "code",
      "metadata": {
        "colab": {
          "base_uri": "https://localhost:8080/"
        },
        "id": "a5RQBhvfO13-",
        "outputId": "be098276-e22e-471b-baba-5ea88c2b232d"
      },
      "source": [
        "threshold = 50\n",
        "prior_entropy = entropy(extracted_clean_titanic_df[\"Survived\"])\n",
        "IG = information_gain(extracted_clean_titanic_df, \"Fare\", \"Survived\", threshold)\n",
        "print (\"IG of %.4f using a threshold of %.2f given a prior entropy of %.4f\" % (IG, threshold, prior_entropy))"
      ],
      "execution_count": null,
      "outputs": [
        {
          "output_type": "stream",
          "text": [
            "IG of 0.0000 using a threshold of 50.00 given a prior entropy of 0.9607\n"
          ],
          "name": "stdout"
        }
      ]
    },
    {
      "cell_type": "markdown",
      "metadata": {
        "id": "52rlrstPSn0T"
      },
      "source": [
        "How good was our guess of 50? Let's loop through all possible splits on fare and see what is the best!\n",
        "\n"
      ]
    },
    {
      "cell_type": "code",
      "metadata": {
        "colab": {
          "base_uri": "https://localhost:8080/"
        },
        "id": "ThXwRFuISodo",
        "outputId": "d0733ed9-1da9-4255-ae38-85e88c2fcc6a"
      },
      "source": [
        "def best_threshold(df, info_column, target_column, criteria=information_gain):\n",
        "    maximum_ig = 0\n",
        "    maximum_threshold = 0\n",
        "\n",
        "    for thresh in df[info_column]:\n",
        "        IG = criteria(df, info_column, target_column, thresh)\n",
        "        if IG > maximum_ig:\n",
        "            maximum_ig = IG\n",
        "            maximum_threshold = thresh\n",
        "\n",
        "    return (maximum_threshold, maximum_ig)\n",
        "\n",
        "maximum_threshold, maximum_ig = best_threshold(extracted_clean_titanic_df, \"Fare\", \"Survived\")\n",
        "\n",
        "print (\"the maximum IG we can achieve splitting on weight is %.4f using a thresh of %.2f\" % (maximum_ig, maximum_threshold))"
      ],
      "execution_count": null,
      "outputs": [
        {
          "output_type": "stream",
          "text": [
            "the maximum IG we can achieve splitting on weight is 0.0756 using a thresh of 0.73\n"
          ],
          "name": "stdout"
        }
      ]
    },
    {
      "cell_type": "markdown",
      "metadata": {
        "id": "9LiWg9YtQjdW"
      },
      "source": [
        "\n",
        "### 4.2.2 This now begs the question: what feature gives the most effective split?"
      ]
    },
    {
      "cell_type": "code",
      "metadata": {
        "id": "eyAcH2xxQsKP",
        "colab": {
          "base_uri": "https://localhost:8080/"
        },
        "outputId": "f62f515d-0f4a-4edc-8a68-0089b1290a04"
      },
      "source": [
        "def best_split(df, info_columns, target_column, criteria=information_gain):\n",
        "    maximum_ig = 0\n",
        "    maximum_threshold = 0\n",
        "    maximum_column = \"\"\n",
        "\n",
        "    for info_column in info_columns:\n",
        "        thresh, ig = best_threshold(df, info_column, target_column, criteria)\n",
        "\n",
        "        if ig > maximum_ig:\n",
        "            maximum_ig = ig\n",
        "            maximum_threshold = thresh\n",
        "            maximum_column = info_column\n",
        "\n",
        "    return maximum_column, maximum_threshold, maximum_ig\n",
        "\n",
        "max_col, max_threshold, max_ig = best_split(extracted_clean_titanic_df, X.columns, \"Survived\")\n",
        "\n",
        "print (\"The best column to split on is %s giving us a IG of %.4f using a thresh of %.2f\" % (max_col, max_ig, max_threshold))"
      ],
      "execution_count": null,
      "outputs": [
        {
          "output_type": "stream",
          "text": [
            "The best column to split on is Initial_Mr giving us a IG of 0.2312 using a thresh of 0.00\n"
          ],
          "name": "stdout"
        }
      ]
    },
    {
      "cell_type": "markdown",
      "metadata": {
        "id": "N8GP0OeNMv3Y"
      },
      "source": [
        "### 4.2.3 The Classifier Tree: Recursive Splitting\n",
        "Of course, splitting the data one time sometimes isn't enough to make accurate categorical predictions. However, we can continue to split the data recursively, building a tree-structured model that may give better results. This recursive splitting is the basis for a \"decision tree classifier\" or \"classifier tree\", a popular and powerful class of machine learning algorithm. In particular, this specific algorithm is known as ID3 for Iterative Dichotomizer.\n",
        "\n",
        "What are some other ways you might consider splitting the data?"
      ]
    },
    {
      "cell_type": "code",
      "metadata": {
        "colab": {
          "base_uri": "https://localhost:8080/",
          "height": 456
        },
        "id": "sqcV4hWCMv5m",
        "outputId": "04ba7b85-16d5-4e82-8da6-9a45907b72f5"
      },
      "source": [
        "X"
      ],
      "execution_count": null,
      "outputs": [
        {
          "output_type": "execute_result",
          "data": {
            "text/html": [
              "<div>\n",
              "<style scoped>\n",
              "    .dataframe tbody tr th:only-of-type {\n",
              "        vertical-align: middle;\n",
              "    }\n",
              "\n",
              "    .dataframe tbody tr th {\n",
              "        vertical-align: top;\n",
              "    }\n",
              "\n",
              "    .dataframe thead th {\n",
              "        text-align: right;\n",
              "    }\n",
              "</style>\n",
              "<table border=\"1\" class=\"dataframe\">\n",
              "  <thead>\n",
              "    <tr style=\"text-align: right;\">\n",
              "      <th></th>\n",
              "      <th>Age</th>\n",
              "      <th>SibSp</th>\n",
              "      <th>Parch</th>\n",
              "      <th>Fare</th>\n",
              "      <th>Only_Num_in_Ticket</th>\n",
              "      <th>Pclass_1</th>\n",
              "      <th>Pclass_2</th>\n",
              "      <th>Pclass_3</th>\n",
              "      <th>CabinZone_A</th>\n",
              "      <th>CabinZone_B</th>\n",
              "      <th>CabinZone_C</th>\n",
              "      <th>CabinZone_D</th>\n",
              "      <th>CabinZone_E</th>\n",
              "      <th>CabinZone_F</th>\n",
              "      <th>CabinZone_G</th>\n",
              "      <th>CabinZone_T</th>\n",
              "      <th>CabinZone_n</th>\n",
              "      <th>Embarked_C</th>\n",
              "      <th>Embarked_Q</th>\n",
              "      <th>Embarked_S</th>\n",
              "      <th>FareAdapBin_0-25Q</th>\n",
              "      <th>FareAdapBin_25-50Q</th>\n",
              "      <th>FareAdapBin_50-75Q</th>\n",
              "      <th>FareAdapBin_75-100Q</th>\n",
              "      <th>male</th>\n",
              "      <th>Initial_Capt</th>\n",
              "      <th>Initial_Col</th>\n",
              "      <th>Initial_Don</th>\n",
              "      <th>Initial_Dr</th>\n",
              "      <th>Initial_Jonkheer</th>\n",
              "      <th>Initial_Lady</th>\n",
              "      <th>Initial_Major</th>\n",
              "      <th>Initial_Master</th>\n",
              "      <th>Initial_Miss</th>\n",
              "      <th>Initial_Mlle</th>\n",
              "      <th>Initial_Mme</th>\n",
              "      <th>Initial_Mr</th>\n",
              "      <th>Initial_Mrs</th>\n",
              "      <th>Initial_Ms</th>\n",
              "      <th>Initial_Rev</th>\n",
              "      <th>Initial_Sir</th>\n",
              "      <th>Initial_the Countess</th>\n",
              "      <th>Ticket-A4</th>\n",
              "      <th>Ticket-A5</th>\n",
              "      <th>Ticket-AS</th>\n",
              "      <th>Ticket-C</th>\n",
              "      <th>Ticket-CA</th>\n",
              "      <th>Ticket-CASOTON</th>\n",
              "      <th>Ticket-FC</th>\n",
              "      <th>Ticket-FCC</th>\n",
              "      <th>Ticket-Fa</th>\n",
              "      <th>Ticket-PC</th>\n",
              "      <th>Ticket-PP</th>\n",
              "      <th>Ticket-PPP</th>\n",
              "      <th>Ticket-SC</th>\n",
              "      <th>Ticket-SCA4</th>\n",
              "      <th>Ticket-SCAH</th>\n",
              "      <th>Ticket-SCOW</th>\n",
              "      <th>Ticket-SCPARIS</th>\n",
              "      <th>Ticket-SCParis</th>\n",
              "      <th>Ticket-SOC</th>\n",
              "      <th>Ticket-SOP</th>\n",
              "      <th>Ticket-SOPP</th>\n",
              "      <th>Ticket-SOTONO2</th>\n",
              "      <th>Ticket-SOTONOQ</th>\n",
              "      <th>Ticket-SP</th>\n",
              "      <th>Ticket-STONO</th>\n",
              "      <th>Ticket-STONO2</th>\n",
              "      <th>Ticket-SWPP</th>\n",
              "      <th>Ticket-WC</th>\n",
              "      <th>Ticket-WEP</th>\n",
              "    </tr>\n",
              "  </thead>\n",
              "  <tbody>\n",
              "    <tr>\n",
              "      <th>0</th>\n",
              "      <td>1.000000</td>\n",
              "      <td>0.045455</td>\n",
              "      <td>0.000000</td>\n",
              "      <td>0.329545</td>\n",
              "      <td>0.000000</td>\n",
              "      <td>0.000000</td>\n",
              "      <td>0.000000</td>\n",
              "      <td>0.045455</td>\n",
              "      <td>0.0</td>\n",
              "      <td>0.000000</td>\n",
              "      <td>0.000000</td>\n",
              "      <td>0.0</td>\n",
              "      <td>0.0</td>\n",
              "      <td>0.0</td>\n",
              "      <td>0.0</td>\n",
              "      <td>0.0</td>\n",
              "      <td>0.045455</td>\n",
              "      <td>0.000000</td>\n",
              "      <td>0.00000</td>\n",
              "      <td>0.045455</td>\n",
              "      <td>0.045455</td>\n",
              "      <td>0.000000</td>\n",
              "      <td>0.000000</td>\n",
              "      <td>0.000000</td>\n",
              "      <td>0.045455</td>\n",
              "      <td>0.0</td>\n",
              "      <td>0.0</td>\n",
              "      <td>0.0</td>\n",
              "      <td>0.0</td>\n",
              "      <td>0.0</td>\n",
              "      <td>0.0</td>\n",
              "      <td>0.0</td>\n",
              "      <td>0.0</td>\n",
              "      <td>0.000000</td>\n",
              "      <td>0.0</td>\n",
              "      <td>0.0</td>\n",
              "      <td>0.045455</td>\n",
              "      <td>0.000000</td>\n",
              "      <td>0.0</td>\n",
              "      <td>0.000000</td>\n",
              "      <td>0.0</td>\n",
              "      <td>0.0</td>\n",
              "      <td>0.0</td>\n",
              "      <td>0.045455</td>\n",
              "      <td>0.0</td>\n",
              "      <td>0.0</td>\n",
              "      <td>0.0</td>\n",
              "      <td>0.0</td>\n",
              "      <td>0.0</td>\n",
              "      <td>0.0</td>\n",
              "      <td>0.0</td>\n",
              "      <td>0.000000</td>\n",
              "      <td>0.0</td>\n",
              "      <td>0.0</td>\n",
              "      <td>0.0</td>\n",
              "      <td>0.0</td>\n",
              "      <td>0.0</td>\n",
              "      <td>0.0</td>\n",
              "      <td>0.0</td>\n",
              "      <td>0.0</td>\n",
              "      <td>0.0</td>\n",
              "      <td>0.0</td>\n",
              "      <td>0.0</td>\n",
              "      <td>0.0</td>\n",
              "      <td>0.0</td>\n",
              "      <td>0.0</td>\n",
              "      <td>0.0</td>\n",
              "      <td>0.000000</td>\n",
              "      <td>0.0</td>\n",
              "      <td>0.000000</td>\n",
              "      <td>0.0</td>\n",
              "    </tr>\n",
              "    <tr>\n",
              "      <th>1</th>\n",
              "      <td>0.533084</td>\n",
              "      <td>0.014029</td>\n",
              "      <td>0.000000</td>\n",
              "      <td>1.000000</td>\n",
              "      <td>0.000000</td>\n",
              "      <td>0.014029</td>\n",
              "      <td>0.000000</td>\n",
              "      <td>0.000000</td>\n",
              "      <td>0.0</td>\n",
              "      <td>0.000000</td>\n",
              "      <td>0.014029</td>\n",
              "      <td>0.0</td>\n",
              "      <td>0.0</td>\n",
              "      <td>0.0</td>\n",
              "      <td>0.0</td>\n",
              "      <td>0.0</td>\n",
              "      <td>0.000000</td>\n",
              "      <td>0.014029</td>\n",
              "      <td>0.00000</td>\n",
              "      <td>0.000000</td>\n",
              "      <td>0.000000</td>\n",
              "      <td>0.000000</td>\n",
              "      <td>0.000000</td>\n",
              "      <td>0.014029</td>\n",
              "      <td>0.000000</td>\n",
              "      <td>0.0</td>\n",
              "      <td>0.0</td>\n",
              "      <td>0.0</td>\n",
              "      <td>0.0</td>\n",
              "      <td>0.0</td>\n",
              "      <td>0.0</td>\n",
              "      <td>0.0</td>\n",
              "      <td>0.0</td>\n",
              "      <td>0.000000</td>\n",
              "      <td>0.0</td>\n",
              "      <td>0.0</td>\n",
              "      <td>0.000000</td>\n",
              "      <td>0.014029</td>\n",
              "      <td>0.0</td>\n",
              "      <td>0.000000</td>\n",
              "      <td>0.0</td>\n",
              "      <td>0.0</td>\n",
              "      <td>0.0</td>\n",
              "      <td>0.000000</td>\n",
              "      <td>0.0</td>\n",
              "      <td>0.0</td>\n",
              "      <td>0.0</td>\n",
              "      <td>0.0</td>\n",
              "      <td>0.0</td>\n",
              "      <td>0.0</td>\n",
              "      <td>0.0</td>\n",
              "      <td>0.014029</td>\n",
              "      <td>0.0</td>\n",
              "      <td>0.0</td>\n",
              "      <td>0.0</td>\n",
              "      <td>0.0</td>\n",
              "      <td>0.0</td>\n",
              "      <td>0.0</td>\n",
              "      <td>0.0</td>\n",
              "      <td>0.0</td>\n",
              "      <td>0.0</td>\n",
              "      <td>0.0</td>\n",
              "      <td>0.0</td>\n",
              "      <td>0.0</td>\n",
              "      <td>0.0</td>\n",
              "      <td>0.0</td>\n",
              "      <td>0.0</td>\n",
              "      <td>0.000000</td>\n",
              "      <td>0.0</td>\n",
              "      <td>0.000000</td>\n",
              "      <td>0.0</td>\n",
              "    </tr>\n",
              "    <tr>\n",
              "      <th>2</th>\n",
              "      <td>1.000000</td>\n",
              "      <td>0.000000</td>\n",
              "      <td>0.000000</td>\n",
              "      <td>0.304808</td>\n",
              "      <td>0.000000</td>\n",
              "      <td>0.000000</td>\n",
              "      <td>0.000000</td>\n",
              "      <td>0.038462</td>\n",
              "      <td>0.0</td>\n",
              "      <td>0.000000</td>\n",
              "      <td>0.000000</td>\n",
              "      <td>0.0</td>\n",
              "      <td>0.0</td>\n",
              "      <td>0.0</td>\n",
              "      <td>0.0</td>\n",
              "      <td>0.0</td>\n",
              "      <td>0.038462</td>\n",
              "      <td>0.000000</td>\n",
              "      <td>0.00000</td>\n",
              "      <td>0.038462</td>\n",
              "      <td>0.000000</td>\n",
              "      <td>0.038462</td>\n",
              "      <td>0.000000</td>\n",
              "      <td>0.000000</td>\n",
              "      <td>0.000000</td>\n",
              "      <td>0.0</td>\n",
              "      <td>0.0</td>\n",
              "      <td>0.0</td>\n",
              "      <td>0.0</td>\n",
              "      <td>0.0</td>\n",
              "      <td>0.0</td>\n",
              "      <td>0.0</td>\n",
              "      <td>0.0</td>\n",
              "      <td>0.038462</td>\n",
              "      <td>0.0</td>\n",
              "      <td>0.0</td>\n",
              "      <td>0.000000</td>\n",
              "      <td>0.000000</td>\n",
              "      <td>0.0</td>\n",
              "      <td>0.000000</td>\n",
              "      <td>0.0</td>\n",
              "      <td>0.0</td>\n",
              "      <td>0.0</td>\n",
              "      <td>0.000000</td>\n",
              "      <td>0.0</td>\n",
              "      <td>0.0</td>\n",
              "      <td>0.0</td>\n",
              "      <td>0.0</td>\n",
              "      <td>0.0</td>\n",
              "      <td>0.0</td>\n",
              "      <td>0.0</td>\n",
              "      <td>0.000000</td>\n",
              "      <td>0.0</td>\n",
              "      <td>0.0</td>\n",
              "      <td>0.0</td>\n",
              "      <td>0.0</td>\n",
              "      <td>0.0</td>\n",
              "      <td>0.0</td>\n",
              "      <td>0.0</td>\n",
              "      <td>0.0</td>\n",
              "      <td>0.0</td>\n",
              "      <td>0.0</td>\n",
              "      <td>0.0</td>\n",
              "      <td>0.0</td>\n",
              "      <td>0.0</td>\n",
              "      <td>0.0</td>\n",
              "      <td>0.0</td>\n",
              "      <td>0.038462</td>\n",
              "      <td>0.0</td>\n",
              "      <td>0.000000</td>\n",
              "      <td>0.0</td>\n",
              "    </tr>\n",
              "    <tr>\n",
              "      <th>3</th>\n",
              "      <td>0.659134</td>\n",
              "      <td>0.018832</td>\n",
              "      <td>0.000000</td>\n",
              "      <td>1.000000</td>\n",
              "      <td>0.018832</td>\n",
              "      <td>0.018832</td>\n",
              "      <td>0.000000</td>\n",
              "      <td>0.000000</td>\n",
              "      <td>0.0</td>\n",
              "      <td>0.000000</td>\n",
              "      <td>0.018832</td>\n",
              "      <td>0.0</td>\n",
              "      <td>0.0</td>\n",
              "      <td>0.0</td>\n",
              "      <td>0.0</td>\n",
              "      <td>0.0</td>\n",
              "      <td>0.000000</td>\n",
              "      <td>0.000000</td>\n",
              "      <td>0.00000</td>\n",
              "      <td>0.018832</td>\n",
              "      <td>0.000000</td>\n",
              "      <td>0.000000</td>\n",
              "      <td>0.000000</td>\n",
              "      <td>0.018832</td>\n",
              "      <td>0.000000</td>\n",
              "      <td>0.0</td>\n",
              "      <td>0.0</td>\n",
              "      <td>0.0</td>\n",
              "      <td>0.0</td>\n",
              "      <td>0.0</td>\n",
              "      <td>0.0</td>\n",
              "      <td>0.0</td>\n",
              "      <td>0.0</td>\n",
              "      <td>0.000000</td>\n",
              "      <td>0.0</td>\n",
              "      <td>0.0</td>\n",
              "      <td>0.000000</td>\n",
              "      <td>0.018832</td>\n",
              "      <td>0.0</td>\n",
              "      <td>0.000000</td>\n",
              "      <td>0.0</td>\n",
              "      <td>0.0</td>\n",
              "      <td>0.0</td>\n",
              "      <td>0.000000</td>\n",
              "      <td>0.0</td>\n",
              "      <td>0.0</td>\n",
              "      <td>0.0</td>\n",
              "      <td>0.0</td>\n",
              "      <td>0.0</td>\n",
              "      <td>0.0</td>\n",
              "      <td>0.0</td>\n",
              "      <td>0.000000</td>\n",
              "      <td>0.0</td>\n",
              "      <td>0.0</td>\n",
              "      <td>0.0</td>\n",
              "      <td>0.0</td>\n",
              "      <td>0.0</td>\n",
              "      <td>0.0</td>\n",
              "      <td>0.0</td>\n",
              "      <td>0.0</td>\n",
              "      <td>0.0</td>\n",
              "      <td>0.0</td>\n",
              "      <td>0.0</td>\n",
              "      <td>0.0</td>\n",
              "      <td>0.0</td>\n",
              "      <td>0.0</td>\n",
              "      <td>0.0</td>\n",
              "      <td>0.000000</td>\n",
              "      <td>0.0</td>\n",
              "      <td>0.000000</td>\n",
              "      <td>0.0</td>\n",
              "    </tr>\n",
              "    <tr>\n",
              "      <th>4</th>\n",
              "      <td>1.000000</td>\n",
              "      <td>0.000000</td>\n",
              "      <td>0.000000</td>\n",
              "      <td>0.230000</td>\n",
              "      <td>0.028571</td>\n",
              "      <td>0.000000</td>\n",
              "      <td>0.000000</td>\n",
              "      <td>0.028571</td>\n",
              "      <td>0.0</td>\n",
              "      <td>0.000000</td>\n",
              "      <td>0.000000</td>\n",
              "      <td>0.0</td>\n",
              "      <td>0.0</td>\n",
              "      <td>0.0</td>\n",
              "      <td>0.0</td>\n",
              "      <td>0.0</td>\n",
              "      <td>0.028571</td>\n",
              "      <td>0.000000</td>\n",
              "      <td>0.00000</td>\n",
              "      <td>0.028571</td>\n",
              "      <td>0.000000</td>\n",
              "      <td>0.028571</td>\n",
              "      <td>0.000000</td>\n",
              "      <td>0.000000</td>\n",
              "      <td>0.028571</td>\n",
              "      <td>0.0</td>\n",
              "      <td>0.0</td>\n",
              "      <td>0.0</td>\n",
              "      <td>0.0</td>\n",
              "      <td>0.0</td>\n",
              "      <td>0.0</td>\n",
              "      <td>0.0</td>\n",
              "      <td>0.0</td>\n",
              "      <td>0.000000</td>\n",
              "      <td>0.0</td>\n",
              "      <td>0.0</td>\n",
              "      <td>0.028571</td>\n",
              "      <td>0.000000</td>\n",
              "      <td>0.0</td>\n",
              "      <td>0.000000</td>\n",
              "      <td>0.0</td>\n",
              "      <td>0.0</td>\n",
              "      <td>0.0</td>\n",
              "      <td>0.000000</td>\n",
              "      <td>0.0</td>\n",
              "      <td>0.0</td>\n",
              "      <td>0.0</td>\n",
              "      <td>0.0</td>\n",
              "      <td>0.0</td>\n",
              "      <td>0.0</td>\n",
              "      <td>0.0</td>\n",
              "      <td>0.000000</td>\n",
              "      <td>0.0</td>\n",
              "      <td>0.0</td>\n",
              "      <td>0.0</td>\n",
              "      <td>0.0</td>\n",
              "      <td>0.0</td>\n",
              "      <td>0.0</td>\n",
              "      <td>0.0</td>\n",
              "      <td>0.0</td>\n",
              "      <td>0.0</td>\n",
              "      <td>0.0</td>\n",
              "      <td>0.0</td>\n",
              "      <td>0.0</td>\n",
              "      <td>0.0</td>\n",
              "      <td>0.0</td>\n",
              "      <td>0.0</td>\n",
              "      <td>0.000000</td>\n",
              "      <td>0.0</td>\n",
              "      <td>0.000000</td>\n",
              "      <td>0.0</td>\n",
              "    </tr>\n",
              "    <tr>\n",
              "      <th>...</th>\n",
              "      <td>...</td>\n",
              "      <td>...</td>\n",
              "      <td>...</td>\n",
              "      <td>...</td>\n",
              "      <td>...</td>\n",
              "      <td>...</td>\n",
              "      <td>...</td>\n",
              "      <td>...</td>\n",
              "      <td>...</td>\n",
              "      <td>...</td>\n",
              "      <td>...</td>\n",
              "      <td>...</td>\n",
              "      <td>...</td>\n",
              "      <td>...</td>\n",
              "      <td>...</td>\n",
              "      <td>...</td>\n",
              "      <td>...</td>\n",
              "      <td>...</td>\n",
              "      <td>...</td>\n",
              "      <td>...</td>\n",
              "      <td>...</td>\n",
              "      <td>...</td>\n",
              "      <td>...</td>\n",
              "      <td>...</td>\n",
              "      <td>...</td>\n",
              "      <td>...</td>\n",
              "      <td>...</td>\n",
              "      <td>...</td>\n",
              "      <td>...</td>\n",
              "      <td>...</td>\n",
              "      <td>...</td>\n",
              "      <td>...</td>\n",
              "      <td>...</td>\n",
              "      <td>...</td>\n",
              "      <td>...</td>\n",
              "      <td>...</td>\n",
              "      <td>...</td>\n",
              "      <td>...</td>\n",
              "      <td>...</td>\n",
              "      <td>...</td>\n",
              "      <td>...</td>\n",
              "      <td>...</td>\n",
              "      <td>...</td>\n",
              "      <td>...</td>\n",
              "      <td>...</td>\n",
              "      <td>...</td>\n",
              "      <td>...</td>\n",
              "      <td>...</td>\n",
              "      <td>...</td>\n",
              "      <td>...</td>\n",
              "      <td>...</td>\n",
              "      <td>...</td>\n",
              "      <td>...</td>\n",
              "      <td>...</td>\n",
              "      <td>...</td>\n",
              "      <td>...</td>\n",
              "      <td>...</td>\n",
              "      <td>...</td>\n",
              "      <td>...</td>\n",
              "      <td>...</td>\n",
              "      <td>...</td>\n",
              "      <td>...</td>\n",
              "      <td>...</td>\n",
              "      <td>...</td>\n",
              "      <td>...</td>\n",
              "      <td>...</td>\n",
              "      <td>...</td>\n",
              "      <td>...</td>\n",
              "      <td>...</td>\n",
              "      <td>...</td>\n",
              "      <td>...</td>\n",
              "    </tr>\n",
              "    <tr>\n",
              "      <th>886</th>\n",
              "      <td>1.000000</td>\n",
              "      <td>0.000000</td>\n",
              "      <td>0.000000</td>\n",
              "      <td>0.481481</td>\n",
              "      <td>0.037037</td>\n",
              "      <td>0.000000</td>\n",
              "      <td>0.037037</td>\n",
              "      <td>0.000000</td>\n",
              "      <td>0.0</td>\n",
              "      <td>0.000000</td>\n",
              "      <td>0.000000</td>\n",
              "      <td>0.0</td>\n",
              "      <td>0.0</td>\n",
              "      <td>0.0</td>\n",
              "      <td>0.0</td>\n",
              "      <td>0.0</td>\n",
              "      <td>0.037037</td>\n",
              "      <td>0.000000</td>\n",
              "      <td>0.00000</td>\n",
              "      <td>0.037037</td>\n",
              "      <td>0.000000</td>\n",
              "      <td>0.037037</td>\n",
              "      <td>0.000000</td>\n",
              "      <td>0.000000</td>\n",
              "      <td>0.037037</td>\n",
              "      <td>0.0</td>\n",
              "      <td>0.0</td>\n",
              "      <td>0.0</td>\n",
              "      <td>0.0</td>\n",
              "      <td>0.0</td>\n",
              "      <td>0.0</td>\n",
              "      <td>0.0</td>\n",
              "      <td>0.0</td>\n",
              "      <td>0.000000</td>\n",
              "      <td>0.0</td>\n",
              "      <td>0.0</td>\n",
              "      <td>0.000000</td>\n",
              "      <td>0.000000</td>\n",
              "      <td>0.0</td>\n",
              "      <td>0.037037</td>\n",
              "      <td>0.0</td>\n",
              "      <td>0.0</td>\n",
              "      <td>0.0</td>\n",
              "      <td>0.000000</td>\n",
              "      <td>0.0</td>\n",
              "      <td>0.0</td>\n",
              "      <td>0.0</td>\n",
              "      <td>0.0</td>\n",
              "      <td>0.0</td>\n",
              "      <td>0.0</td>\n",
              "      <td>0.0</td>\n",
              "      <td>0.000000</td>\n",
              "      <td>0.0</td>\n",
              "      <td>0.0</td>\n",
              "      <td>0.0</td>\n",
              "      <td>0.0</td>\n",
              "      <td>0.0</td>\n",
              "      <td>0.0</td>\n",
              "      <td>0.0</td>\n",
              "      <td>0.0</td>\n",
              "      <td>0.0</td>\n",
              "      <td>0.0</td>\n",
              "      <td>0.0</td>\n",
              "      <td>0.0</td>\n",
              "      <td>0.0</td>\n",
              "      <td>0.0</td>\n",
              "      <td>0.0</td>\n",
              "      <td>0.000000</td>\n",
              "      <td>0.0</td>\n",
              "      <td>0.000000</td>\n",
              "      <td>0.0</td>\n",
              "    </tr>\n",
              "    <tr>\n",
              "      <th>887</th>\n",
              "      <td>0.633333</td>\n",
              "      <td>0.000000</td>\n",
              "      <td>0.000000</td>\n",
              "      <td>1.000000</td>\n",
              "      <td>0.033333</td>\n",
              "      <td>0.033333</td>\n",
              "      <td>0.000000</td>\n",
              "      <td>0.000000</td>\n",
              "      <td>0.0</td>\n",
              "      <td>0.033333</td>\n",
              "      <td>0.000000</td>\n",
              "      <td>0.0</td>\n",
              "      <td>0.0</td>\n",
              "      <td>0.0</td>\n",
              "      <td>0.0</td>\n",
              "      <td>0.0</td>\n",
              "      <td>0.000000</td>\n",
              "      <td>0.000000</td>\n",
              "      <td>0.00000</td>\n",
              "      <td>0.033333</td>\n",
              "      <td>0.000000</td>\n",
              "      <td>0.000000</td>\n",
              "      <td>0.033333</td>\n",
              "      <td>0.000000</td>\n",
              "      <td>0.000000</td>\n",
              "      <td>0.0</td>\n",
              "      <td>0.0</td>\n",
              "      <td>0.0</td>\n",
              "      <td>0.0</td>\n",
              "      <td>0.0</td>\n",
              "      <td>0.0</td>\n",
              "      <td>0.0</td>\n",
              "      <td>0.0</td>\n",
              "      <td>0.033333</td>\n",
              "      <td>0.0</td>\n",
              "      <td>0.0</td>\n",
              "      <td>0.000000</td>\n",
              "      <td>0.000000</td>\n",
              "      <td>0.0</td>\n",
              "      <td>0.000000</td>\n",
              "      <td>0.0</td>\n",
              "      <td>0.0</td>\n",
              "      <td>0.0</td>\n",
              "      <td>0.000000</td>\n",
              "      <td>0.0</td>\n",
              "      <td>0.0</td>\n",
              "      <td>0.0</td>\n",
              "      <td>0.0</td>\n",
              "      <td>0.0</td>\n",
              "      <td>0.0</td>\n",
              "      <td>0.0</td>\n",
              "      <td>0.000000</td>\n",
              "      <td>0.0</td>\n",
              "      <td>0.0</td>\n",
              "      <td>0.0</td>\n",
              "      <td>0.0</td>\n",
              "      <td>0.0</td>\n",
              "      <td>0.0</td>\n",
              "      <td>0.0</td>\n",
              "      <td>0.0</td>\n",
              "      <td>0.0</td>\n",
              "      <td>0.0</td>\n",
              "      <td>0.0</td>\n",
              "      <td>0.0</td>\n",
              "      <td>0.0</td>\n",
              "      <td>0.0</td>\n",
              "      <td>0.0</td>\n",
              "      <td>0.000000</td>\n",
              "      <td>0.0</td>\n",
              "      <td>0.000000</td>\n",
              "      <td>0.0</td>\n",
              "    </tr>\n",
              "    <tr>\n",
              "      <th>888</th>\n",
              "      <td>1.000000</td>\n",
              "      <td>0.033671</td>\n",
              "      <td>0.067342</td>\n",
              "      <td>0.789586</td>\n",
              "      <td>0.000000</td>\n",
              "      <td>0.000000</td>\n",
              "      <td>0.000000</td>\n",
              "      <td>0.033671</td>\n",
              "      <td>0.0</td>\n",
              "      <td>0.000000</td>\n",
              "      <td>0.000000</td>\n",
              "      <td>0.0</td>\n",
              "      <td>0.0</td>\n",
              "      <td>0.0</td>\n",
              "      <td>0.0</td>\n",
              "      <td>0.0</td>\n",
              "      <td>0.033671</td>\n",
              "      <td>0.000000</td>\n",
              "      <td>0.00000</td>\n",
              "      <td>0.033671</td>\n",
              "      <td>0.000000</td>\n",
              "      <td>0.000000</td>\n",
              "      <td>0.033671</td>\n",
              "      <td>0.000000</td>\n",
              "      <td>0.000000</td>\n",
              "      <td>0.0</td>\n",
              "      <td>0.0</td>\n",
              "      <td>0.0</td>\n",
              "      <td>0.0</td>\n",
              "      <td>0.0</td>\n",
              "      <td>0.0</td>\n",
              "      <td>0.0</td>\n",
              "      <td>0.0</td>\n",
              "      <td>0.033671</td>\n",
              "      <td>0.0</td>\n",
              "      <td>0.0</td>\n",
              "      <td>0.000000</td>\n",
              "      <td>0.000000</td>\n",
              "      <td>0.0</td>\n",
              "      <td>0.000000</td>\n",
              "      <td>0.0</td>\n",
              "      <td>0.0</td>\n",
              "      <td>0.0</td>\n",
              "      <td>0.000000</td>\n",
              "      <td>0.0</td>\n",
              "      <td>0.0</td>\n",
              "      <td>0.0</td>\n",
              "      <td>0.0</td>\n",
              "      <td>0.0</td>\n",
              "      <td>0.0</td>\n",
              "      <td>0.0</td>\n",
              "      <td>0.000000</td>\n",
              "      <td>0.0</td>\n",
              "      <td>0.0</td>\n",
              "      <td>0.0</td>\n",
              "      <td>0.0</td>\n",
              "      <td>0.0</td>\n",
              "      <td>0.0</td>\n",
              "      <td>0.0</td>\n",
              "      <td>0.0</td>\n",
              "      <td>0.0</td>\n",
              "      <td>0.0</td>\n",
              "      <td>0.0</td>\n",
              "      <td>0.0</td>\n",
              "      <td>0.0</td>\n",
              "      <td>0.0</td>\n",
              "      <td>0.0</td>\n",
              "      <td>0.000000</td>\n",
              "      <td>0.0</td>\n",
              "      <td>0.033671</td>\n",
              "      <td>0.0</td>\n",
              "    </tr>\n",
              "    <tr>\n",
              "      <th>889</th>\n",
              "      <td>0.866667</td>\n",
              "      <td>0.000000</td>\n",
              "      <td>0.000000</td>\n",
              "      <td>1.000000</td>\n",
              "      <td>0.033333</td>\n",
              "      <td>0.033333</td>\n",
              "      <td>0.000000</td>\n",
              "      <td>0.000000</td>\n",
              "      <td>0.0</td>\n",
              "      <td>0.000000</td>\n",
              "      <td>0.033333</td>\n",
              "      <td>0.0</td>\n",
              "      <td>0.0</td>\n",
              "      <td>0.0</td>\n",
              "      <td>0.0</td>\n",
              "      <td>0.0</td>\n",
              "      <td>0.000000</td>\n",
              "      <td>0.033333</td>\n",
              "      <td>0.00000</td>\n",
              "      <td>0.000000</td>\n",
              "      <td>0.000000</td>\n",
              "      <td>0.000000</td>\n",
              "      <td>0.033333</td>\n",
              "      <td>0.000000</td>\n",
              "      <td>0.033333</td>\n",
              "      <td>0.0</td>\n",
              "      <td>0.0</td>\n",
              "      <td>0.0</td>\n",
              "      <td>0.0</td>\n",
              "      <td>0.0</td>\n",
              "      <td>0.0</td>\n",
              "      <td>0.0</td>\n",
              "      <td>0.0</td>\n",
              "      <td>0.000000</td>\n",
              "      <td>0.0</td>\n",
              "      <td>0.0</td>\n",
              "      <td>0.033333</td>\n",
              "      <td>0.000000</td>\n",
              "      <td>0.0</td>\n",
              "      <td>0.000000</td>\n",
              "      <td>0.0</td>\n",
              "      <td>0.0</td>\n",
              "      <td>0.0</td>\n",
              "      <td>0.000000</td>\n",
              "      <td>0.0</td>\n",
              "      <td>0.0</td>\n",
              "      <td>0.0</td>\n",
              "      <td>0.0</td>\n",
              "      <td>0.0</td>\n",
              "      <td>0.0</td>\n",
              "      <td>0.0</td>\n",
              "      <td>0.000000</td>\n",
              "      <td>0.0</td>\n",
              "      <td>0.0</td>\n",
              "      <td>0.0</td>\n",
              "      <td>0.0</td>\n",
              "      <td>0.0</td>\n",
              "      <td>0.0</td>\n",
              "      <td>0.0</td>\n",
              "      <td>0.0</td>\n",
              "      <td>0.0</td>\n",
              "      <td>0.0</td>\n",
              "      <td>0.0</td>\n",
              "      <td>0.0</td>\n",
              "      <td>0.0</td>\n",
              "      <td>0.0</td>\n",
              "      <td>0.0</td>\n",
              "      <td>0.000000</td>\n",
              "      <td>0.0</td>\n",
              "      <td>0.000000</td>\n",
              "      <td>0.0</td>\n",
              "    </tr>\n",
              "    <tr>\n",
              "      <th>890</th>\n",
              "      <td>1.000000</td>\n",
              "      <td>0.000000</td>\n",
              "      <td>0.000000</td>\n",
              "      <td>0.242188</td>\n",
              "      <td>0.031250</td>\n",
              "      <td>0.000000</td>\n",
              "      <td>0.000000</td>\n",
              "      <td>0.031250</td>\n",
              "      <td>0.0</td>\n",
              "      <td>0.000000</td>\n",
              "      <td>0.000000</td>\n",
              "      <td>0.0</td>\n",
              "      <td>0.0</td>\n",
              "      <td>0.0</td>\n",
              "      <td>0.0</td>\n",
              "      <td>0.0</td>\n",
              "      <td>0.031250</td>\n",
              "      <td>0.000000</td>\n",
              "      <td>0.03125</td>\n",
              "      <td>0.000000</td>\n",
              "      <td>0.031250</td>\n",
              "      <td>0.000000</td>\n",
              "      <td>0.000000</td>\n",
              "      <td>0.000000</td>\n",
              "      <td>0.031250</td>\n",
              "      <td>0.0</td>\n",
              "      <td>0.0</td>\n",
              "      <td>0.0</td>\n",
              "      <td>0.0</td>\n",
              "      <td>0.0</td>\n",
              "      <td>0.0</td>\n",
              "      <td>0.0</td>\n",
              "      <td>0.0</td>\n",
              "      <td>0.000000</td>\n",
              "      <td>0.0</td>\n",
              "      <td>0.0</td>\n",
              "      <td>0.031250</td>\n",
              "      <td>0.000000</td>\n",
              "      <td>0.0</td>\n",
              "      <td>0.000000</td>\n",
              "      <td>0.0</td>\n",
              "      <td>0.0</td>\n",
              "      <td>0.0</td>\n",
              "      <td>0.000000</td>\n",
              "      <td>0.0</td>\n",
              "      <td>0.0</td>\n",
              "      <td>0.0</td>\n",
              "      <td>0.0</td>\n",
              "      <td>0.0</td>\n",
              "      <td>0.0</td>\n",
              "      <td>0.0</td>\n",
              "      <td>0.000000</td>\n",
              "      <td>0.0</td>\n",
              "      <td>0.0</td>\n",
              "      <td>0.0</td>\n",
              "      <td>0.0</td>\n",
              "      <td>0.0</td>\n",
              "      <td>0.0</td>\n",
              "      <td>0.0</td>\n",
              "      <td>0.0</td>\n",
              "      <td>0.0</td>\n",
              "      <td>0.0</td>\n",
              "      <td>0.0</td>\n",
              "      <td>0.0</td>\n",
              "      <td>0.0</td>\n",
              "      <td>0.0</td>\n",
              "      <td>0.0</td>\n",
              "      <td>0.000000</td>\n",
              "      <td>0.0</td>\n",
              "      <td>0.000000</td>\n",
              "      <td>0.0</td>\n",
              "    </tr>\n",
              "  </tbody>\n",
              "</table>\n",
              "<p>891 rows × 71 columns</p>\n",
              "</div>"
            ],
            "text/plain": [
              "          Age     SibSp     Parch  ...  Ticket-SWPP  Ticket-WC  Ticket-WEP\n",
              "0    1.000000  0.045455  0.000000  ...          0.0   0.000000         0.0\n",
              "1    0.533084  0.014029  0.000000  ...          0.0   0.000000         0.0\n",
              "2    1.000000  0.000000  0.000000  ...          0.0   0.000000         0.0\n",
              "3    0.659134  0.018832  0.000000  ...          0.0   0.000000         0.0\n",
              "4    1.000000  0.000000  0.000000  ...          0.0   0.000000         0.0\n",
              "..        ...       ...       ...  ...          ...        ...         ...\n",
              "886  1.000000  0.000000  0.000000  ...          0.0   0.000000         0.0\n",
              "887  0.633333  0.000000  0.000000  ...          0.0   0.000000         0.0\n",
              "888  1.000000  0.033671  0.067342  ...          0.0   0.033671         0.0\n",
              "889  0.866667  0.000000  0.000000  ...          0.0   0.000000         0.0\n",
              "890  1.000000  0.000000  0.000000  ...          0.0   0.000000         0.0\n",
              "\n",
              "[891 rows x 71 columns]"
            ]
          },
          "metadata": {
            "tags": []
          },
          "execution_count": 46
        }
      ]
    },
    {
      "cell_type": "code",
      "metadata": {
        "colab": {
          "base_uri": "https://localhost:8080/",
          "height": 279
        },
        "id": "Deu-15IaMv8E",
        "outputId": "07a701ac-cc7f-487f-dbc5-79a3fbe94003"
      },
      "source": [
        "import matplotlib.patches as mpatches\n",
        "\n",
        "cmap = {1: 'blue', 0: 'red'}\n",
        "X.plot(kind=\"scatter\", x=\"Fare\", y=\"Age\", c=[cmap[c] for c in y])\n",
        "plt.legend(handles=[mpatches.Patch(color=cmap[k], label=k) for k in cmap], loc=1, title=\"Target\", frameon=True)\n",
        "plt.show()"
      ],
      "execution_count": null,
      "outputs": [
        {
          "output_type": "display_data",
          "data": {
            "image/png": "[encoded data removed]",
            "text/plain": [
              "<Figure size 432x288 with 1 Axes>"
            ]
          },
          "metadata": {
            "tags": [],
            "needs_background": "light"
          }
        }
      ]
    },
    {
      "cell_type": "markdown",
      "metadata": {
        "id": "oruzGdC7Mv-Y"
      },
      "source": [
        "Rather than build a classifier tree from scratch (think if you could now do this!) let's use sklearn's implementation which includes some additional functionality."
      ]
    },
    {
      "cell_type": "markdown",
      "metadata": {
        "id": "iJIwJ8O7MwAw"
      },
      "source": [
        "# 5. Decision Tree in Sklearn. <font color='red'> Below is what we commonly use </font>"
      ]
    },
    {
      "cell_type": "code",
      "metadata": {
        "id": "iaSV5QDnWE0p"
      },
      "source": [
        "# 4. Train model\n",
        "X_train, X_test, y_train, y_test = simple_hold_out_spliting(X, y, 0.2)"
      ],
      "execution_count": null,
      "outputs": []
    },
    {
      "cell_type": "code",
      "metadata": {
        "colab": {
          "base_uri": "https://localhost:8080/"
        },
        "id": "qrXtUXTYXBp0",
        "outputId": "205640b6-db1d-40f3-c77c-72557282fe04"
      },
      "source": [
        "#---------------------------------\n",
        "#download files จาก google drive\n",
        "#---------------------------------\n",
        "# DecisionTree_Images.zip\n",
        "#dataurl = 'https://drive.google.com/file/d/1S2xBCzTLDDG-bVcmh4LwkgzIMDcmyBPh/view?usp=sharing'\n",
        "!gdown --id 1S2xBCzTLDDG-bVcmh4LwkgzIMDcmyBPh"
      ],
      "execution_count": null,
      "outputs": [
        {
          "output_type": "stream",
          "text": [
            "Downloading...\n",
            "From: https://drive.google.com/uc?id=1S2xBCzTLDDG-bVcmh4LwkgzIMDcmyBPh\n",
            "To: /content/DecisionTree_Images.zip\n",
            "\r  0% 0.00/112k [00:00<?, ?B/s]\r100% 112k/112k [00:00<00:00, 32.6MB/s]\n"
          ],
          "name": "stdout"
        }
      ]
    },
    {
      "cell_type": "code",
      "metadata": {
        "colab": {
          "base_uri": "https://localhost:8080/"
        },
        "id": "bOcY-ejBYCXr",
        "outputId": "eec2455b-c04d-4fe3-a550-f4c9a70050e6"
      },
      "source": [
        "!unzip DecisionTree_Images"
      ],
      "execution_count": null,
      "outputs": [
        {
          "output_type": "stream",
          "text": [
            "Archive:  DecisionTree_Images.zip\n",
            "   creating: DecisionTree_Images/\n",
            "  inflating: DecisionTree_Images/.DS_Store  \n",
            "  inflating: DecisionTree_Images/tree.png  \n",
            "  inflating: DecisionTree_Images/tree.dot  \n"
          ],
          "name": "stdout"
        }
      ]
    },
    {
      "cell_type": "code",
      "metadata": {
        "colab": {
          "base_uri": "https://localhost:8080/"
        },
        "id": "Ks-GyiS4U7qE",
        "outputId": "82e59ae8-20ec-4b60-ce15-9d3fb72d3d33"
      },
      "source": [
        "from sklearn.tree import DecisionTreeClassifier\n",
        "# Let's define the model (tree)\n",
        "decision_tree = DecisionTreeClassifier(max_depth=3, criterion=\"entropy\")   # Look at those 2 arguments !!!\n",
        "# Let's tell the model what is the data\n",
        "decision_tree.fit(X_train, y_train)"
      ],
      "execution_count": null,
      "outputs": [
        {
          "output_type": "execute_result",
          "data": {
            "text/plain": [
              "DecisionTreeClassifier(ccp_alpha=0.0, class_weight=None, criterion='entropy',\n",
              "                       max_depth=3, max_features=None, max_leaf_nodes=None,\n",
              "                       min_impurity_decrease=0.0, min_impurity_split=None,\n",
              "                       min_samples_leaf=1, min_samples_split=2,\n",
              "                       min_weight_fraction_leaf=0.0, presort='deprecated',\n",
              "                       random_state=None, splitter='best')"
            ]
          },
          "metadata": {
            "tags": []
          },
          "execution_count": 72
        }
      ]
    },
    {
      "cell_type": "code",
      "metadata": {
        "colab": {
          "base_uri": "https://localhost:8080/",
          "height": 532
        },
        "id": "ux62DiTxU7tB",
        "outputId": "3ab51954-0341-48b1-d6a3-0b8d781d09d4"
      },
      "source": [
        "import os\n",
        "from IPython.display import Image\n",
        "from sklearn.tree import export_graphviz\n",
        "\n",
        "def visualize_tree(decision_tree, feature_names, class_names, directory=\"./DecisionTree_Images\", name=\"tree\",proportion=True):\n",
        "    # Export our decision tree to graphviz format\n",
        "    dot_name = \"%s/%s.dot\" % (directory, name)\n",
        "    dot_file = export_graphviz(decision_tree, out_file=dot_name,\n",
        "                               feature_names=feature_names, class_names=class_names,proportion=proportion)\n",
        "    # Call graphviz to make an image file from our decision tree\n",
        "    image_name = \"%s/%s.png\" % (directory, name)\n",
        "    os.system(\"dot -T png %s -o %s\" % (dot_name, image_name))\n",
        "    # Return the .png image so we can see it\n",
        "    return Image(filename=image_name)\n",
        "\n",
        "visualize_tree(decision_tree, X_train.columns, [\"dies\", \"survives\"])"
      ],
      "execution_count": null,
      "outputs": [
        {
          "output_type": "execute_result",
          "data": {
            "image/png": "[encoded data removed]",
            "text/plain": [
              "<IPython.core.display.Image object>"
            ]
          },
          "metadata": {
            "tags": []
          },
          "execution_count": 73
        }
      ]
    },
    {
      "cell_type": "markdown",
      "metadata": {
        "id": "vPQuOFKMU7vv"
      },
      "source": [
        "Let's look at `\"age\"` and `\"fare\"`, including the **DECISION SURFACE!!**\n",
        "\n",
        "More details for this graph: [sklearn decision surface](https://scikit-learn.org/0.18/auto_examples/tree/plot_iris.html)"
      ]
    },
    {
      "cell_type": "code",
      "metadata": {
        "colab": {
          "base_uri": "https://localhost:8080/",
          "height": 458
        },
        "id": "ZxWJGnOpU7xy",
        "outputId": "a5160db8-46d6-40cb-b7a7-f4e53bffe0d5"
      },
      "source": [
        "def Decision_Surface(data, col1, col2, target, model, probabilities=False):\n",
        "    # Get bounds\n",
        "    x_min, x_max = data[col1].min(), data[col1].max()\n",
        "    y_min, y_max = data[col2].min(), data[col2].max()\n",
        "    # Create a mesh\n",
        "    xx, yy = np.meshgrid(np.arange(x_min, x_max, 0.5), np.arange(y_min, y_max,0.5))\n",
        "    meshed_data = pd.DataFrame(np.c_[xx.ravel(), yy.ravel()])\n",
        "    # Get predictions for the mesh\n",
        "    tdf = data[[col1, col2]]\n",
        "    model.fit(tdf, target)\n",
        "    if probabilities:\n",
        "        Z = model.predict_proba(meshed_data)[:, 1].reshape(xx.shape)\n",
        "    else:\n",
        "        Z = model.predict(meshed_data).reshape(xx.shape)\n",
        "    # Chart details\n",
        "    plt.figure(figsize=[12,7])\n",
        "    plt.title(\"Decision surface\")\n",
        "    plt.xlabel(col1)\n",
        "    plt.ylabel(col2)\n",
        "    if probabilities:\n",
        "        # Color-scale on the contour (surface = separator)\n",
        "        cs = plt.contourf(xx, yy, Z, cmap=plt.cm.coolwarm_r, alpha=0.4)\n",
        "    else:\n",
        "        # Only a curve/line on the contour (surface = separator)\n",
        "        cs = plt.contourf(xx, yy, Z, levels=[-1,0,1], cmap=plt.cm.coolwarm_r, alpha=0.4)\n",
        "    # Plot scatter plot\n",
        "    cmap = {1: 'blue', 0: 'red'}\n",
        "    colors = [cmap[c] for c in target]\n",
        "    plt.scatter(data[col1], data[col2], color=colors)\n",
        "    # Build legend\n",
        "    plt.legend(handles=[mpatches.Patch(color=cmap[k], label=k) for k in cmap], loc=\"best\", title=\"Target\", frameon=True)\n",
        "    plt.show()\n",
        "\n",
        "tree_depth=3\n",
        "model = DecisionTreeClassifier(max_depth=tree_depth, criterion=\"entropy\")\n",
        "Decision_Surface(X_train, \"Fare\", \"Age\", y_train, model)"
      ],
      "execution_count": null,
      "outputs": [
        {
          "output_type": "display_data",
          "data": {
            "image/png": "[encoded data removed]",
            "text/plain": [
              "<Figure size 864x504 with 1 Axes>"
            ]
          },
          "metadata": {
            "tags": [],
            "needs_background": "light"
          }
        }
      ]
    },
    {
      "cell_type": "markdown",
      "metadata": {
        "id": "B-zvqy6uQkOh"
      },
      "source": [
        "# 6. Evaluate model"
      ]
    },
    {
      "cell_type": "code",
      "metadata": {
        "id": "IxzGESFjlAxL",
        "colab": {
          "base_uri": "https://localhost:8080/"
        },
        "outputId": "2887089e-5c12-4bda-8676-0836da93dc82"
      },
      "source": [
        "from sklearn.metrics import accuracy_score\n",
        "print ( \"Accuracy = %.3f\" % (accuracy_score(decision_tree.predict(X_train), y_train)) )"
      ],
      "execution_count": null,
      "outputs": [
        {
          "output_type": "stream",
          "text": [
            "Accuracy = 0.831\n"
          ],
          "name": "stdout"
        }
      ]
    },
    {
      "cell_type": "code",
      "metadata": {
        "id": "7gowZ36DQ8v5"
      },
      "source": [
        "# 5. Prediction\n",
        "train_prediction = decision_tree.predict(X_train)\n",
        "test_prediction = decision_tree.predict(X_test)\n",
        "\n",
        "# 6. Evaluation\n",
        "train_acc = accuracy_score(train_prediction, y_train)\n",
        "test_acc = accuracy_score(test_prediction, y_test)\n",
        "\n",
        "bias = 1 - train_acc # train_err\n",
        "test_err = 1 - test_acc\n",
        "variance = test_err - bias"
      ],
      "execution_count": null,
      "outputs": []
    },
    {
      "cell_type": "code",
      "metadata": {
        "id": "rHyrIjx1Z7qu",
        "colab": {
          "base_uri": "https://localhost:8080/"
        },
        "outputId": "b8b832f0-5360-4d97-f981-a150053aaa26"
      },
      "source": [
        "print(\"--------------------\")\n",
        "print(\"Training Acc: %.3f\" % train_acc)\n",
        "print(\"Test Acc: %.3f\" % test_acc)\n",
        "print(\"Bias: %.3f\" % bias)\n",
        "print(\"Varaince: %.3f\" % variance)"
      ],
      "execution_count": null,
      "outputs": [
        {
          "output_type": "stream",
          "text": [
            "--------------------\n",
            "Training Acc: 0.831\n",
            "Test Acc: 0.799\n",
            "Bias: 0.169\n",
            "Varaince: 0.033\n"
          ],
          "name": "stdout"
        }
      ]
    },
    {
      "cell_type": "code",
      "metadata": {
        "id": "JLE8LP8iN0Xm"
      },
      "source": [],
      "execution_count": null,
      "outputs": []
    }
  ]
}