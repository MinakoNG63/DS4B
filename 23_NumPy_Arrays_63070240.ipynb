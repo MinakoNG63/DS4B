{
  "nbformat": 4,
  "nbformat_minor": 0,
  "metadata": {
    "kernelspec": {
      "display_name": "Python 3",
      "language": "python",
      "name": "python3"
    },
    "language_info": {
      "codemirror_mode": {
        "name": "ipython",
        "version": 3
      },
      "file_extension": ".py",
      "mimetype": "text/x-python",
      "name": "python",
      "nbconvert_exporter": "python",
      "pygments_lexer": "ipython3",
      "version": "3.7.3"
    },
    "colab": {
      "provenance": [],
      "include_colab_link": true
    }
  },
  "cells": [
    {
      "cell_type": "markdown",
      "metadata": {
        "id": "view-in-github",
        "colab_type": "text"
      },
      "source": [
        "<a href=\"https://colab.research.google.com/github/MinakoNG63/DSFB/blob/main/23_NumPy_Arrays_63070240.ipynb\" target=\"_parent\"><img src=\"https://colab.research.google.com/assets/colab-badge.svg\" alt=\"Open In Colab\"/></a>"
      ]
    },
    {
      "cell_type": "markdown",
      "metadata": {
        "id": "Oa8piD37s4rG"
      },
      "source": [
        "# 23. NumPy Arrays\n",
        "\n",
        "Term 1 2022 - Instructor: Teerapong Leelanupab\n",
        "\n",
        "Teaching Assistant:\n",
        "1. Piyawat Chuangkrud (Sam)\n",
        "2. Suvapat Manu (Mint)\n",
        "\n",
        "***"
      ]
    },
    {
      "cell_type": "markdown",
      "metadata": {
        "id": "DUpxmEqFs4rH"
      },
      "source": [
        "NumPy is the standard Python package for scientific computing. It provides support for multidimensional arrays which are more efficient than standard Python data structures.\n",
        "\n",
        "To start off, we import the NumpPy package. We can import it as *np* for shorthand."
      ]
    },
    {
      "cell_type": "code",
      "metadata": {
        "id": "jV09d0Hzs4rH"
      },
      "source": [
        "import numpy as np"
      ],
      "execution_count": null,
      "outputs": []
    },
    {
      "cell_type": "markdown",
      "metadata": {
        "id": "Mrs-lQEms4rI"
      },
      "source": [
        "### NumPy 1D Arrays"
      ]
    },
    {
      "cell_type": "markdown",
      "metadata": {
        "id": "Id4VBcN0s4rI"
      },
      "source": [
        "The fundamental NumPy data structure is an *array*: a memory-efficient container that provides fast numerical operations.\n",
        "Unlike standard Python lists, NumPy arrays only contain a single type of value (e.g. only floats; only integers etc)."
      ]
    },
    {
      "cell_type": "markdown",
      "metadata": {
        "id": "4MZak_WPs4rI"
      },
      "source": [
        "The simplest type of array is 1-dimensional (1D). We can create an array from an existing Python list"
      ]
    },
    {
      "cell_type": "code",
      "metadata": {
        "colab": {
          "base_uri": "https://localhost:8080/"
        },
        "id": "hZZSLWwzs4rI",
        "outputId": "3d105312-09b6-48a5-87e4-80d842f7bdf9"
      },
      "source": [
        "mylist = [5,18,3,12,20,0,24]\n",
        "a = np.array(mylist)\n",
        "print(a)"
      ],
      "execution_count": null,
      "outputs": [
        {
          "output_type": "stream",
          "name": "stdout",
          "text": [
            "[ 5 18  3 12 20  0 24]\n"
          ]
        }
      ]
    },
    {
      "cell_type": "code",
      "source": [
        "a"
      ],
      "metadata": {
        "colab": {
          "base_uri": "https://localhost:8080/"
        },
        "id": "jKS1Dksun-c9",
        "outputId": "4e68aa80-76eb-4a61-ace7-265a2029bba8"
      },
      "execution_count": null,
      "outputs": [
        {
          "output_type": "execute_result",
          "data": {
            "text/plain": [
              "array([ 5, 18,  3, 12, 20,  0, 24])"
            ]
          },
          "metadata": {},
          "execution_count": 4
        }
      ]
    },
    {
      "cell_type": "code",
      "metadata": {
        "colab": {
          "base_uri": "https://localhost:8080/"
        },
        "id": "AmGNmet4s4rI",
        "outputId": "237ef3f7-4c33-4871-c140-590b19698cdd"
      },
      "source": [
        "a.shape"
      ],
      "execution_count": null,
      "outputs": [
        {
          "output_type": "execute_result",
          "data": {
            "text/plain": [
              "(7,)"
            ]
          },
          "metadata": {},
          "execution_count": 5
        }
      ]
    },
    {
      "cell_type": "markdown",
      "metadata": {
        "id": "DWdJn2Vps4rJ"
      },
      "source": [
        "Unlike standard Python lists, NumPy arrays only contain a single type of value, such as an integer or a float."
      ]
    },
    {
      "cell_type": "code",
      "metadata": {
        "colab": {
          "base_uri": "https://localhost:8080/"
        },
        "id": "kty6s-UGs4rJ",
        "outputId": "547a023c-3750-46d1-9c62-0ae385a1b82e"
      },
      "source": [
        "a.dtype"
      ],
      "execution_count": null,
      "outputs": [
        {
          "output_type": "execute_result",
          "data": {
            "text/plain": [
              "dtype('int64')"
            ]
          },
          "metadata": {},
          "execution_count": 6
        }
      ]
    },
    {
      "cell_type": "code",
      "metadata": {
        "colab": {
          "base_uri": "https://localhost:8080/"
        },
        "id": "FmguO48Xs4rJ",
        "outputId": "6ad1820f-9787-4e5a-8454-47110017aeeb"
      },
      "source": [
        "b = np.array( [0.3, 0.12, 1.4, 2.3, 4.5] )\n",
        "b"
      ],
      "execution_count": null,
      "outputs": [
        {
          "output_type": "execute_result",
          "data": {
            "text/plain": [
              "array([0.3 , 0.12, 1.4 , 2.3 , 4.5 ])"
            ]
          },
          "metadata": {},
          "execution_count": 7
        }
      ]
    },
    {
      "cell_type": "code",
      "metadata": {
        "colab": {
          "base_uri": "https://localhost:8080/"
        },
        "id": "bWUhVE_Os4rJ",
        "outputId": "179020e2-4c6c-4c6c-b1da-1f1bce5c6a28"
      },
      "source": [
        "b.dtype"
      ],
      "execution_count": null,
      "outputs": [
        {
          "output_type": "execute_result",
          "data": {
            "text/plain": [
              "dtype('float64')"
            ]
          },
          "metadata": {},
          "execution_count": 8
        }
      ]
    },
    {
      "cell_type": "markdown",
      "metadata": {
        "id": "a5pONujTs4rJ"
      },
      "source": [
        "#### Numerical Operations\n",
        "We can apply standard numerical operations to arrays using scalars (numbers). The operations are applied element-wise - i.e. applied separately to every element (value) in the array."
      ]
    },
    {
      "cell_type": "code",
      "metadata": {
        "colab": {
          "base_uri": "https://localhost:8080/"
        },
        "id": "VnxJ-NY8s4rJ",
        "outputId": "11a6a1d4-b350-40f7-fff6-164f852b226a"
      },
      "source": [
        "c = np.array([2,4,6,8,10,20,100])\n",
        "c"
      ],
      "execution_count": null,
      "outputs": [
        {
          "output_type": "execute_result",
          "data": {
            "text/plain": [
              "array([  2,   4,   6,   8,  10,  20, 100])"
            ]
          },
          "metadata": {},
          "execution_count": 9
        }
      ]
    },
    {
      "cell_type": "code",
      "metadata": {
        "colab": {
          "base_uri": "https://localhost:8080/"
        },
        "id": "Yzc7PpmCs4rJ",
        "outputId": "70385f40-bd84-4be3-de2e-d8cc666ac0c2"
      },
      "source": [
        "c + 1"
      ],
      "execution_count": null,
      "outputs": [
        {
          "output_type": "execute_result",
          "data": {
            "text/plain": [
              "array([  3,   5,   7,   9,  11,  21, 101])"
            ]
          },
          "metadata": {},
          "execution_count": 10
        }
      ]
    },
    {
      "cell_type": "code",
      "metadata": {
        "colab": {
          "base_uri": "https://localhost:8080/"
        },
        "id": "Q8Bnp_Xas4rJ",
        "outputId": "0f283d89-ea93-4ea6-d6f3-935d82bc7fcb"
      },
      "source": [
        "c - 2"
      ],
      "execution_count": null,
      "outputs": [
        {
          "output_type": "execute_result",
          "data": {
            "text/plain": [
              "array([ 0,  2,  4,  6,  8, 18, 98])"
            ]
          },
          "metadata": {},
          "execution_count": 11
        }
      ]
    },
    {
      "cell_type": "code",
      "metadata": {
        "colab": {
          "base_uri": "https://localhost:8080/"
        },
        "id": "jFAHjYjQs4rJ",
        "outputId": "07b00e50-c571-41fe-a50c-9e48affd908b"
      },
      "source": [
        "c * 10"
      ],
      "execution_count": null,
      "outputs": [
        {
          "output_type": "execute_result",
          "data": {
            "text/plain": [
              "array([  20,   40,   60,   80,  100,  200, 1000])"
            ]
          },
          "metadata": {},
          "execution_count": 12
        }
      ]
    },
    {
      "cell_type": "code",
      "metadata": {
        "colab": {
          "base_uri": "https://localhost:8080/"
        },
        "id": "sOf1KUW5s4rK",
        "outputId": "88aff546-cf08-4ef9-b519-03105f621279"
      },
      "source": [
        "c / 10"
      ],
      "execution_count": null,
      "outputs": [
        {
          "output_type": "execute_result",
          "data": {
            "text/plain": [
              "array([ 0.2,  0.4,  0.6,  0.8,  1. ,  2. , 10. ])"
            ]
          },
          "metadata": {},
          "execution_count": 13
        }
      ]
    },
    {
      "cell_type": "code",
      "metadata": {
        "colab": {
          "base_uri": "https://localhost:8080/"
        },
        "id": "0tcFCYh5s4rK",
        "outputId": "05bb575b-edf9-4859-8616-b399044d8201"
      },
      "source": [
        "# Square the values in the array\n",
        "c**2"
      ],
      "execution_count": null,
      "outputs": [
        {
          "output_type": "execute_result",
          "data": {
            "text/plain": [
              "array([    4,    16,    36,    64,   100,   400, 10000])"
            ]
          },
          "metadata": {},
          "execution_count": 14
        }
      ]
    },
    {
      "cell_type": "markdown",
      "metadata": {
        "id": "SEzBWFIEs4rK"
      },
      "source": [
        "### NumPy 2D Arrays"
      ]
    },
    {
      "cell_type": "markdown",
      "metadata": {
        "id": "K1Evy03Vs4rK"
      },
      "source": [
        "An array can have more than 1 dimension. A 2D array can be viewed as a matrix, with rows and columns. Arrays can also have > 2 dimensions."
      ]
    },
    {
      "cell_type": "markdown",
      "metadata": {
        "id": "B_gZvK5fs4rK"
      },
      "source": [
        "We can create 2D arrays from a list containing other Python lists. These lists must contain the same number of elements with their values. Also, make sure to include the outer [ ] brackets!"
      ]
    },
    {
      "cell_type": "code",
      "metadata": {
        "colab": {
          "base_uri": "https://localhost:8080/"
        },
        "id": "sCT-cxvWs4rK",
        "outputId": "f864a782-a0ec-437d-cb7c-ce0ef6597ed2"
      },
      "source": [
        "r1 = [ 4, 3, 2, 3 ]\n",
        "r2 = [ 3, 5, 6, 4 ]\n",
        "m = np.array( [ r1, r2 ] )\n",
        "m"
      ],
      "execution_count": null,
      "outputs": [
        {
          "output_type": "execute_result",
          "data": {
            "text/plain": [
              "array([[4, 3, 2, 3],\n",
              "       [3, 5, 6, 4]])"
            ]
          },
          "metadata": {},
          "execution_count": 15
        }
      ]
    },
    {
      "cell_type": "markdown",
      "metadata": {
        "id": "loOge4qqs4rK"
      },
      "source": [
        "The *rank* of an array is the number of dimensions it has."
      ]
    },
    {
      "cell_type": "code",
      "source": [
        "np.array(r1).ndim"
      ],
      "metadata": {
        "colab": {
          "base_uri": "https://localhost:8080/"
        },
        "id": "Msohp5dyoR5O",
        "outputId": "fc5c84d2-bc57-4083-aaff-a1c33175c180"
      },
      "execution_count": null,
      "outputs": [
        {
          "output_type": "execute_result",
          "data": {
            "text/plain": [
              "1"
            ]
          },
          "metadata": {},
          "execution_count": 17
        }
      ]
    },
    {
      "cell_type": "code",
      "metadata": {
        "colab": {
          "base_uri": "https://localhost:8080/"
        },
        "id": "FUhz8fyus4rK",
        "outputId": "9182b725-412b-4132-bb15-32842e386bc3"
      },
      "source": [
        "m.ndim"
      ],
      "execution_count": null,
      "outputs": [
        {
          "output_type": "execute_result",
          "data": {
            "text/plain": [
              "2"
            ]
          },
          "metadata": {},
          "execution_count": 14
        }
      ]
    },
    {
      "cell_type": "markdown",
      "metadata": {
        "id": "2VeaPBO9s4rK"
      },
      "source": [
        "The *shape* of an array is a tuple of integers giving the length of the array in each dimension."
      ]
    },
    {
      "cell_type": "code",
      "metadata": {
        "colab": {
          "base_uri": "https://localhost:8080/"
        },
        "id": "HLGmronvs4rK",
        "outputId": "f9bdff1f-a8b2-4966-be71-e8f048b5a639"
      },
      "source": [
        "m.shape"
      ],
      "execution_count": null,
      "outputs": [
        {
          "output_type": "execute_result",
          "data": {
            "text/plain": [
              "(2, 4)"
            ]
          },
          "metadata": {},
          "execution_count": 15
        }
      ]
    },
    {
      "cell_type": "markdown",
      "metadata": {
        "id": "NEMveWL7s4rL"
      },
      "source": [
        "The *size* of an array is the total number of elements it has. In the below, this is number of rows X number of columns."
      ]
    },
    {
      "cell_type": "code",
      "metadata": {
        "colab": {
          "base_uri": "https://localhost:8080/"
        },
        "id": "XEee-xlDs4rL",
        "outputId": "e7f16286-096b-4c5d-9c61-5fd419a156be"
      },
      "source": [
        "m.size"
      ],
      "execution_count": null,
      "outputs": [
        {
          "output_type": "execute_result",
          "data": {
            "text/plain": [
              "8"
            ]
          },
          "metadata": {},
          "execution_count": 16
        }
      ]
    },
    {
      "cell_type": "markdown",
      "metadata": {
        "id": "GALyPgm5s4rL"
      },
      "source": [
        "### Array Creation Alternatives"
      ]
    },
    {
      "cell_type": "markdown",
      "metadata": {
        "id": "OmmZl2tNs4rL"
      },
      "source": [
        "Rather than using Python lists, a variety of functions are available for conveniently creating and populating arrays."
      ]
    },
    {
      "cell_type": "markdown",
      "metadata": {
        "id": "KrSsHYFss4rL"
      },
      "source": [
        "Use the *np.zeros()* function to create an array full of 0s with required shape"
      ]
    },
    {
      "cell_type": "code",
      "metadata": {
        "colab": {
          "base_uri": "https://localhost:8080/"
        },
        "id": "Fs8mEgZOs4rL",
        "outputId": "29178c1c-3b62-43e7-8607-310fc7544905"
      },
      "source": [
        "x = np.zeros(4)\n",
        "x"
      ],
      "execution_count": null,
      "outputs": [
        {
          "output_type": "execute_result",
          "data": {
            "text/plain": [
              "array([0., 0., 0., 0.])"
            ]
          },
          "metadata": {},
          "execution_count": 17
        }
      ]
    },
    {
      "cell_type": "code",
      "metadata": {
        "colab": {
          "base_uri": "https://localhost:8080/"
        },
        "id": "j7rQO4I8s4rL",
        "outputId": "af11514a-ff17-4932-b74a-13d7ebf55e2d"
      },
      "source": [
        "y = np.zeros( (3,2) )\n",
        "y"
      ],
      "execution_count": null,
      "outputs": [
        {
          "output_type": "execute_result",
          "data": {
            "text/plain": [
              "array([[0., 0.],\n",
              "       [0., 0.],\n",
              "       [0., 0.]])"
            ]
          },
          "metadata": {},
          "execution_count": 18
        }
      ]
    },
    {
      "cell_type": "markdown",
      "metadata": {
        "id": "cvdfwibrs4rL"
      },
      "source": [
        "Use the *np.ones()* function to create an array full of 1s with required shape"
      ]
    },
    {
      "cell_type": "code",
      "metadata": {
        "colab": {
          "base_uri": "https://localhost:8080/"
        },
        "id": "6BQglF69s4rL",
        "outputId": "c45e6736-ad3c-4bee-8f4b-00d9439a3b0b"
      },
      "source": [
        "v = np.ones(5)\n",
        "v"
      ],
      "execution_count": null,
      "outputs": [
        {
          "output_type": "execute_result",
          "data": {
            "text/plain": [
              "array([1., 1., 1., 1., 1.])"
            ]
          },
          "metadata": {},
          "execution_count": 19
        }
      ]
    },
    {
      "cell_type": "code",
      "metadata": {
        "colab": {
          "base_uri": "https://localhost:8080/"
        },
        "id": "DDRAnwtds4rL",
        "outputId": "90bb5a70-949d-4ce3-aad9-7ed9489912c9"
      },
      "source": [
        "np.ones((2,2))"
      ],
      "execution_count": null,
      "outputs": [
        {
          "output_type": "execute_result",
          "data": {
            "text/plain": [
              "array([[1., 1.],\n",
              "       [1., 1.]])"
            ]
          },
          "metadata": {},
          "execution_count": 20
        }
      ]
    },
    {
      "cell_type": "markdown",
      "metadata": {
        "id": "PDuzk0Wgs4rM"
      },
      "source": [
        "The default type for the above functions is float. Use the *dtype* parameter to tell NumPy we want an array of ints, not floats."
      ]
    },
    {
      "cell_type": "code",
      "metadata": {
        "colab": {
          "base_uri": "https://localhost:8080/"
        },
        "id": "wuSSZ3qws4rM",
        "outputId": "0ed14ef6-cb04-46ba-ae0f-3f17da11d77f"
      },
      "source": [
        "np.ones((2,4),dtype=int)"
      ],
      "execution_count": null,
      "outputs": [
        {
          "output_type": "execute_result",
          "data": {
            "text/plain": [
              "array([[1, 1, 1, 1],\n",
              "       [1, 1, 1, 1]])"
            ]
          },
          "metadata": {},
          "execution_count": 21
        }
      ]
    },
    {
      "cell_type": "markdown",
      "metadata": {
        "id": "SbSb4kuTs4rM"
      },
      "source": [
        "We can create an array corresponding to a sequence using the *arange()* function. For instance, create an array containing values starting at 2, ending before 9, in steps of 1."
      ]
    },
    {
      "cell_type": "code",
      "metadata": {
        "colab": {
          "base_uri": "https://localhost:8080/"
        },
        "id": "o6jV92JWs4rM",
        "outputId": "d7b92055-1abe-4c95-ca9b-7bd30fa39f59"
      },
      "source": [
        "v = np.arange(2,9)\n",
        "v"
      ],
      "execution_count": null,
      "outputs": [
        {
          "output_type": "execute_result",
          "data": {
            "text/plain": [
              "array([2, 3, 4, 5, 6, 7, 8])"
            ]
          },
          "metadata": {},
          "execution_count": 22
        }
      ]
    },
    {
      "cell_type": "markdown",
      "metadata": {
        "id": "oZc1y9vjs4rM"
      },
      "source": [
        "We can also use a different step size. For instance, create an array starting at 5, ending before 60, in steps of size 10."
      ]
    },
    {
      "cell_type": "code",
      "metadata": {
        "colab": {
          "base_uri": "https://localhost:8080/"
        },
        "id": "xISsVR5Cs4rM",
        "outputId": "d055025d-dac0-44e9-b147-c6680f06c63d"
      },
      "source": [
        "v = np.arange( 5, 60, 10 )\n",
        "v"
      ],
      "execution_count": null,
      "outputs": [
        {
          "output_type": "execute_result",
          "data": {
            "text/plain": [
              "array([ 5, 15, 25, 35, 45, 55])"
            ]
          },
          "metadata": {},
          "execution_count": 23
        }
      ]
    },
    {
      "cell_type": "markdown",
      "metadata": {
        "id": "QOjL41bAs4rM"
      },
      "source": [
        "The range and step sizes do not have to be integers. We can also specify floats:"
      ]
    },
    {
      "cell_type": "code",
      "metadata": {
        "colab": {
          "base_uri": "https://localhost:8080/"
        },
        "id": "VfKvuZT4s4rM",
        "outputId": "c92b0a3e-897e-487c-f3fa-9c91bbedcd63"
      },
      "source": [
        "x = np.arange(0.5, 9.4, 1.3)\n",
        "x"
      ],
      "execution_count": null,
      "outputs": [
        {
          "output_type": "execute_result",
          "data": {
            "text/plain": [
              "array([0.5, 1.8, 3.1, 4.4, 5.7, 7. , 8.3])"
            ]
          },
          "metadata": {},
          "execution_count": 24
        }
      ]
    },
    {
      "cell_type": "markdown",
      "metadata": {
        "id": "3hC5zUxCs4rM"
      },
      "source": [
        "### linspace()\n",
        "\n",
        "The *linspace()* function creates an array with a specified number of evenly-spaced samples in a given range. For example, we can **divide up** the range [1,10] into 4 evenly-spaced values, including the **endpoints** (เช่น แบ่งเป็น 4 ส่วนเท่า ๆ กัน โดยนับตำแหน่งแรกและตำแหน่งสุดท้ายด้วย โดยกรณีนี้คือ 1 และ 10):"
      ]
    },
    {
      "cell_type": "code",
      "metadata": {
        "colab": {
          "base_uri": "https://localhost:8080/"
        },
        "id": "d5CVKylys4rM",
        "outputId": "f82d6171-723e-49dc-f7a2-d1b003504ee3"
      },
      "source": [
        "np.linspace(1, 10, 4)"
      ],
      "execution_count": null,
      "outputs": [
        {
          "output_type": "execute_result",
          "data": {
            "text/plain": [
              "array([ 1.,  4.,  7., 10.])"
            ]
          },
          "metadata": {},
          "execution_count": 25
        }
      ]
    },
    {
      "cell_type": "code",
      "metadata": {
        "colab": {
          "base_uri": "https://localhost:8080/"
        },
        "id": "rPpci54Ks4rN",
        "outputId": "ead850b2-60ab-4f5d-a46f-a39fade8e232"
      },
      "source": [
        "np.linspace(1, 20, 5)"
      ],
      "execution_count": null,
      "outputs": [
        {
          "output_type": "execute_result",
          "data": {
            "text/plain": [
              "array([ 1.  ,  5.75, 10.5 , 15.25, 20.  ])"
            ]
          },
          "metadata": {},
          "execution_count": 26
        }
      ]
    },
    {
      "cell_type": "markdown",
      "metadata": {
        "id": "gGs0JLWxs4rN"
      },
      "source": [
        "### Array Shape Manipulation"
      ]
    },
    {
      "cell_type": "markdown",
      "metadata": {
        "collapsed": true,
        "id": "P03sZlLIs4rN"
      },
      "source": [
        "We can change the shape of an array. The original values are copied to a new array with the specified shape, so the original array is not affected."
      ]
    },
    {
      "cell_type": "code",
      "metadata": {
        "colab": {
          "base_uri": "https://localhost:8080/"
        },
        "id": "0RZzMInvs4rN",
        "outputId": "90f7215d-af95-4eb3-a851-3123be976133"
      },
      "source": [
        "x = np.arange(0,12)\n",
        "x"
      ],
      "execution_count": null,
      "outputs": [
        {
          "output_type": "execute_result",
          "data": {
            "text/plain": [
              "array([ 0,  1,  2,  3,  4,  5,  6,  7,  8,  9, 10, 11])"
            ]
          },
          "metadata": {},
          "execution_count": 27
        }
      ]
    },
    {
      "cell_type": "markdown",
      "metadata": {
        "id": "RPnc2J60s4rN"
      },
      "source": [
        "Remember we use **x.reshape(row,column)** very often."
      ]
    },
    {
      "cell_type": "code",
      "metadata": {
        "colab": {
          "base_uri": "https://localhost:8080/"
        },
        "id": "Jfm9rbh-s4rN",
        "outputId": "8e421c30-f197-4993-be06-629e40f14d7a"
      },
      "source": [
        "m = x.reshape(3,4)\n",
        "m"
      ],
      "execution_count": null,
      "outputs": [
        {
          "output_type": "execute_result",
          "data": {
            "text/plain": [
              "array([[ 0,  1,  2,  3],\n",
              "       [ 4,  5,  6,  7],\n",
              "       [ 8,  9, 10, 11]])"
            ]
          },
          "metadata": {},
          "execution_count": 28
        }
      ]
    },
    {
      "cell_type": "markdown",
      "metadata": {
        "id": "sYKb8vkSs4rN"
      },
      "source": [
        "Numpy allow us to give one of new shape parameter as -1 (eg: (2,-1) or (-1,3) but not (-1, -1)). It simply means that it is an unknown dimension and we want numpy to figure it out. And numpy will figure this by looking at the 'length of the array and remaining dimensions' and making sure it satisfies the criterion, 'The new shape should be compatible with the original shape.'\n",
        "\n",
        "[**numpy.reshape\\[-1,m\\]** or **numpy.reshape\\[n,-1\\]**](https://stackoverflow.com/questions/18691084/what-does-1-mean-in-numpy-reshape)"
      ]
    },
    {
      "cell_type": "code",
      "metadata": {
        "colab": {
          "base_uri": "https://localhost:8080/"
        },
        "id": "AQmYnOh4s4rN",
        "outputId": "7ef4121b-32d0-48bd-eab1-e8f052653add"
      },
      "source": [
        "#This means the new shape must have one column, and let numpy figure out the number of rows. which is of course one row.\n",
        "magic = m.reshape(-1,1)\n",
        "magic"
      ],
      "execution_count": null,
      "outputs": [
        {
          "output_type": "execute_result",
          "data": {
            "text/plain": [
              "array([[ 0],\n",
              "       [ 1],\n",
              "       [ 2],\n",
              "       [ 3],\n",
              "       [ 4],\n",
              "       [ 5],\n",
              "       [ 6],\n",
              "       [ 7],\n",
              "       [ 8],\n",
              "       [ 9],\n",
              "       [10],\n",
              "       [11]])"
            ]
          },
          "metadata": {},
          "execution_count": 29
        }
      ]
    },
    {
      "cell_type": "code",
      "metadata": {
        "colab": {
          "base_uri": "https://localhost:8080/"
        },
        "id": "4zLWAw-0s4rO",
        "outputId": "37db9eb5-c3ac-4fc8-c23e-7f78de631479"
      },
      "source": [
        "#This means the new shape must have 2 columns. Numpy then figures out the number of rows, which is compatible with original shape (3, 4).\n",
        "#By doing so, it results in a new shape with (6, 2) .\n",
        "magic = m.reshape(-1,2)\n",
        "magic"
      ],
      "execution_count": null,
      "outputs": [
        {
          "output_type": "execute_result",
          "data": {
            "text/plain": [
              "array([[ 0,  1],\n",
              "       [ 2,  3],\n",
              "       [ 4,  5],\n",
              "       [ 6,  7],\n",
              "       [ 8,  9],\n",
              "       [10, 11]])"
            ]
          },
          "metadata": {},
          "execution_count": 30
        }
      ]
    },
    {
      "cell_type": "code",
      "metadata": {
        "colab": {
          "base_uri": "https://localhost:8080/"
        },
        "id": "uDOy9GBVs4rO",
        "outputId": "d01b4c72-9996-4bef-b335-577ac48f852c"
      },
      "source": [
        "#This means the new shape must have one row, and let numpy figure out the number of columns. which is of course one column.\n",
        "magic = m.reshape(1,-1)\n",
        "magic"
      ],
      "execution_count": null,
      "outputs": [
        {
          "output_type": "execute_result",
          "data": {
            "text/plain": [
              "array([[ 0,  1,  2,  3,  4,  5,  6,  7,  8,  9, 10, 11]])"
            ]
          },
          "metadata": {},
          "execution_count": 31
        }
      ]
    },
    {
      "cell_type": "code",
      "metadata": {
        "colab": {
          "base_uri": "https://localhost:8080/"
        },
        "id": "IapQwpvds4rO",
        "outputId": "d13e6355-5ed1-4469-bc13-a4473844af1b"
      },
      "source": [
        "# Again, Tthis means the new shape must have 4 rows. Numpy then figures out the number of columns, which is compatible with original shape (3, 4).\n",
        "#We get a new shape as (4, 3).\n",
        "magic = m.reshape(4,-1)\n",
        "magic"
      ],
      "execution_count": null,
      "outputs": [
        {
          "output_type": "execute_result",
          "data": {
            "text/plain": [
              "array([[ 0,  1,  2],\n",
              "       [ 3,  4,  5],\n",
              "       [ 6,  7,  8],\n",
              "       [ 9, 10, 11]])"
            ]
          },
          "metadata": {},
          "execution_count": 32
        }
      ]
    },
    {
      "cell_type": "markdown",
      "metadata": {
        "id": "fClzA9hws4rO"
      },
      "source": [
        "Note that the size of the reshaped array has to be same as the original."
      ]
    },
    {
      "cell_type": "code",
      "metadata": {
        "colab": {
          "base_uri": "https://localhost:8080/"
        },
        "id": "HTjDgKERs4rO",
        "outputId": "e705de16-c3c6-445b-cdc9-7209bce6f50c"
      },
      "source": [
        "y = np.ones(4)\n",
        "y"
      ],
      "execution_count": null,
      "outputs": [
        {
          "output_type": "execute_result",
          "data": {
            "text/plain": [
              "array([1., 1., 1., 1.])"
            ]
          },
          "metadata": {},
          "execution_count": 33
        }
      ]
    },
    {
      "cell_type": "code",
      "metadata": {
        "colab": {
          "base_uri": "https://localhost:8080/"
        },
        "id": "1SX7FLL4s4rO",
        "outputId": "6cb46b7a-b1c3-4def-cfb1-a09ac0f828d0"
      },
      "source": [
        "y.reshape(2,2)"
      ],
      "execution_count": null,
      "outputs": [
        {
          "output_type": "execute_result",
          "data": {
            "text/plain": [
              "array([[1., 1.],\n",
              "       [1., 1.]])"
            ]
          },
          "metadata": {},
          "execution_count": 34
        }
      ]
    },
    {
      "cell_type": "markdown",
      "metadata": {
        "id": "T39tuanOs4rO"
      },
      "source": [
        "### Accessing Values"
      ]
    },
    {
      "cell_type": "markdown",
      "metadata": {
        "id": "5YngAbYXs4rP"
      },
      "source": [
        "To access a value in a 1D array, specify the position *[i]* counting from 0."
      ]
    },
    {
      "cell_type": "code",
      "metadata": {
        "colab": {
          "base_uri": "https://localhost:8080/"
        },
        "id": "-R7x2Rals4rP",
        "outputId": "e3064e85-b432-4d70-cd9b-157c6f1cae7e"
      },
      "source": [
        "a = np.array( [5,18,3,12,20,0,24] )\n",
        "a[2]"
      ],
      "execution_count": null,
      "outputs": [
        {
          "output_type": "execute_result",
          "data": {
            "text/plain": [
              "3"
            ]
          },
          "metadata": {},
          "execution_count": 35
        }
      ]
    },
    {
      "cell_type": "markdown",
      "metadata": {
        "id": "EPz24x_Ks4rP"
      },
      "source": [
        "Using a negative number allows to access values from the end of the array in reverse:"
      ]
    },
    {
      "cell_type": "code",
      "metadata": {
        "colab": {
          "base_uri": "https://localhost:8080/"
        },
        "id": "NXxVQROxs4rP",
        "outputId": "0ac5af90-80f3-44a0-dac6-6e87f2b420ca"
      },
      "source": [
        "a[-1]"
      ],
      "execution_count": null,
      "outputs": [
        {
          "output_type": "execute_result",
          "data": {
            "text/plain": [
              "24"
            ]
          },
          "metadata": {},
          "execution_count": 36
        }
      ]
    },
    {
      "cell_type": "markdown",
      "metadata": {
        "id": "cDi9jXzks4rP"
      },
      "source": [
        "We can also use this notation to change the values in an existing array."
      ]
    },
    {
      "cell_type": "code",
      "metadata": {
        "colab": {
          "base_uri": "https://localhost:8080/"
        },
        "id": "Bxh4YxwIs4rP",
        "outputId": "a936cea4-0e1a-4b39-bbec-671cd0ba60e7"
      },
      "source": [
        "a[0] = 100\n",
        "a"
      ],
      "execution_count": null,
      "outputs": [
        {
          "output_type": "execute_result",
          "data": {
            "text/plain": [
              "array([100,  18,   3,  12,  20,   0,  24])"
            ]
          },
          "metadata": {},
          "execution_count": 37
        }
      ]
    },
    {
      "cell_type": "markdown",
      "metadata": {
        "id": "AaJ2vZB7s4rQ"
      },
      "source": [
        "When working with arrays with more than 1 dimension, use the notation *[i,j]*, where the position in each dimension is separated by commas."
      ]
    },
    {
      "cell_type": "code",
      "metadata": {
        "colab": {
          "base_uri": "https://localhost:8080/"
        },
        "id": "QTDKVBins4rQ",
        "outputId": "0ac611d1-39ae-4c30-aa9e-4db00ffe2a26"
      },
      "source": [
        "r1 = [ 5, 9, 2, 11 ]\n",
        "r2 = [ 0, 5, 6, 4 ]\n",
        "m = np.array( [ r1, r2 ] )\n",
        "m"
      ],
      "execution_count": null,
      "outputs": [
        {
          "output_type": "execute_result",
          "data": {
            "text/plain": [
              "array([[ 5,  9,  2, 11],\n",
              "       [ 0,  5,  6,  4]])"
            ]
          },
          "metadata": {},
          "execution_count": 38
        }
      ]
    },
    {
      "cell_type": "code",
      "metadata": {
        "colab": {
          "base_uri": "https://localhost:8080/"
        },
        "id": "f2p_wIcOs4rQ",
        "outputId": "e2348f42-3f25-452e-a9eb-d07da11f1320"
      },
      "source": [
        "m[0,1]"
      ],
      "execution_count": null,
      "outputs": [
        {
          "output_type": "execute_result",
          "data": {
            "text/plain": [
              "9"
            ]
          },
          "metadata": {},
          "execution_count": 39
        }
      ]
    },
    {
      "cell_type": "code",
      "metadata": {
        "colab": {
          "base_uri": "https://localhost:8080/"
        },
        "id": "nU_Sta7Ds4rQ",
        "outputId": "329e5e3b-7e6e-41af-b221-56c64fb1706c"
      },
      "source": [
        "m[1,3]"
      ],
      "execution_count": null,
      "outputs": [
        {
          "output_type": "execute_result",
          "data": {
            "text/plain": [
              "4"
            ]
          },
          "metadata": {},
          "execution_count": 40
        }
      ]
    },
    {
      "cell_type": "code",
      "metadata": {
        "colab": {
          "base_uri": "https://localhost:8080/"
        },
        "id": "3FWtlslos4rQ",
        "outputId": "2c0acd52-1ad5-4d53-b576-079fd1993d64"
      },
      "source": [
        "m[0,3] = 200\n",
        "m"
      ],
      "execution_count": null,
      "outputs": [
        {
          "output_type": "execute_result",
          "data": {
            "text/plain": [
              "array([[  5,   9,   2, 200],\n",
              "       [  0,   5,   6,   4]])"
            ]
          },
          "metadata": {},
          "execution_count": 41
        }
      ]
    },
    {
      "cell_type": "markdown",
      "metadata": {
        "id": "zLAD2_Xns4rR"
      },
      "source": [
        "NumPy provides concise syntax to access sub-arrays via slicing. This creates a \"**view**\" on the original array, not a copy. Slicing 1D NumPy arrays works just like slicing Python lists, using the *[i:j]* notation:"
      ]
    },
    {
      "cell_type": "code",
      "metadata": {
        "colab": {
          "base_uri": "https://localhost:8080/"
        },
        "id": "K-1TCniJs4rR",
        "outputId": "4478b28f-c6c2-4e31-bd0b-e18ebff7ccb8"
      },
      "source": [
        "a = np.array([4,7,3,5,1,8])\n",
        "a"
      ],
      "execution_count": null,
      "outputs": [
        {
          "output_type": "execute_result",
          "data": {
            "text/plain": [
              "array([4, 7, 3, 5, 1, 8])"
            ]
          },
          "metadata": {},
          "execution_count": 42
        }
      ]
    },
    {
      "cell_type": "code",
      "metadata": {
        "colab": {
          "base_uri": "https://localhost:8080/"
        },
        "id": "NvQok5Bys4rR",
        "outputId": "ec98170b-00e1-4d78-8a70-2ad163c3cdf7"
      },
      "source": [
        "# Start at position 2, end before 4\n",
        "a[2:4]"
      ],
      "execution_count": null,
      "outputs": [
        {
          "output_type": "execute_result",
          "data": {
            "text/plain": [
              "array([3, 5])"
            ]
          },
          "metadata": {},
          "execution_count": 43
        }
      ]
    },
    {
      "cell_type": "code",
      "metadata": {
        "colab": {
          "base_uri": "https://localhost:8080/"
        },
        "id": "k9fVuQWTs4rR",
        "outputId": "7f795672-2b98-4867-8bfa-3cdb08c3e5a9"
      },
      "source": [
        "# From position 2 onwards\n",
        "a[2:]"
      ],
      "execution_count": null,
      "outputs": [
        {
          "output_type": "execute_result",
          "data": {
            "text/plain": [
              "array([3, 5, 1, 8])"
            ]
          },
          "metadata": {},
          "execution_count": 44
        }
      ]
    },
    {
      "cell_type": "code",
      "metadata": {
        "colab": {
          "base_uri": "https://localhost:8080/"
        },
        "id": "5_GuJA2Hs4rR",
        "outputId": "0a6cc7d8-ce3c-49d0-83b4-f3a540d22765"
      },
      "source": [
        "# Stop before position 4\n",
        "a[:4]"
      ],
      "execution_count": null,
      "outputs": [
        {
          "output_type": "execute_result",
          "data": {
            "text/plain": [
              "array([4, 7, 3, 5])"
            ]
          },
          "metadata": {},
          "execution_count": 45
        }
      ]
    },
    {
      "cell_type": "markdown",
      "metadata": {
        "id": "ZmSkkLuas4rR"
      },
      "source": [
        "Again we can also use this notation to change values in a slice of the array."
      ]
    },
    {
      "cell_type": "code",
      "metadata": {
        "colab": {
          "base_uri": "https://localhost:8080/"
        },
        "id": "NBVsoamWs4rR",
        "outputId": "5560d97e-a814-439f-a88b-84d2f2845f19"
      },
      "source": [
        "# Set everything from position 3 onwards to 0\n",
        "a[3:] = 0\n",
        "a"
      ],
      "execution_count": null,
      "outputs": [
        {
          "output_type": "execute_result",
          "data": {
            "text/plain": [
              "array([4, 7, 3, 0, 0, 0])"
            ]
          },
          "metadata": {},
          "execution_count": 46
        }
      ]
    },
    {
      "cell_type": "markdown",
      "metadata": {
        "id": "LNZLsA3Us4rS"
      },
      "source": [
        "For multidimensional arrays, we specify the slices for each dimension, separated by commas - e.g. for 2D *[i:j,p:q]*"
      ]
    },
    {
      "cell_type": "code",
      "metadata": {
        "colab": {
          "base_uri": "https://localhost:8080/"
        },
        "id": "2lI6re5Hs4rS",
        "outputId": "5c089283-625b-44cb-fb49-f0390449d779"
      },
      "source": [
        "r1 = [ 5, 9, 2, 11 ]\n",
        "r2 = [ 0, 5, 6, 4 ]\n",
        "r3 = [ 1, 8, 13, 16 ]\n",
        "m = np.array( [ r1, r2, r3 ] )\n",
        "m"
      ],
      "execution_count": null,
      "outputs": [
        {
          "output_type": "execute_result",
          "data": {
            "text/plain": [
              "array([[ 5,  9,  2, 11],\n",
              "       [ 0,  5,  6,  4],\n",
              "       [ 1,  8, 13, 16]])"
            ]
          },
          "metadata": {},
          "execution_count": 47
        }
      ]
    },
    {
      "cell_type": "code",
      "metadata": {
        "colab": {
          "base_uri": "https://localhost:8080/"
        },
        "id": "1KKjoncFs4rS",
        "outputId": "72346512-55de-4015-83ef-3a88ffb1713d"
      },
      "source": [
        "m[0:2,1:3]"
      ],
      "execution_count": null,
      "outputs": [
        {
          "output_type": "execute_result",
          "data": {
            "text/plain": [
              "array([[9, 2],\n",
              "       [5, 6]])"
            ]
          },
          "metadata": {},
          "execution_count": 48
        }
      ]
    },
    {
      "cell_type": "code",
      "metadata": {
        "colab": {
          "base_uri": "https://localhost:8080/"
        },
        "id": "2fTZPbSCs4rS",
        "outputId": "5164a31f-843d-4ec3-8944-c5197ebe1242"
      },
      "source": [
        "# Get a full row\n",
        "m[0,:]"
      ],
      "execution_count": null,
      "outputs": [
        {
          "output_type": "execute_result",
          "data": {
            "text/plain": [
              "array([ 5,  9,  2, 11])"
            ]
          },
          "metadata": {},
          "execution_count": 49
        }
      ]
    },
    {
      "cell_type": "code",
      "metadata": {
        "colab": {
          "base_uri": "https://localhost:8080/"
        },
        "id": "xgwHVLeYs4rS",
        "outputId": "cf23e483-9ff8-46ab-a684-8702986c0e79"
      },
      "source": [
        "# Get a full column\n",
        "m[:,2]"
      ],
      "execution_count": null,
      "outputs": [
        {
          "output_type": "execute_result",
          "data": {
            "text/plain": [
              "array([ 2,  6, 13])"
            ]
          },
          "metadata": {},
          "execution_count": 50
        }
      ]
    },
    {
      "cell_type": "markdown",
      "metadata": {
        "id": "QSI7-VnSs4rS"
      },
      "source": [
        "### Basic Array Operations"
      ]
    },
    {
      "cell_type": "markdown",
      "metadata": {
        "id": "Wtv5pO5Ks4rS"
      },
      "source": [
        "We can run batch operations on NumPy arrays without writing for loops. These operations create a new copy of the original array."
      ]
    },
    {
      "cell_type": "code",
      "metadata": {
        "colab": {
          "base_uri": "https://localhost:8080/"
        },
        "id": "OrC6Uo39s4rS",
        "outputId": "60fe8ecb-ea20-4d0c-cfe8-b14d591195de"
      },
      "source": [
        "d = np.array([[1,4,2], [9,8,2]])\n",
        "d"
      ],
      "execution_count": null,
      "outputs": [
        {
          "output_type": "execute_result",
          "data": {
            "text/plain": [
              "array([[1, 4, 2],\n",
              "       [9, 8, 2]])"
            ]
          },
          "metadata": {},
          "execution_count": 51
        }
      ]
    },
    {
      "cell_type": "code",
      "metadata": {
        "colab": {
          "base_uri": "https://localhost:8080/"
        },
        "id": "qqBDlpxgs4rS",
        "outputId": "f77bfb3b-355c-432c-b20f-04e1972ce8ac"
      },
      "source": [
        "d * 5"
      ],
      "execution_count": null,
      "outputs": [
        {
          "output_type": "execute_result",
          "data": {
            "text/plain": [
              "array([[ 5, 20, 10],\n",
              "       [45, 40, 10]])"
            ]
          },
          "metadata": {},
          "execution_count": 52
        }
      ]
    },
    {
      "cell_type": "code",
      "metadata": {
        "colab": {
          "base_uri": "https://localhost:8080/"
        },
        "id": "l7wfMhZRs4rS",
        "outputId": "1c498bcf-1c4f-4fc0-bedb-bfaf801a2f46"
      },
      "source": [
        "d / 2"
      ],
      "execution_count": null,
      "outputs": [
        {
          "output_type": "execute_result",
          "data": {
            "text/plain": [
              "array([[0.5, 2. , 1. ],\n",
              "       [4.5, 4. , 1. ]])"
            ]
          },
          "metadata": {},
          "execution_count": 53
        }
      ]
    },
    {
      "cell_type": "code",
      "metadata": {
        "colab": {
          "base_uri": "https://localhost:8080/"
        },
        "id": "m4T6W-mZs4rT",
        "outputId": "630e6a53-dc80-438a-cbaa-2c6743cf081c"
      },
      "source": [
        "d + 1"
      ],
      "execution_count": null,
      "outputs": [
        {
          "output_type": "execute_result",
          "data": {
            "text/plain": [
              "array([[ 2,  5,  3],\n",
              "       [10,  9,  3]])"
            ]
          },
          "metadata": {},
          "execution_count": 54
        }
      ]
    },
    {
      "cell_type": "code",
      "metadata": {
        "colab": {
          "base_uri": "https://localhost:8080/"
        },
        "id": "_CI_pXGWs4rT",
        "outputId": "399b5a44-90ed-46a1-a6ab-58488551159e"
      },
      "source": [
        "1.0/d"
      ],
      "execution_count": null,
      "outputs": [
        {
          "output_type": "execute_result",
          "data": {
            "text/plain": [
              "array([[1.        , 0.25      , 0.5       ],\n",
              "       [0.11111111, 0.125     , 0.5       ]])"
            ]
          },
          "metadata": {},
          "execution_count": 55
        }
      ]
    },
    {
      "cell_type": "code",
      "metadata": {
        "colab": {
          "base_uri": "https://localhost:8080/"
        },
        "id": "kWNh8kgxs4rT",
        "outputId": "dc4cd6b6-74eb-4c6e-9098-586ae4e8973e"
      },
      "source": [
        "# *** note this is multiplying corresponding elements together ***\n",
        "d * d"
      ],
      "execution_count": null,
      "outputs": [
        {
          "output_type": "execute_result",
          "data": {
            "text/plain": [
              "array([[ 1, 16,  4],\n",
              "       [81, 64,  4]])"
            ]
          },
          "metadata": {},
          "execution_count": 56
        }
      ]
    },
    {
      "cell_type": "markdown",
      "metadata": {
        "id": "LMWqhKIHs4rT"
      },
      "source": [
        "We can also apply functions to all elements in an array."
      ]
    },
    {
      "cell_type": "code",
      "metadata": {
        "colab": {
          "base_uri": "https://localhost:8080/"
        },
        "id": "6FXku7nvs4rT",
        "outputId": "27afa933-14b8-42dd-8e5e-cba930479fab"
      },
      "source": [
        "# calculate the log of every element in d\n",
        "np.log(d)"
      ],
      "execution_count": null,
      "outputs": [
        {
          "output_type": "execute_result",
          "data": {
            "text/plain": [
              "array([[0.        , 1.38629436, 0.69314718],\n",
              "       [2.19722458, 2.07944154, 0.69314718]])"
            ]
          },
          "metadata": {},
          "execution_count": 57
        }
      ]
    },
    {
      "cell_type": "code",
      "metadata": {
        "colab": {
          "base_uri": "https://localhost:8080/"
        },
        "id": "jUTyUGMRs4rT",
        "outputId": "a2d79667-f54c-4a2e-c48c-0dcb18b10889"
      },
      "source": [
        "# apply square root to every element in d\n",
        "np.sqrt(d)"
      ],
      "execution_count": null,
      "outputs": [
        {
          "output_type": "execute_result",
          "data": {
            "text/plain": [
              "array([[1.        , 2.        , 1.41421356],\n",
              "       [3.        , 2.82842712, 1.41421356]])"
            ]
          },
          "metadata": {},
          "execution_count": 58
        }
      ]
    },
    {
      "cell_type": "markdown",
      "metadata": {
        "id": "t10igyGWs4rT"
      },
      "source": [
        "We can use standard boolean expressions in batch to all elements in an array. The result is a new boolean array of the same shape."
      ]
    },
    {
      "cell_type": "code",
      "metadata": {
        "colab": {
          "base_uri": "https://localhost:8080/"
        },
        "id": "BZE07S3Vs4rT",
        "outputId": "496ce78d-e72e-4128-f902-469bad3cf5d6"
      },
      "source": [
        "# which elements are greater than 2?\n",
        "d > 2"
      ],
      "execution_count": null,
      "outputs": [
        {
          "output_type": "execute_result",
          "data": {
            "text/plain": [
              "array([[False,  True, False],\n",
              "       [ True,  True, False]])"
            ]
          },
          "metadata": {},
          "execution_count": 59
        }
      ]
    },
    {
      "cell_type": "code",
      "metadata": {
        "colab": {
          "base_uri": "https://localhost:8080/"
        },
        "id": "hGHJHY5ts4rT",
        "outputId": "f77ea597-9486-4d17-d8c9-d1e0cc12b06f"
      },
      "source": [
        "# return the values of the elements that are greater than 2\n",
        "d[d>2]"
      ],
      "execution_count": null,
      "outputs": [
        {
          "output_type": "execute_result",
          "data": {
            "text/plain": [
              "array([4, 9, 8])"
            ]
          },
          "metadata": {},
          "execution_count": 60
        }
      ]
    },
    {
      "cell_type": "code",
      "metadata": {
        "colab": {
          "base_uri": "https://localhost:8080/"
        },
        "id": "PXKdoVy-s4rU",
        "outputId": "9004b7bd-9dea-4234-8f02-a4caf5bbfe1a"
      },
      "source": [
        "# update the values that are less than 3\n",
        "d[d<3] = -1\n",
        "d"
      ],
      "execution_count": null,
      "outputs": [
        {
          "output_type": "execute_result",
          "data": {
            "text/plain": [
              "array([[-1,  4, -1],\n",
              "       [ 9,  8, -1]])"
            ]
          },
          "metadata": {},
          "execution_count": 61
        }
      ]
    },
    {
      "cell_type": "markdown",
      "metadata": {
        "id": "HohEELp2s4rU"
      },
      "source": [
        "### Basic Statistics"
      ]
    },
    {
      "cell_type": "markdown",
      "metadata": {
        "id": "hpuASk-3s4rU"
      },
      "source": [
        "NumPy arrays also have basic descriptive statistics functions."
      ]
    },
    {
      "cell_type": "code",
      "metadata": {
        "colab": {
          "base_uri": "https://localhost:8080/"
        },
        "id": "y9Q6vusMs4rU",
        "outputId": "a2969584-bb6c-46b7-82ae-7de5896051bc"
      },
      "source": [
        "m = np.linspace(1, 20, 5)\n",
        "m"
      ],
      "execution_count": null,
      "outputs": [
        {
          "output_type": "execute_result",
          "data": {
            "text/plain": [
              "array([ 1.  ,  5.75, 10.5 , 15.25, 20.  ])"
            ]
          },
          "metadata": {},
          "execution_count": 62
        }
      ]
    },
    {
      "cell_type": "code",
      "metadata": {
        "colab": {
          "base_uri": "https://localhost:8080/"
        },
        "id": "9R3AiriFs4rU",
        "outputId": "429be2d8-cc1d-4064-92c0-70beba442087"
      },
      "source": [
        "m.mean()"
      ],
      "execution_count": null,
      "outputs": [
        {
          "output_type": "execute_result",
          "data": {
            "text/plain": [
              "10.5"
            ]
          },
          "metadata": {},
          "execution_count": 63
        }
      ]
    },
    {
      "cell_type": "code",
      "metadata": {
        "colab": {
          "base_uri": "https://localhost:8080/"
        },
        "id": "4-ly81lms4rU",
        "outputId": "d1c473f6-6667-47da-c1f0-d5306dbc8f59"
      },
      "source": [
        "m.max()"
      ],
      "execution_count": null,
      "outputs": [
        {
          "output_type": "execute_result",
          "data": {
            "text/plain": [
              "20.0"
            ]
          },
          "metadata": {},
          "execution_count": 64
        }
      ]
    },
    {
      "cell_type": "code",
      "metadata": {
        "colab": {
          "base_uri": "https://localhost:8080/"
        },
        "id": "MHdXeBXxs4rU",
        "outputId": "67033420-d6d1-428f-c14c-89b229b7d013"
      },
      "source": [
        "m.min()"
      ],
      "execution_count": null,
      "outputs": [
        {
          "output_type": "execute_result",
          "data": {
            "text/plain": [
              "1.0"
            ]
          },
          "metadata": {},
          "execution_count": 65
        }
      ]
    },
    {
      "cell_type": "markdown",
      "metadata": {
        "id": "C4yhmbnrs4rU"
      },
      "source": [
        "For multidimensional arrays, the above can also take an optional axis parameter. If this is specified, calculations are only performed along that axis (dimension) and the result is a new array."
      ]
    },
    {
      "cell_type": "code",
      "metadata": {
        "colab": {
          "base_uri": "https://localhost:8080/"
        },
        "id": "idMi48Its4rU",
        "outputId": "a823893b-ca1f-44c1-c7c7-5cd897b02da5"
      },
      "source": [
        "d = np.array([[5,4,0],[0,1,2]])\n",
        "d"
      ],
      "execution_count": null,
      "outputs": [
        {
          "output_type": "execute_result",
          "data": {
            "text/plain": [
              "array([[5, 4, 0],\n",
              "       [0, 1, 2]])"
            ]
          },
          "metadata": {},
          "execution_count": 66
        }
      ]
    },
    {
      "cell_type": "code",
      "metadata": {
        "colab": {
          "base_uri": "https://localhost:8080/"
        },
        "id": "GCZPk4J7s4rV",
        "outputId": "ae8fc58a-f56a-42d5-d8fb-9e65b704afb5"
      },
      "source": [
        "# mean of all values\n",
        "d = np.array([[5,4,0],[0,1,2]])\n",
        "d.mean()"
      ],
      "execution_count": null,
      "outputs": [
        {
          "output_type": "execute_result",
          "data": {
            "text/plain": [
              "2.0"
            ]
          },
          "metadata": {},
          "execution_count": 67
        }
      ]
    },
    {
      "cell_type": "code",
      "metadata": {
        "colab": {
          "base_uri": "https://localhost:8080/"
        },
        "id": "t_yao7jps4rV",
        "outputId": "b6026675-bd54-45fc-b80f-3bb35fb2e263"
      },
      "source": [
        "# Mean for each of the 3 columns\n",
        "d.mean(axis=0)"
      ],
      "execution_count": null,
      "outputs": [
        {
          "output_type": "execute_result",
          "data": {
            "text/plain": [
              "array([2.5, 2.5, 1. ])"
            ]
          },
          "metadata": {},
          "execution_count": 68
        }
      ]
    },
    {
      "cell_type": "code",
      "metadata": {
        "colab": {
          "base_uri": "https://localhost:8080/"
        },
        "id": "Yp1C4fMes4rV",
        "outputId": "64db2610-45d3-4d73-ca79-dcbe2405c5d1"
      },
      "source": [
        "# Mean for each of the 2 rows\n",
        "d.mean(axis=1)"
      ],
      "execution_count": null,
      "outputs": [
        {
          "output_type": "execute_result",
          "data": {
            "text/plain": [
              "array([3., 1.])"
            ]
          },
          "metadata": {},
          "execution_count": 69
        }
      ]
    },
    {
      "cell_type": "markdown",
      "metadata": {
        "id": "3_pRYXqQs4rV"
      },
      "source": [
        "However, mean with a single precision can be inaccurate. Let's compute the mean with a higher precision."
      ]
    },
    {
      "cell_type": "code",
      "metadata": {
        "colab": {
          "base_uri": "https://localhost:8080/"
        },
        "id": "taRUwh2Es4rV",
        "outputId": "9d5c1a45-0fed-4f49-b699-bc4195c751f2"
      },
      "source": [
        "a = np.zeros((2, 512*512))\n",
        "a[0, :] = 1.0\n",
        "a[1, :] = 0.1\n",
        "a.shape"
      ],
      "execution_count": null,
      "outputs": [
        {
          "output_type": "execute_result",
          "data": {
            "text/plain": [
              "(2, 262144)"
            ]
          },
          "metadata": {},
          "execution_count": 70
        }
      ]
    },
    {
      "cell_type": "code",
      "metadata": {
        "colab": {
          "base_uri": "https://localhost:8080/"
        },
        "id": "Kz8817Jas4rV",
        "outputId": "0b6abf32-c287-41b9-fd92-c4f2e4efb49c"
      },
      "source": [
        "a"
      ],
      "execution_count": null,
      "outputs": [
        {
          "output_type": "execute_result",
          "data": {
            "text/plain": [
              "array([[1. , 1. , 1. , ..., 1. , 1. , 1. ],\n",
              "       [0.1, 0.1, 0.1, ..., 0.1, 0.1, 0.1]])"
            ]
          },
          "metadata": {},
          "execution_count": 71
        }
      ]
    },
    {
      "cell_type": "code",
      "metadata": {
        "colab": {
          "base_uri": "https://localhost:8080/"
        },
        "id": "vReqPC98s4rV",
        "outputId": "55a5ce63-e756-47d1-e490-cb0a9a6b01d3"
      },
      "source": [
        "# Computing the mean in float32 is more accurate:\n",
        "a.mean(dtype=np.float32)"
      ],
      "execution_count": null,
      "outputs": [
        {
          "output_type": "execute_result",
          "data": {
            "text/plain": [
              "0.54999924"
            ]
          },
          "metadata": {},
          "execution_count": 72
        }
      ]
    },
    {
      "cell_type": "code",
      "metadata": {
        "colab": {
          "base_uri": "https://localhost:8080/"
        },
        "id": "7wm-H_ems4rV",
        "outputId": "8eedac74-17df-4b6f-b787-f7187293d68f"
      },
      "source": [
        "# Computing the mean in float64 is more accurate:\n",
        "a.mean(dtype=np.float64)"
      ],
      "execution_count": null,
      "outputs": [
        {
          "output_type": "execute_result",
          "data": {
            "text/plain": [
              "0.5500000000000007"
            ]
          },
          "metadata": {},
          "execution_count": 73
        }
      ]
    },
    {
      "cell_type": "markdown",
      "metadata": {
        "id": "dBzpWydAs4rW"
      },
      "source": [
        "### Storing NumPy Data\n",
        "We can save and load NumPy arrays in comma-separated format."
      ]
    },
    {
      "cell_type": "code",
      "metadata": {
        "colab": {
          "base_uri": "https://localhost:8080/"
        },
        "id": "Z29NfJfcs4rW",
        "outputId": "e5e8db70-665e-4c39-a7a0-db321744cf79"
      },
      "source": [
        "# Generate a random 1D array\n",
        "v = np.random.randn(20)\n",
        "# reshape this into a 2D array\n",
        "a = v.reshape(5,4)\n",
        "a"
      ],
      "execution_count": null,
      "outputs": [
        {
          "output_type": "execute_result",
          "data": {
            "text/plain": [
              "array([[-1.35206824, -1.28404935, -0.04182445, -0.15044396],\n",
              "       [-0.15586512, -0.94559608,  0.07968758,  0.00635695],\n",
              "       [-0.18636615,  1.22052899, -0.37694882, -0.04925892],\n",
              "       [-0.25041747,  1.04091792,  1.12021636, -0.92758739],\n",
              "       [ 0.82956272, -0.74356958, -0.91579312, -0.62071218]])"
            ]
          },
          "metadata": {},
          "execution_count": 74
        }
      ]
    },
    {
      "cell_type": "markdown",
      "metadata": {
        "id": "6360ss5Xs4rW"
      },
      "source": [
        "Save the data in the array, with a comma delimiter separating each value"
      ]
    },
    {
      "cell_type": "code",
      "metadata": {
        "id": "EFJ25MA6s4rW"
      },
      "source": [
        "np.savetxt(\"data\\random.csv\",a,delimiter=\",\")"
      ],
      "execution_count": null,
      "outputs": []
    },
    {
      "cell_type": "markdown",
      "metadata": {
        "id": "CewBt5L6s4rW"
      },
      "source": [
        "Load the data back into a new array"
      ]
    },
    {
      "cell_type": "code",
      "metadata": {
        "colab": {
          "base_uri": "https://localhost:8080/"
        },
        "id": "96tVUR4Js4rW",
        "outputId": "8d016a71-0429-4072-b3ec-0c2f6dc16728"
      },
      "source": [
        "x = np.loadtxt(\"data\\random.csv\",delimiter=\",\")\n",
        "x"
      ],
      "execution_count": null,
      "outputs": [
        {
          "output_type": "execute_result",
          "data": {
            "text/plain": [
              "array([[-1.35206824, -1.28404935, -0.04182445, -0.15044396],\n",
              "       [-0.15586512, -0.94559608,  0.07968758,  0.00635695],\n",
              "       [-0.18636615,  1.22052899, -0.37694882, -0.04925892],\n",
              "       [-0.25041747,  1.04091792,  1.12021636, -0.92758739],\n",
              "       [ 0.82956272, -0.74356958, -0.91579312, -0.62071218]])"
            ]
          },
          "metadata": {},
          "execution_count": 76
        }
      ]
    },
    {
      "cell_type": "markdown",
      "metadata": {
        "id": "C1YhJgzFs4rX"
      },
      "source": [
        "### Visualising NumPy Data\n",
        "Matplotlib can be used in conjunction with NumPy arrays to visualise numeric data. in the same way we used it previously for values in standard lists."
      ]
    },
    {
      "cell_type": "code",
      "metadata": {
        "id": "B4oq2AIhs4rX"
      },
      "source": [
        "import matplotlib\n",
        "import matplotlib.pyplot as plt\n",
        "%matplotlib inline"
      ],
      "execution_count": null,
      "outputs": []
    },
    {
      "cell_type": "markdown",
      "metadata": {
        "id": "WvMK0Swos4rX"
      },
      "source": [
        "As an example, we will create a scatter plot of one 1D array against another 1D array.\n",
        "\n",
        "First, we generate a set of example X values."
      ]
    },
    {
      "cell_type": "code",
      "metadata": {
        "colab": {
          "base_uri": "https://localhost:8080/"
        },
        "id": "hyLx2mT0s4rX",
        "outputId": "23c6708d-2403-4455-d0d8-85bb937dedb9"
      },
      "source": [
        "x = np.linspace(0.1, 1.0, 12)\n",
        "x"
      ],
      "execution_count": null,
      "outputs": [
        {
          "output_type": "execute_result",
          "data": {
            "text/plain": [
              "array([0.1       , 0.18181818, 0.26363636, 0.34545455, 0.42727273,\n",
              "       0.50909091, 0.59090909, 0.67272727, 0.75454545, 0.83636364,\n",
              "       0.91818182, 1.        ])"
            ]
          },
          "metadata": {},
          "execution_count": 78
        }
      ]
    },
    {
      "cell_type": "markdown",
      "metadata": {
        "id": "UPXlhOpXs4rX"
      },
      "source": [
        "For the Y values, we will generate an array with the same number of random values."
      ]
    },
    {
      "cell_type": "code",
      "metadata": {
        "colab": {
          "base_uri": "https://localhost:8080/"
        },
        "id": "NwULx6pTs4rX",
        "outputId": "3f9072fb-ddd5-4df9-a2be-59182d6d013e"
      },
      "source": [
        "y = np.random.randn(12)\n",
        "y"
      ],
      "execution_count": null,
      "outputs": [
        {
          "output_type": "execute_result",
          "data": {
            "text/plain": [
              "array([ 2.02275082,  0.34047543,  0.1042418 ,  0.70843137,  1.28142148,\n",
              "        1.27768236,  0.05154617, -2.05539343,  1.97577077,  0.68070447,\n",
              "        1.34775241,  0.204581  ])"
            ]
          },
          "metadata": {},
          "execution_count": 79
        }
      ]
    },
    {
      "cell_type": "code",
      "metadata": {
        "colab": {
          "base_uri": "https://localhost:8080/",
          "height": 73
        },
        "id": "hHpJoBvqs4rX",
        "outputId": "46354692-f5cd-4747-9d04-2f6a932bc97a"
      },
      "source": [
        "# create the figure\n",
        "plt.figure(figsize=(9,5))\n",
        "# create a scatter plot\n",
        "plt.scatter(x, y, c=\"green\", s=150, marker=\"o\")\n",
        "# add labels to the axes\n",
        "plt.xlabel(\"X Numbers\", fontsize=13)\n",
        "plt.ylabel(\"Y Numbers\", fontsize=13)"
      ],
      "execution_count": null,
      "outputs": [
        {
          "output_type": "execute_result",
          "data": {
            "text/plain": [
              "Text(0, 0.5, 'Y Numbers')"
            ]
          },
          "metadata": {},
          "execution_count": 80
        },
        {
          "output_type": "display_data",
          "data": {
            "image/png": "[encoded data removed]",
            "text/plain": [
              "<Figure size 648x360 with 1 Axes>"
            ]
          },
          "metadata": {
            "needs_background": "light"
          }
        }
      ]
    },
    {
      "cell_type": "markdown",
      "metadata": {
        "id": "0jZBKIE_s4rY"
      },
      "source": [
        "For 2D NumPy arrays, a common type of visualisation is a colour plot, which can be produced using Matplotlib."
      ]
    },
    {
      "cell_type": "code",
      "metadata": {
        "colab": {
          "base_uri": "https://localhost:8080/"
        },
        "id": "Z_L-v-M6s4rY",
        "outputId": "bead4656-890b-45d5-9408-b8f65a9de2f9"
      },
      "source": [
        "# Generate a random 1D array\n",
        "v = np.random.randn(20)\n",
        "# reshape this into a 2D array\n",
        "a = v.reshape(5,4)\n",
        "a"
      ],
      "execution_count": null,
      "outputs": [
        {
          "output_type": "execute_result",
          "data": {
            "text/plain": [
              "array([[-0.62343094,  0.61924612,  1.36203046,  0.58210872],\n",
              "       [ 1.1825267 , -0.01828599, -1.04867861,  0.42953636],\n",
              "       [ 0.76842214,  0.12669489,  2.48458851, -0.34835457],\n",
              "       [ 1.86371514, -0.00295507, -0.57520773, -1.39575191],\n",
              "       [ 0.31406654,  0.30755673,  0.06869625,  0.37167102]])"
            ]
          },
          "metadata": {},
          "execution_count": 81
        }
      ]
    },
    {
      "cell_type": "markdown",
      "metadata": {
        "id": "cMrbDeOvs4rY"
      },
      "source": [
        "We create a plot, where each entry in the coloured matrix corresponds to an entry in the original 2D arra.y"
      ]
    },
    {
      "cell_type": "code",
      "metadata": {
        "colab": {
          "base_uri": "https://localhost:8080/",
          "height": 73
        },
        "id": "OYFluASMs4rY",
        "outputId": "95626d60-f156-4cd8-8449-dea8c5686c0f"
      },
      "source": [
        "# create the figure\n",
        "plt.figure(figsize=(8,6))\n",
        "# set ticks of axis_x to be integer\n",
        "plt.xticks(np.arange(0, 5, step=1))\n",
        "# draw the coloured matrix\n",
        "plt.pcolor(a)\n",
        "# draw the legend bar beside the heatmap\n",
        "plt.colorbar()"
      ],
      "execution_count": null,
      "outputs": [
        {
          "output_type": "execute_result",
          "data": {
            "text/plain": [
              "<matplotlib.colorbar.Colorbar at 0x7f8fd3b99e10>"
            ]
          },
          "metadata": {},
          "execution_count": 82
        },
        {
          "output_type": "display_data",
          "data": {
            "image/png": "[encoded data removed]",
            "text/plain": [
              "<Figure size 576x432 with 2 Axes>"
            ]
          },
          "metadata": {
            "needs_background": "light"
          }
        }
      ]
    },
    {
      "cell_type": "markdown",
      "metadata": {
        "id": "IYYdtohUs4rY"
      },
      "source": [
        "### Using Pandas with NumPy\n",
        "Since Pandas is built on top of NumPy, we can easily convert values between a NumPy array and a Pandas Series or Data Frame."
      ]
    },
    {
      "cell_type": "code",
      "metadata": {
        "id": "ewOEZpR1s4rY"
      },
      "source": [
        "import pandas as pd"
      ],
      "execution_count": null,
      "outputs": []
    },
    {
      "cell_type": "markdown",
      "metadata": {
        "id": "ku2yzdJ9s4rY"
      },
      "source": [
        "Firstly, we will go from an array to a Data Frame:"
      ]
    },
    {
      "cell_type": "code",
      "metadata": {
        "colab": {
          "base_uri": "https://localhost:8080/"
        },
        "id": "cJ0T19TQs4rZ",
        "outputId": "fa8e079d-ce8b-418e-f695-823d4f1058e7"
      },
      "source": [
        "# Generate a random 1D array\n",
        "v = np.random.randn(12)\n",
        "# reshape this into a 2D array\n",
        "m = v.reshape(4,3)\n",
        "print(m)"
      ],
      "execution_count": null,
      "outputs": [
        {
          "output_type": "stream",
          "name": "stdout",
          "text": [
            "[[-0.04055345 -0.70870742 -0.12695505]\n",
            " [-0.18319228 -0.9527176   0.91380476]\n",
            " [-1.14265413 -0.92428252 -0.86378186]\n",
            " [ 0.36594235  1.45873332 -0.40825778]]\n"
          ]
        }
      ]
    },
    {
      "cell_type": "code",
      "metadata": {
        "colab": {
          "base_uri": "https://localhost:8080/",
          "height": 195
        },
        "id": "NgbQAdVGs4rZ",
        "outputId": "7b4ce2fe-e69f-4cad-845b-ef27fc9f0bad"
      },
      "source": [
        "col_index = [\"A\",\"B\",\"C\"]\n",
        "row_index = [\"r1\",\"r2\",\"r3\",\"r4\"]\n",
        "df = pd.DataFrame(m, columns=col_index, index=row_index )\n",
        "df"
      ],
      "execution_count": null,
      "outputs": [
        {
          "output_type": "execute_result",
          "data": {
            "text/html": [
              "<div>\n",
              "<style scoped>\n",
              "    .dataframe tbody tr th:only-of-type {\n",
              "        vertical-align: middle;\n",
              "    }\n",
              "\n",
              "    .dataframe tbody tr th {\n",
              "        vertical-align: top;\n",
              "    }\n",
              "\n",
              "    .dataframe thead th {\n",
              "        text-align: right;\n",
              "    }\n",
              "</style>\n",
              "<table border=\"1\" class=\"dataframe\">\n",
              "  <thead>\n",
              "    <tr style=\"text-align: right;\">\n",
              "      <th></th>\n",
              "      <th>A</th>\n",
              "      <th>B</th>\n",
              "      <th>C</th>\n",
              "    </tr>\n",
              "  </thead>\n",
              "  <tbody>\n",
              "    <tr>\n",
              "      <th>r1</th>\n",
              "      <td>-0.040553</td>\n",
              "      <td>-0.708707</td>\n",
              "      <td>-0.126955</td>\n",
              "    </tr>\n",
              "    <tr>\n",
              "      <th>r2</th>\n",
              "      <td>-0.183192</td>\n",
              "      <td>-0.952718</td>\n",
              "      <td>0.913805</td>\n",
              "    </tr>\n",
              "    <tr>\n",
              "      <th>r3</th>\n",
              "      <td>-1.142654</td>\n",
              "      <td>-0.924283</td>\n",
              "      <td>-0.863782</td>\n",
              "    </tr>\n",
              "    <tr>\n",
              "      <th>r4</th>\n",
              "      <td>0.365942</td>\n",
              "      <td>1.458733</td>\n",
              "      <td>-0.408258</td>\n",
              "    </tr>\n",
              "  </tbody>\n",
              "</table>\n",
              "</div>"
            ],
            "text/plain": [
              "           A         B         C\n",
              "r1 -0.040553 -0.708707 -0.126955\n",
              "r2 -0.183192 -0.952718  0.913805\n",
              "r3 -1.142654 -0.924283 -0.863782\n",
              "r4  0.365942  1.458733 -0.408258"
            ]
          },
          "metadata": {},
          "execution_count": 85
        }
      ]
    },
    {
      "cell_type": "markdown",
      "metadata": {
        "id": "O5mI9gJWs4rZ"
      },
      "source": [
        "We can also go from a DataFrame to an array. Note that we lose the row and column index information."
      ]
    },
    {
      "cell_type": "code",
      "metadata": {
        "colab": {
          "base_uri": "https://localhost:8080/"
        },
        "id": "scRO-Xovs4rZ",
        "outputId": "1ec4320f-19ea-408a-d096-8eb1df15b5bc"
      },
      "source": [
        "m2 = np.array( df )\n",
        "m2"
      ],
      "execution_count": null,
      "outputs": [
        {
          "output_type": "execute_result",
          "data": {
            "text/plain": [
              "array([[-0.04055345, -0.70870742, -0.12695505],\n",
              "       [-0.18319228, -0.9527176 ,  0.91380476],\n",
              "       [-1.14265413, -0.92428252, -0.86378186],\n",
              "       [ 0.36594235,  1.45873332, -0.40825778]])"
            ]
          },
          "metadata": {},
          "execution_count": 86
        }
      ]
    },
    {
      "cell_type": "code",
      "metadata": {
        "id": "PErru0Eqs4rZ"
      },
      "source": [],
      "execution_count": null,
      "outputs": []
    }
  ]
}