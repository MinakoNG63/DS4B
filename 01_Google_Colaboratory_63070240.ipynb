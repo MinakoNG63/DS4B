{
  "nbformat": 4,
  "nbformat_minor": 0,
  "metadata": {
    "kernelspec": {
      "display_name": "Python 3",
      "language": "python",
      "name": "python3"
    },
    "language_info": {
      "codemirror_mode": {
        "name": "ipython",
        "version": 3
      },
      "file_extension": ".py",
      "mimetype": "text/x-python",
      "name": "python",
      "nbconvert_exporter": "python",
      "pygments_lexer": "ipython3",
      "version": "3.7.3"
    },
    "colab": {
      "provenance": [],
      "include_colab_link": true
    }
  },
  "cells": [
    {
      "cell_type": "markdown",
      "metadata": {
        "id": "view-in-github",
        "colab_type": "text"
      },
      "source": [
        "<a href=\"https://colab.research.google.com/github/MinakoNG63/DSFB/blob/main/01_Google_Colaboratory_63070240.ipynb\" target=\"_parent\"><img src=\"https://colab.research.google.com/assets/colab-badge.svg\" alt=\"Open In Colab\"/></a>"
      ]
    },
    {
      "cell_type": "markdown",
      "metadata": {
        "id": "r5-paDZ3JE11"
      },
      "source": [
        "# Google Colaboratory\n",
        "\n",
        "\n",
        "Term 1 2022 - Instructor: Teerapong Leelanupab\n",
        "\n",
        "Teaching Assistant:\n",
        "1. Piyawat Chuangkrud (Sam)\n",
        "2. Suvapat Manu (Mint)\n",
        "\n",
        "***"
      ]
    },
    {
      "cell_type": "code",
      "source": [
        "print(\"Hello\")"
      ],
      "metadata": {
        "colab": {
          "base_uri": "https://localhost:8080/"
        },
        "id": "MGFdgXUeMo30",
        "outputId": "9e2248be-9393-49c0-e47d-ac28fb807358"
      },
      "execution_count": null,
      "outputs": [
        {
          "output_type": "stream",
          "name": "stdout",
          "text": [
            "Hello\n"
          ]
        }
      ]
    },
    {
      "cell_type": "markdown",
      "source": [
        "**Tool --> Keyboard shortcuts**\n",
        "\n",
        "*   ctr+m+b เพิ่ม cell ด้านล่าง\n",
        "*   ctr+m+a เพิ่ม cell ด้านบน\n",
        "*   crt+m+d ลบ cell\n",
        "\n"
      ],
      "metadata": {
        "id": "wXJAV6eCHQ75"
      }
    },
    {
      "cell_type": "markdown",
      "metadata": {
        "id": "BsOu7RYWJE14"
      },
      "source": [
        "## Python\n",
        "\n",
        "Python is a programming language that has been growing in popularity in recent years. There are many reasons for this, but it mostly comes down to Python being easy to learn and use as well as the fact that Python has a very active community that continually develops and improves amazing extensions to Python!\n",
        "\n",
        "Python has become one of the most frequently used languages in the world of data science due to the ability to almost instantly apply it to a large number of data science problems. When asking stakeholders in companies in different industries and of various sizes what language they would like their data scientists to know when coming in, Python is a consistently popular choice. If you are going to learn one language (something everyone should do!), Python would be a great choice.\n",
        "\n",
        "From this language, other languages, features and packages have been created: Pandas, Numpy, Matplotlib, and others that we will be using during this course. For more info please visit https://www.python.org/doc/\n"
      ]
    },
    {
      "cell_type": "markdown",
      "metadata": {
        "collapsed": true,
        "id": "aae5U3XUJE14"
      },
      "source": [
        "## Google Colaboratory\n",
        "\n",
        "One extremely useful tool for modern data analytics is \"Google Colaboratory\". We will use Google Colaboratory for many of the labs and assignments in this course, \"<b>Data Science for Business</b>\".\n",
        "\n",
        "The IPython Notebook is now known as the Google Colaboratory. It is an interactive computational environment, in which you can combine code execution, rich text, mathematics, plots and rich media. It is a web application that allows you to create and share documents that contain live code, equations, visualizations and explanatory text. Uses include: data cleaning and transformation, numerical simulation, statistical modeling, machine learning and much more.\n",
        "\n",
        "- Language: The Google Colaboratory has support for over 40 programming languages, including those popular in Data Science such as Python and R.\n",
        "\n",
        "- Sharing: Notebooks can be shared with others using email, Dropbox, GitHub and the Google Colaboratory Viewer.\n",
        "\n",
        "- Widgets (apps): Code can produce rich output such as images, videos, LaTeX, and JavaScript. Interactive widgets can be used to manipulate and visualize data in realtime.\n",
        "\n",
        "\n",
        "IPython Notebooks are made up of cells, which have <b>two</b> fundamental types:\n",
        "1. **Text cells** (comments): contain text content for explaining our notebook.\n",
        "2. **Code cells** (commands): allow us to type and run Python code.\n",
        "\n",
        "To get started, review the lectures notes on how to start the IPython Notebook and create a new notebook in your web browser.\n",
        "\n",
        "You can edit a cell by double clicking on it. You can get it back to the display mode (Run cell) by hitting \"**Ctrl-Enter**\" or by pressing the \"Play\" (▶) button, and you can also stop it with the \"square\" ◼︎ . Basically, all the tasks for cells can be found in the tool bar.  Try it now!  Double clicks this cell, then click the play button above. (Mine looks more like this: ▶| ) We'll explain what you just saw in a minute.\n",
        "\n",
        "\n",
        "For more details on the Google Colaboratory, please see the Google Colaboratory website https://colab.research.google.com/notebooks/intro.ipynb\n",
        "\n",
        "\n",
        "Steps to open a new notebook (you can open as many as you want!):\n",
        "\n",
        "\n",
        "\n",
        "<figure>\n",
        "<center>\n",
        "<img src='https://drive.google.com/uc?id=1R-6QyULnf_7ZLBw27XSNLq2J3xaJ4tFI' alt='NewNotebook' width=\"400\"/>\n",
        "<figcaption><em>NewNotebook</em>\n",
        "</figcaption></center>\n",
        "</figure>\n",
        "\n",
        "\n",
        "[Note: Google Colaboratory now uses Python 3 rather than Python 2.]\n",
        "\n",
        "This is how a new Ipython notebook looks:\n",
        "\n",
        "<figure>\n",
        "<center>\n",
        "<img src='https://drive.google.com/uc?id=1RH-I5dMLab_P6K-LAkmN239TnZclOu0G' alt='NewNotebook'/>\n",
        "<figcaption><em>NewNotebook</em>\n",
        "</figcaption></center>\n",
        "</figure>\n",
        "\n",
        "\n"
      ]
    },
    {
      "cell_type": "markdown",
      "metadata": {
        "id": "LyHtUxuZJE15"
      },
      "source": [
        "***\n",
        "\n",
        "## Text cells in a Google Colaboratory notebook\n",
        "\n",
        "It can often be helpful to provide explanatory text in notebooks. [Markdown](http://daringfireball.net/projects/markdown/) is a lightweight type of markup language with plain text formatting syntax which can be rendered as HTML for making text look more fancy. While there is no formal definition of the Markdown language, IPython  supports a set of commands which are commonly used elsewhere (e.g. Github, Reddit).\n",
        "\n",
        "To write text in a cell, we chose the cell dropdown list in the toolbar and change it from \"Code\" to \"Markdown.\" Doubleclick on this cell to see the markdown version.  Run the cell to see the formatted version."
      ]
    },
    {
      "cell_type": "markdown",
      "metadata": {
        "id": "-l_9CRVcJE16"
      },
      "source": [
        "***\n",
        "\n",
        "### Paragraph\n",
        "\n",
        "**Paragraph**: Paragraphs in Text are just one or more lines of consecutive text followed by one or more blank lines."
      ]
    },
    {
      "cell_type": "markdown",
      "metadata": {
        "id": "LQ3NtUchJE16"
      },
      "source": [
        "This is a paragraph of text."
      ]
    },
    {
      "cell_type": "markdown",
      "metadata": {
        "id": "FjF5RWb0JE17"
      },
      "source": [
        "***\n",
        "\n",
        "### Title, subtitle, section, subsection, etc.\n",
        "\n",
        "Now, you can write and do text formatting:\n",
        "\n",
        "**Styling Text**: We can create a heading by adding one or more `#` Hashtag (number sign) symbols before the heading texts or titles. The number of `#`'s used will determine the size of the font."
      ]
    },
    {
      "cell_type": "markdown",
      "metadata": {
        "id": "FKMFctYkJE17"
      },
      "source": [
        "- Hashtag (number sign) is useful \\# for titles\n",
        "\n",
        "# Heading 1\n",
        "## Heading 2\n",
        "### Heading 3\n",
        "#### Heading 4"
      ]
    },
    {
      "cell_type": "markdown",
      "metadata": {
        "id": "b0PUc6kUJE17"
      },
      "source": [
        "***\n",
        "\n",
        "### Highlight Text\n",
        "\n",
        "You can format text as *italic* or **bold** using one or two `*`'s respectively as well as  `\\_` as *italic*.\n",
        "\n",
        "- Simple \\*asterisk\\* or \\_underscores\\_ to emphasize things in *italic*: _example_.\n",
        "- Double **asterisks** to make things **bold**."
      ]
    },
    {
      "cell_type": "markdown",
      "metadata": {
        "id": "W-2YlVXVJE18"
      },
      "source": [
        "This is normal text."
      ]
    },
    {
      "cell_type": "markdown",
      "metadata": {
        "id": "WIOUozTpJE18"
      },
      "source": [
        "*This text will be in italics*"
      ]
    },
    {
      "cell_type": "markdown",
      "metadata": {
        "id": "Ewgp2ti-JE18"
      },
      "source": [
        "_This text will be in italics_"
      ]
    },
    {
      "cell_type": "markdown",
      "metadata": {
        "id": "HJ8fu8BMJE18"
      },
      "source": [
        "**And this text will be in bold**"
      ]
    },
    {
      "cell_type": "markdown",
      "metadata": {
        "id": "nvMsPENbJE19"
      },
      "source": [
        "***\n",
        "\n",
        "### List\n",
        "\n",
        "**Unordered lists**: We can make an unordered (bulleted) list by prefixing lines with either the `*` or `-` character."
      ]
    },
    {
      "cell_type": "markdown",
      "metadata": {
        "id": "Y_O_nMErJE19"
      },
      "source": [
        "* My item\n",
        "* Another item\n",
        "* Yet another item"
      ]
    },
    {
      "cell_type": "markdown",
      "metadata": {
        "id": "N24sgEJTJE19"
      },
      "source": [
        "**Ordered lists**: We can make an ordered (numbered) list by prefixing lines with a number."
      ]
    },
    {
      "cell_type": "markdown",
      "metadata": {
        "id": "Pyj1j6vDJE19"
      },
      "source": [
        "1. My first item\n",
        "2. Next item\n",
        "3. Final item\n",
        "\n",
        "***"
      ]
    },
    {
      "cell_type": "markdown",
      "metadata": {
        "id": "U7DeuCeHJE19"
      },
      "source": [
        "### Escaping, special characters\n",
        "\n",
        "You can escape special characters in Text by using:\n",
        "- Backslash (\\\\) to get those special characters not to act special (like in the preceeding).\n",
        "\n",
        "***"
      ]
    },
    {
      "cell_type": "markdown",
      "metadata": {
        "id": "OvREW3D0JE1-"
      },
      "source": [
        "### Links and others\n",
        "\n",
        "- You can create a hyperlink by wrapping text in square brackets (`[ ]`) and then wrapping the URL link or link to an image in parentheses (`( )`).\n",
        "\n",
        "For example: go to [Teerapong's homepage](http://www.it.kmitl.ac.th/~teerapong)\n",
        "\n",
        "- Also, HTML code is allowed. Some resources can be found in [HTML w3schools](http://www.w3schools.com/html/html_examples.asp) <p style=\"color:red;\">This is text formatted with HTML.</p>\n",
        "\n",
        "- And you can write math with $\\LaTeX$ (latex is a typesetting language for the production of scientific documents https://www.latex-project.org/): You use latex in Google Colaboratory Text cells by wrapping the latex code in dollar signs, $x = \\frac{-b \\pm \\sqrt{b^2 - 4ac}}{2a}$. If you don't know how to write a symbol, you can go to [Detexify](http://detexify.kirelabs.org/classify.html).\n",
        "\n",
        "***"
      ]
    },
    {
      "cell_type": "markdown",
      "source": [
        "**Latex**\n",
        "\n",
        "https://latex.codecogs.com/eqneditor/editor.php\n",
        "\n",
        "$\\int_{a}^{b}3x^{2}+2x+1$\n"
      ],
      "metadata": {
        "id": "DCH3n6f_OpYM"
      }
    },
    {
      "cell_type": "markdown",
      "metadata": {
        "id": "QaxIo863JE1-"
      },
      "source": [
        "## Code cells in a Google Colaboratory\n",
        "\n",
        "Now, let's take a look at a code cell (this is the default type of a Google Colaboratory cell). In a code cell, we can type any Python commands, running them by clicking \"Play\" in the toolbar. When we \"play\" a cell, the code in it is executed and it returns whatever is the result of running a code. (Maybe an error!)  You can modify and re-run code cells multiple times in any order. Importantly note that code cells will always start with \"`In [ ]:`\".\n",
        "\n",
        "We build our ipython notebooks with successive code cells, often interspersed with notes, images, and so on.  Because of this it is important to think of your notebook as a whole, and not just the individual cells.\n",
        "\n",
        "When a code cell is executed, the code that it contains is sent to the ‘kernel‘ associated with the notebook (i.e. the Python engine running in the background). That is, some of the results of running a cell are \"remembered\" for subsequent cells, as long as the session continues running.  Usually the session keeps running as long as you don't stop your instance and you keep the notebook window open.  Sometimes when you get errors in running your cells, it's because something from a prior cell was forgotten for some reason.  If you look above under the dropdown menu Kernel above, you'll see that there are options for clearing your outputs, rerunning all the cells, etc.\n",
        "\n",
        "The results that are returned from this computation are then displayed in the notebook as the cell’s output. Note that some code will not have an output.\n",
        "\n",
        "For example, in the following cell, it will remember that the **_VARIABLE_** called \"x\" is  the sum of two given numbers.  Once you run that cell, variable \"x\" will be available for use in cells below. Please select it and press the ▶ button to run it.  Then select the following cell and run it."
      ]
    },
    {
      "cell_type": "code",
      "metadata": {
        "id": "aI8IdyFjJE1-",
        "colab": {
          "base_uri": "https://localhost:8080/"
        },
        "outputId": "0dcd5442-7ef4-4d78-b36f-352def0a9e07"
      },
      "source": [
        "1 + 2   # output is the result"
      ],
      "execution_count": null,
      "outputs": [
        {
          "output_type": "execute_result",
          "data": {
            "text/plain": [
              "3"
            ]
          },
          "metadata": {
            "tags": []
          },
          "execution_count": 1
        }
      ]
    },
    {
      "cell_type": "code",
      "metadata": {
        "id": "EYG6uoEVJE1_"
      },
      "source": [
        "a = 25  # no output here"
      ],
      "execution_count": null,
      "outputs": []
    },
    {
      "cell_type": "code",
      "metadata": {
        "id": "dZmnbGVGJE1_",
        "colab": {
          "base_uri": "https://localhost:8080/"
        },
        "outputId": "df52bba7-4f37-4982-d7cd-a79b96ac27c1"
      },
      "source": [
        "print(a)  # output is produce by the print function"
      ],
      "execution_count": null,
      "outputs": [
        {
          "output_type": "stream",
          "text": [
            "25\n"
          ],
          "name": "stdout"
        }
      ]
    },
    {
      "cell_type": "markdown",
      "metadata": {
        "id": "zZ0lBRQgJE1_"
      },
      "source": [
        "Try to run the next two cells back and forth, and change some things and then rerun them.\n",
        "\n",
        "_Note_: Instead of having to manually go and click the \"Play\" button every time, you can also run a cell with your keyboard (*much easier!*). Just press **Ctrl + Enter** or **Shift + Enter**. Experiment with both of those to see what the difference is.\n",
        "\n",
        "Alternatively, we can execute the code in the selected cell, together with creating a new cell under it by hitting \"**Alt + Enter**\".\n",
        "\n",
        "Again, since it's important, IPython notebooks flow from **top to bottom**. This means that if a cell relies on a variable or function that was created earlier in the notebook, you must run the prior cell to make that information available in future cells  (_we cannot just call \"x\" in other cell if we don't run this one before_)! Try restarting and clearing all outputs (from the Kernel menu above), and then just run that last cell.  You should get an error saying that it doesn't know what \"x\" is.\n",
        "\n",
        "_Note_: The number in the \"In [#]:\" statement will always increase by one for every time you run a code cell -- even if it's an error or you rerun the same cell."
      ]
    },
    {
      "cell_type": "code",
      "metadata": {
        "id": "B96J4TdGJE2A",
        "colab": {
          "base_uri": "https://localhost:8080/"
        },
        "outputId": "e9c10365-45aa-4c8c-cd3f-46590be8e242"
      },
      "source": [
        "x = 5 + 5\n",
        "print (\"The value of the 'x' variable is \" + str(x) + \".\")"
      ],
      "execution_count": null,
      "outputs": [
        {
          "output_type": "stream",
          "text": [
            "The value of the 'x' variable is 10.\n"
          ],
          "name": "stdout"
        }
      ]
    },
    {
      "cell_type": "code",
      "metadata": {
        "id": "SBKSvBbRJE2A",
        "colab": {
          "base_uri": "https://localhost:8080/"
        },
        "outputId": "9c474b69-59e3-46e7-fb5d-64025c61b375"
      },
      "source": [
        "print(\"The value of the 'x' variable is *still* \" + str(x) + \" down here.\")"
      ],
      "execution_count": null,
      "outputs": [
        {
          "output_type": "stream",
          "text": [
            "The value of the 'x' variable is *still* 10 down here.\n"
          ],
          "name": "stdout"
        }
      ]
    }
  ]
}